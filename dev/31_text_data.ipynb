{
 "cells": [
  {
   "cell_type": "code",
   "execution_count": null,
   "metadata": {},
   "outputs": [],
   "source": [
    "#export\n",
    "from local.torch_basics import *\n",
    "from local.test import *\n",
    "from local.core import *\n",
    "from local.data.all import *\n",
    "from local.text.core import *\n",
    "from local.notebook.showdoc import show_doc"
   ]
  },
  {
   "cell_type": "code",
   "execution_count": null,
   "metadata": {},
   "outputs": [],
   "source": [
    "#default_exp text.data\n",
    "#default_cls_lvl 3"
   ]
  },
  {
   "cell_type": "markdown",
   "metadata": {},
   "source": [
    "# Text data\n",
    "\n",
    "> Functions and transforms to help gather text data in a `DataSource`"
   ]
  },
  {
   "cell_type": "markdown",
   "metadata": {},
   "source": [
    "## Numericalizing"
   ]
  },
  {
   "cell_type": "code",
   "execution_count": null,
   "metadata": {},
   "outputs": [],
   "source": [
    "#export\n",
    "def make_vocab(count, min_freq=3, max_vocab=60000):\n",
    "    \"Create a vocab of `max_vocab` size from `Counter` `count` with items present more than `min_freq`\"\n",
    "    vocab = [o for o,c in count.most_common(max_vocab) if c >= min_freq]\n",
    "    for o in reversed(defaults.text_spec_tok): #Make sure all special tokens are in the vocab\n",
    "        if o in vocab: vocab.remove(o)\n",
    "        vocab.insert(0, o)\n",
    "    vocab = vocab[:max_vocab]\n",
    "    return vocab + [f'xxfake' for i in range(0, 8-len(vocab)%8)]"
   ]
  },
  {
   "cell_type": "code",
   "execution_count": null,
   "metadata": {},
   "outputs": [],
   "source": [
    "count = Counter(['a', 'a', 'a', 'a', 'b', 'b', 'c', 'c', 'd'])\n",
    "test_eq(set([x for x in make_vocab(count) if not x.startswith('xxfake')]), \n",
    "        set(defaults.text_spec_tok + 'a'.split()))\n",
    "test_eq(len(make_vocab(count))%8, 0)\n",
    "test_eq(set([x for x in make_vocab(count, min_freq=1) if not x.startswith('xxfake')]), \n",
    "        set(defaults.text_spec_tok + 'a b c d'.split()))\n",
    "test_eq(set([x for x in make_vocab(count,max_vocab=12, min_freq=1) if not x.startswith('xxfake')]), \n",
    "        set(defaults.text_spec_tok + 'a b c'.split()))"
   ]
  },
  {
   "cell_type": "code",
   "execution_count": null,
   "metadata": {},
   "outputs": [],
   "source": [
    "#export\n",
    "class TensorText(TensorBase):\n",
    "    def get_ctxs(self, max_n=10, **kwargs):\n",
    "        n_samples = min(self.shape[0], max_n)\n",
    "        df = pd.DataFrame(index = range(n_samples))\n",
    "        return [df.iloc[i] for i in range(n_samples)]\n",
    "\n",
    "    def display(self, ctxs): display_df(pd.DataFrame(ctxs))"
   ]
  },
  {
   "cell_type": "code",
   "execution_count": null,
   "metadata": {},
   "outputs": [],
   "source": [
    "# export\n",
    "class Numericalize(Transform):\n",
    "    \"Reversible transform of tokenized texts to numericalized ids\"\n",
    "    def __init__(self, vocab=None, min_freq=3, max_vocab=60000, sep=' '):\n",
    "        self.vocab,self.min_freq,self.max_vocab,self.sep = vocab,min_freq,max_vocab,sep\n",
    "        self.o2i = None if vocab is None else defaultdict(int, {v:k for k,v in enumerate(vocab)})\n",
    "\n",
    "    def setup(self, dsrc):\n",
    "        if dsrc is None: return\n",
    "        if self.vocab is None:\n",
    "            dsrc = getattr(dsrc,'train',dsrc)\n",
    "            count = Counter(p for o in dsrc for p in o)\n",
    "            self.vocab = make_vocab(count, min_freq=self.min_freq, max_vocab=self.max_vocab)\n",
    "            self.o2i = defaultdict(int, {v:k for k,v in enumerate(self.vocab) if v != 'xxfake'})\n",
    "\n",
    "    def encodes(self, o): return TensorText(tensor([self.o2i  [o_] for o_ in o]))\n",
    "    def decodes(self, o): return Str(self.sep.join([self.vocab[o_] for o_ in o if self.vocab[o_] != PAD]))"
   ]
  },
  {
   "cell_type": "code",
   "execution_count": null,
   "metadata": {},
   "outputs": [],
   "source": [
    "num = Numericalize(min_freq=1, sep=' ')\n",
    "num.setup(L('This is an example of text'.split(), 'this is another text'.split()))\n",
    "test_eq(set([x for x in num.vocab if not x.startswith('xxfake')]), \n",
    "        set(defaults.text_spec_tok + 'This is an example of text this another'.split()))\n",
    "test_eq(len(num.vocab)%8, 0)\n",
    "start = 'This is an example of text'\n",
    "t = num(start.split())"
   ]
  },
  {
   "cell_type": "code",
   "execution_count": null,
   "metadata": {},
   "outputs": [],
   "source": [
    "test_eq(t, tensor([11, 9, 12, 13, 14, 10]))\n",
    "test_eq(num.decode(t), start)"
   ]
  },
  {
   "cell_type": "code",
   "execution_count": null,
   "metadata": {},
   "outputs": [],
   "source": [
    "num = Numericalize(min_freq=2, sep=' ')\n",
    "num.setup(L('This is an example of text'.split(), 'this is another text'.split()))\n",
    "test_eq(set([x for x in num.vocab if not x.startswith('xxfake')]), \n",
    "        set(defaults.text_spec_tok + 'is text'.split()))\n",
    "test_eq(len(num.vocab)%8, 0)\n",
    "t = num(start.split())\n",
    "test_eq(t, tensor([0, 9, 0, 0, 0, 10]))\n",
    "test_eq(num.decode(t), f'{UNK} is {UNK} {UNK} {UNK} text')"
   ]
  },
  {
   "cell_type": "markdown",
   "metadata": {},
   "source": [
    "## LM_DataLoader -"
   ]
  },
  {
   "cell_type": "code",
   "execution_count": null,
   "metadata": {},
   "outputs": [],
   "source": [
    "#export\n",
    "#TODO: add backward\n",
    "@delegates()\n",
    "class LMDataLoader(TfmdDL):\n",
    "    def __init__(self, dataset, lens=None, cache=2, bs=64, seq_len=72, num_workers=0, **kwargs):\n",
    "        super().__init__(dataset=dataset, bs=bs, num_workers=num_workers, **kwargs)\n",
    "        self.items = ReindexCollection([(o[0] if isinstance(o, tuple) else o) for o in dataset], cache=cache)\n",
    "        self.seq_len = seq_len\n",
    "        if lens is None: lens = [len(o) for o in self.items]\n",
    "        self.lens = ReindexCollection(lens, idxs=self.items.idxs)\n",
    "        # The \"-1\" is to allow for final label\n",
    "        self.m = round_multiple(sum(lens)-1, bs*seq_len, round_down=True)\n",
    "        self.n = self.m//(self.seq_len)\n",
    "        self.spb = self.n//bs\n",
    "        self.chunkify()\n",
    "\n",
    "    def chunkify(self): self.chunks = Chunks(self.items, self.lens)\n",
    "    def shuffle_fn(self,idxs):\n",
    "        self.items.shuffle()\n",
    "        self.chunkify()\n",
    "        return idxs\n",
    "\n",
    "    def create_item(self, seq):\n",
    "        if seq>=self.n: raise IndexError\n",
    "        st = ((seq%self.bs)*self.spb + (seq//self.bs)) * self.seq_len\n",
    "        txt = self.chunks[st : st+self.seq_len+1]\n",
    "        return txt[:-1],txt[1:]\n",
    "    \n",
    "    @classmethod\n",
    "    def dbunchify(cls, dsrc, lens=None, bs=16, val_bs=None, shuffle_train=True, after_batch=None, **kwargs):\n",
    "        n = len(dsrc.splits)-1\n",
    "        bss = [bs] + [2*bs]*n if val_bs is None else [bs] + [val_bs]*n\n",
    "        shuffles = [shuffle_train] + [False]*n\n",
    "        if after_batch is None: after_batch = Cuda()\n",
    "        lens = [None]*dsrc.n_subsets if lens is None else [L(lens, use_list=None)[f] for f in dsrc.splits]\n",
    "        return DataBunch(*[cls(dsrc.subset(i), lens=l, bs=b, shuffle=s, drop_last=s, after_batch=after_batch, **kwargs)\n",
    "                           for i,(b,s,l) in enumerate(zip(bss, shuffles, lens))])"
   ]
  },
  {
   "cell_type": "code",
   "execution_count": null,
   "metadata": {},
   "outputs": [],
   "source": [
    "bs,sl = 4,3\n",
    "ints = L([0,1,2,3,4],[5,6,7,8,9,10],[11,12,13,14,15,16,17,18],[19,20],[21,22,23],[24]).map(tensor)"
   ]
  },
  {
   "cell_type": "code",
   "execution_count": null,
   "metadata": {},
   "outputs": [],
   "source": [
    "dl = LMDataLoader(ints, bs=bs, seq_len=sl)\n",
    "test_eq(list(dl),\n",
    "    [[tensor([[0, 1, 2], [6, 7, 8], [12, 13, 14], [18, 19, 20]]),\n",
    "      tensor([[1, 2, 3], [7, 8, 9], [13, 14, 15], [19, 20, 21]])],\n",
    "     [tensor([[3, 4, 5], [ 9, 10, 11], [15, 16, 17], [21, 22, 23]]),\n",
    "      tensor([[4, 5, 6], [10, 11, 12], [16, 17, 18], [22, 23, 24]])]])"
   ]
  },
  {
   "cell_type": "code",
   "execution_count": null,
   "metadata": {},
   "outputs": [],
   "source": [
    "#hide\n",
    "#Check lens work\n",
    "dl = LMDataLoader(ints, lens=ints.map(len), bs=bs, seq_len=sl)\n",
    "test_eq(list(dl),\n",
    "    [[tensor([[0, 1, 2], [6, 7, 8], [12, 13, 14], [18, 19, 20]]),\n",
    "      tensor([[1, 2, 3], [7, 8, 9], [13, 14, 15], [19, 20, 21]])],\n",
    "     [tensor([[3, 4, 5], [ 9, 10, 11], [15, 16, 17], [21, 22, 23]]),\n",
    "      tensor([[4, 5, 6], [10, 11, 12], [16, 17, 18], [22, 23, 24]])]])"
   ]
  },
  {
   "cell_type": "code",
   "execution_count": null,
   "metadata": {},
   "outputs": [],
   "source": [
    "dl = LMDataLoader(ints, bs=bs, seq_len=sl, shuffle=True)\n",
    "for x,y in dl: test_eq(x[:,1:], y[:,:-1])\n",
    "((x0,y0), (x1,y1)) = tuple(dl)\n",
    "#Second batch begins where first batch ended\n",
    "test_eq(y0[:,-1], x1[:,0]) "
   ]
  },
  {
   "cell_type": "markdown",
   "metadata": {},
   "source": [
    "## Integration example"
   ]
  },
  {
   "cell_type": "code",
   "execution_count": null,
   "metadata": {},
   "outputs": [
    {
     "data": {
      "text/html": [
       "<div>\n",
       "<style scoped>\n",
       "    .dataframe tbody tr th:only-of-type {\n",
       "        vertical-align: middle;\n",
       "    }\n",
       "\n",
       "    .dataframe tbody tr th {\n",
       "        vertical-align: top;\n",
       "    }\n",
       "\n",
       "    .dataframe thead th {\n",
       "        text-align: right;\n",
       "    }\n",
       "</style>\n",
       "<table border=\"1\" class=\"dataframe\">\n",
       "  <thead>\n",
       "    <tr style=\"text-align: right;\">\n",
       "      <th></th>\n",
       "      <th>label</th>\n",
       "      <th>text</th>\n",
       "      <th>is_valid</th>\n",
       "    </tr>\n",
       "  </thead>\n",
       "  <tbody>\n",
       "    <tr>\n",
       "      <td>0</td>\n",
       "      <td>negative</td>\n",
       "      <td>Un-bleeping-believable! Meg Ryan doesn't even look her usual pert lovable self in this, which normally makes me forgive her shallow ticky acting schtick. Hard to believe she was the producer on this dog. Plus Kevin Kline: what kind of suicide trip has his career been on? Whoosh... Banzai!!! Finally this was directed by the guy who did Big Chill? Must be a replay of Jonestown - hollywood style. Wooofff!</td>\n",
       "      <td>False</td>\n",
       "    </tr>\n",
       "    <tr>\n",
       "      <td>1</td>\n",
       "      <td>positive</td>\n",
       "      <td>This is a extremely well-made film. The acting, script and camera-work are all first-rate. The music is good, too, though it is mostly early in the film, when things are still relatively cheery. There are no really superstars in the cast, though several faces will be familiar. The entire cast does an excellent job with the script.&lt;br /&gt;&lt;br /&gt;But it is hard to watch, because there is no good end to a situation like the one presented. It is now fashionable to blame the British for setting Hindus and Muslims against each other, and then cruelly separating them into two countries. There is som...</td>\n",
       "      <td>False</td>\n",
       "    </tr>\n",
       "  </tbody>\n",
       "</table>\n",
       "</div>"
      ],
      "text/plain": [
       "      label  \\\n",
       "0  negative   \n",
       "1  positive   \n",
       "\n",
       "                                                                                                                                                                                                                                                                                                                                                                                                                                                                                                                                                                                                                      text  \\\n",
       "0                                                                                                                                                                                                    Un-bleeping-believable! Meg Ryan doesn't even look her usual pert lovable self in this, which normally makes me forgive her shallow ticky acting schtick. Hard to believe she was the producer on this dog. Plus Kevin Kline: what kind of suicide trip has his career been on? Whoosh... Banzai!!! Finally this was directed by the guy who did Big Chill? Must be a replay of Jonestown - hollywood style. Wooofff!   \n",
       "1  This is a extremely well-made film. The acting, script and camera-work are all first-rate. The music is good, too, though it is mostly early in the film, when things are still relatively cheery. There are no really superstars in the cast, though several faces will be familiar. The entire cast does an excellent job with the script.<br /><br />But it is hard to watch, because there is no good end to a situation like the one presented. It is now fashionable to blame the British for setting Hindus and Muslims against each other, and then cruelly separating them into two countries. There is som...   \n",
       "\n",
       "   is_valid  \n",
       "0     False  \n",
       "1     False  "
      ]
     },
     "execution_count": null,
     "metadata": {},
     "output_type": "execute_result"
    }
   ],
   "source": [
    "path = untar_data(URLs.IMDB_SAMPLE)\n",
    "df = pd.read_csv(path/'texts.csv')\n",
    "df.head(2)"
   ]
  },
  {
   "cell_type": "code",
   "execution_count": null,
   "metadata": {},
   "outputs": [
    {
     "data": {
      "text/html": [
       "<div>\n",
       "<style scoped>\n",
       "    .dataframe tbody tr th:only-of-type {\n",
       "        vertical-align: middle;\n",
       "    }\n",
       "\n",
       "    .dataframe tbody tr th {\n",
       "        vertical-align: top;\n",
       "    }\n",
       "\n",
       "    .dataframe thead th {\n",
       "        text-align: right;\n",
       "    }\n",
       "</style>\n",
       "<table border=\"1\" class=\"dataframe\">\n",
       "  <thead>\n",
       "    <tr style=\"text-align: right;\">\n",
       "      <th></th>\n",
       "      <th>label</th>\n",
       "      <th>is_valid</th>\n",
       "      <th>text</th>\n",
       "      <th>text_lengths</th>\n",
       "    </tr>\n",
       "  </thead>\n",
       "  <tbody>\n",
       "    <tr>\n",
       "      <td>0</td>\n",
       "      <td>negative</td>\n",
       "      <td>False</td>\n",
       "      <td>[xxbos, xxmaj, un, -, bleeping, -, believable, !, xxmaj, meg, xxmaj, ryan, does, n't, even, look, her, usual, pert, lovable, self, in, this, ,, which, normally, makes, me, forgive, her, shallow, ticky, acting, schtick, ., xxmaj, hard, to, believe, she, was, the, producer, on, this, dog, ., xxmaj, plus, xxmaj, kevin, xxmaj, kline, :, what, kind, of, suicide, trip, has, his, career, been, on, ?, xxmaj, whoosh, …, xxmaj, banzai, xxrep, 3, !, xxmaj, finally, this, was, directed, by, the, guy, who, did, xxmaj, big, xxmaj, chill, ?, xxmaj, must, be, a, replay, of, xxmaj, jonestown, -, hollywood,...</td>\n",
       "      <td>108</td>\n",
       "    </tr>\n",
       "    <tr>\n",
       "      <td>1</td>\n",
       "      <td>positive</td>\n",
       "      <td>False</td>\n",
       "      <td>[xxbos, xxmaj, this, is, a, extremely, well, -, made, film, ., xxmaj, the, acting, ,, script, and, camera, -, work, are, all, first, -, rate, ., xxmaj, the, music, is, good, ,, too, ,, though, it, is, mostly, early, in, the, film, ,, when, things, are, still, relatively, cheery, ., xxmaj, there, are, no, really, superstars, in, the, cast, ,, though, several, faces, will, be, familiar, ., xxmaj, the, entire, cast, does, an, excellent, job, with, the, script, ., \\n\\n, xxmaj, but, it, is, hard, to, watch, ,, because, there, is, no, good, end, to, a, situation, like, the, one, ...]</td>\n",
       "      <td>462</td>\n",
       "    </tr>\n",
       "  </tbody>\n",
       "</table>\n",
       "</div>"
      ],
      "text/plain": [
       "      label  is_valid  \\\n",
       "0  negative     False   \n",
       "1  positive     False   \n",
       "\n",
       "                                                                                                                                                                                                                                                                                                                                                                                                                                                                                                                                                                                                                      text  \\\n",
       "0  [xxbos, xxmaj, un, -, bleeping, -, believable, !, xxmaj, meg, xxmaj, ryan, does, n't, even, look, her, usual, pert, lovable, self, in, this, ,, which, normally, makes, me, forgive, her, shallow, ticky, acting, schtick, ., xxmaj, hard, to, believe, she, was, the, producer, on, this, dog, ., xxmaj, plus, xxmaj, kevin, xxmaj, kline, :, what, kind, of, suicide, trip, has, his, career, been, on, ?, xxmaj, whoosh, …, xxmaj, banzai, xxrep, 3, !, xxmaj, finally, this, was, directed, by, the, guy, who, did, xxmaj, big, xxmaj, chill, ?, xxmaj, must, be, a, replay, of, xxmaj, jonestown, -, hollywood,...   \n",
       "1                 [xxbos, xxmaj, this, is, a, extremely, well, -, made, film, ., xxmaj, the, acting, ,, script, and, camera, -, work, are, all, first, -, rate, ., xxmaj, the, music, is, good, ,, too, ,, though, it, is, mostly, early, in, the, film, ,, when, things, are, still, relatively, cheery, ., xxmaj, there, are, no, really, superstars, in, the, cast, ,, though, several, faces, will, be, familiar, ., xxmaj, the, entire, cast, does, an, excellent, job, with, the, script, ., \\n\\n, xxmaj, but, it, is, hard, to, watch, ,, because, there, is, no, good, end, to, a, situation, like, the, one, ...]   \n",
       "\n",
       "   text_lengths  \n",
       "0           108  \n",
       "1           462  "
      ]
     },
     "execution_count": null,
     "metadata": {},
     "output_type": "execute_result"
    }
   ],
   "source": [
    "df_tok,count = tokenize_df(df, 'text')\n",
    "df_tok.head(2)"
   ]
  },
  {
   "cell_type": "code",
   "execution_count": null,
   "metadata": {},
   "outputs": [],
   "source": [
    "texts,lens = df_tok['text'],df_tok['text_lengths'].values.astype(np.int)"
   ]
  },
  {
   "cell_type": "code",
   "execution_count": null,
   "metadata": {},
   "outputs": [],
   "source": [
    "splits = RandomSplitter()(texts)\n",
    "tfm = Numericalize(make_vocab(count))\n",
    "dsrc = DataSource(texts, [tfm], splits=splits, dl_type=LMDataLoader)"
   ]
  },
  {
   "cell_type": "code",
   "execution_count": null,
   "metadata": {},
   "outputs": [
    {
     "name": "stdout",
     "output_type": "stream",
     "text": [
      "xxbos xxmaj xxunk xxmaj verneuil represented the commercial cinema in xxmaj france from 1960 - 1980 . xxmaj always strong at the box - office , and usually telling dramatic and suspenseful tales of casino xxunk , xxunk score - xxunk and xxmaj world xxmaj war xxup ii battles , xxmaj verneuil could be xxunk on to give us two solid hours of entertainment on xxmaj saturday night . xxmaj he worked with the cream of the male actors of his day : xxmaj xxunk , xxmaj xxunk , xxmaj xxunk , xxmaj delon , xxmaj xxunk , xxmaj anthony xxmaj quinn . i … xxunk xxmaj xxunk is the only time he directed xxmaj xxunk xxmaj montand . xxmaj it 's an oddly static film , taking place mainly in xxunk and xxunk rooms , xxunk not one chase scene and hardly any violence . \n",
      "\n",
      " xxmaj montand gives a good performance , if somewhat dry , and he is well supported by the other actors . i could n't help wondering what xxunk - xxunk could have done with this story , on the basis of z ( the xxmaj xxunk assassination ) and xxmaj xxunk ( the torture of xxmaj xxunk xxmaj london in xxmaj xxunk by xxmaj xxunk ) .\n"
     ]
    },
    {
     "data": {
      "text/plain": [
       "1"
      ]
     },
     "execution_count": null,
     "metadata": {},
     "output_type": "execute_result"
    }
   ],
   "source": [
    "show_at(dsrc.train, 0)"
   ]
  },
  {
   "cell_type": "code",
   "execution_count": null,
   "metadata": {},
   "outputs": [],
   "source": [
    "dbunch = dsrc.databunch(bs=16, seq_len=72)"
   ]
  },
  {
   "cell_type": "code",
   "execution_count": null,
   "metadata": {},
   "outputs": [
    {
     "data": {
      "text/html": [
       "<table border=\"1\" class=\"dataframe\">\n",
       "  <thead>\n",
       "    <tr style=\"text-align: right;\">\n",
       "      <th></th>\n",
       "      <th>text</th>\n",
       "    </tr>\n",
       "  </thead>\n",
       "  <tbody>\n",
       "    <tr>\n",
       "      <th>0</th>\n",
       "      <td>xxbos xxmaj having heard quite positive reviews and having seen the trailer i had to see this movie . xxmaj with xxmaj william xxup h. xxmaj xxunk , xxmaj xxunk xxmaj guzman , xxmaj michael xxmaj xxunk and xxmaj sam xxmaj rockwell present it had to be good . xxmaj and it delivered . xxmaj overall , the movie is not crack - you - up funny , but there is one</td>\n",
       "    </tr>\n",
       "    <tr>\n",
       "      <th>1</th>\n",
       "      <td>keep an eye on the doc 's place . xxmaj she not only steals the scene , but darn near the whole movie . xxmaj and where did those indie producers come up with the bucks to film in color , a wise decision , since the blob would not show up well in xxunk . xxmaj yes , the result is ragged around the edges as the number of xxunk illustrate</td>\n",
       "    </tr>\n",
       "    <tr>\n",
       "      <th>2</th>\n",
       "      <td>xxunk to say the least . i do n't want to say anything mean - spirited about the actors , but they ca n't act ! xxmaj xxunk is difficult , of course , but this is pathetic ! xxmaj xxunk was nothing more than a mid - xxunk century xxmaj xxunk , and the less said about xxmaj betsy xxmaj xxunk the better ! xxmaj if you want to see the</td>\n",
       "    </tr>\n",
       "    <tr>\n",
       "      <th>3</th>\n",
       "      <td>\" ) shines every moment he 's on screen , which is n't much here . \\n\\n xxmaj bam xxmaj bam xxmaj xxunk also makes an appearance as a biker , which fits him perfectly . i would n't mind slightly more xxmaj bam xxmaj bam , but i think he carried the role of \" biker \" about as far as it could be carried for a military film . \\n\\n</td>\n",
       "    </tr>\n",
       "    <tr>\n",
       "      <th>4</th>\n",
       "      <td>rosario xxmaj dawson . ( i had to cut some of this review to keep it under 1 xxrep 3 0 words ) … and they make love to each other . \\n\\n xxmaj we next follow xxmaj anna , who is sitting at a lunch stand . xxmaj her boyfriend , xxmaj nick ( adrian xxmaj xxunk ) , enters , bearing xxunk . xxmaj she is cold toward him ;</td>\n",
       "    </tr>\n",
       "    <tr>\n",
       "      <th>5</th>\n",
       "      <td>healthy scare and still make them feel happy at the end . xxmaj in fact , i think it 's xxunk . xxbos xxmaj at the time of writing this review it would seem that over 50 % of imdb voters had given this film a rating of either a 10 or a 1 . i can only xxunk then that those giving it a 10 were either cast or crew members</td>\n",
       "    </tr>\n",
       "  </tbody>\n",
       "</table>"
      ],
      "text/plain": [
       "<IPython.core.display.HTML object>"
      ]
     },
     "metadata": {},
     "output_type": "display_data"
    }
   ],
   "source": [
    "dbunch.show_batch(max_n=6)"
   ]
  },
  {
   "cell_type": "code",
   "execution_count": null,
   "metadata": {},
   "outputs": [],
   "source": [
    "x,y = dbunch.one_batch()\n",
    "test_eq(type(x), TensorText)"
   ]
  },
  {
   "cell_type": "code",
   "execution_count": null,
   "metadata": {},
   "outputs": [],
   "source": [
    "test_eq(len(dbunch.valid_ds[0][0]), dbunch.valid_dl.lens[0])"
   ]
  },
  {
   "cell_type": "markdown",
   "metadata": {},
   "source": [
    "## Classification"
   ]
  },
  {
   "cell_type": "code",
   "execution_count": null,
   "metadata": {},
   "outputs": [],
   "source": [
    "#export\n",
    "def pad_collate(samples, pad_idx=1, pad_first=False, backwards=False):\n",
    "    \"Function that collect samples and adds padding. Flips token order if needed\"\n",
    "    max_len = max([len(s[0]) for s in samples])\n",
    "    res = torch.zeros(len(samples), max_len).long() + pad_idx\n",
    "    if backwards: pad_first = not pad_first\n",
    "    for i,s in enumerate(samples):\n",
    "        sl = slice(-len(s[0]), sys.maxsize) if pad_first else slice(0, len(s[0]))\n",
    "        res[i,sl] = LongTensor(s[0])\n",
    "    if backwards: res = res.flip(1)\n",
    "    return res, tensor(np.array([s[1] for s in samples]))"
   ]
  },
  {
   "cell_type": "code",
   "execution_count": null,
   "metadata": {},
   "outputs": [],
   "source": [
    "test_eq(pad_collate([([1,2,3],1), ([4,5], 2), ([6], 3)], pad_idx=0), \n",
    "        (tensor([[1,2,3], [4,5,0], [6,0,0]]), tensor([1,2,3])))\n",
    "test_eq(pad_collate([([1,2,3],1), ([4,5], 2), ([6], 3)], pad_idx=0, pad_first=True), \n",
    "        (tensor([[1,2,3], [0,4,5], [0,0,6]]), tensor([1,2,3])))\n",
    "test_eq(pad_collate([([1,2,3],1), ([4,5], 2), ([6], 3)], pad_idx=0, backwards=True), \n",
    "        (tensor([[3,2,1], [5,4,0], [6,0,0]]), tensor([1,2,3])))"
   ]
  },
  {
   "cell_type": "code",
   "execution_count": null,
   "metadata": {},
   "outputs": [],
   "source": [
    "#export\n",
    "def _default_sort(x): return len(x[0])\n",
    "\n",
    "@delegates(TfmdDL)\n",
    "class SortedDL(TfmdDL):\n",
    "    def __init__(self, dataset, sort_func=None, res=None, **kwargs):\n",
    "        super().__init__(dataset, **kwargs)\n",
    "        self.sort_func = _default_sort if sort_func is None else sort_func\n",
    "        self.res = [self.sort_func(self.do_item(i)) for i in range_of(self.dataset)] if res is None else res\n",
    "        self.idx_max = np.argmax(self.res)\n",
    "        \n",
    "    def get_idxs(self):\n",
    "        idxs = super().get_idxs()\n",
    "        if self.shuffle: return idxs\n",
    "        return sorted(idxs, key=lambda i: self.res[i], reverse=True)\n",
    "    \n",
    "    def shuffle_fn(self,idxs):\n",
    "        idxs = np.random.permutation(len(self.dataset))\n",
    "        idx_max = np.extract(idxs==self.idx_max, idxs)[0]\n",
    "        idxs[0],idxs[idx_max] = idxs[idx_max],idxs[0]\n",
    "        sz = self.bs*50\n",
    "        chunks = [idxs[i:i+sz] for i in range(0, len(idxs), sz)]\n",
    "        chunks = [sorted(s, key=lambda i: self.res[i], reverse=True) for s in chunks]\n",
    "        sort_idx = np.concatenate(chunks)\n",
    "        \n",
    "        sz = self.bs\n",
    "        batches = [sort_idx[i:i+sz] for i in range(0, len(sort_idx), sz)]\n",
    "        sort_idx = np.concatenate(np.random.permutation(batches[1:-1])) if len(batches) > 2 else np.array([],dtype=np.int)\n",
    "        sort_idx = np.concatenate((batches[0], sort_idx) if len(batches)==1 else (batches[0], sort_idx, batches[-1]))\n",
    "        return iter(sort_idx)"
   ]
  },
  {
   "cell_type": "code",
   "execution_count": null,
   "metadata": {},
   "outputs": [],
   "source": [
    "ds = [([1,2],1), ([3,4,5,6],2), ([7],3), ([8,9,10],4)]\n",
    "dl = SortedDL(ds, bs=2, create_batch=partial(pad_collate, pad_idx=0))\n",
    "test_eq(list(dl), [(tensor([[ 3,  4,  5,  6], [ 8,  9, 10,  0]]), tensor([2, 4])), \n",
    "                   (tensor([[1, 2], [7, 0]]), tensor([1, 3]))])"
   ]
  },
  {
   "cell_type": "code",
   "execution_count": null,
   "metadata": {},
   "outputs": [],
   "source": [
    "ds = [(list(range(random.randint(1,10))),i) for i in range(101)]\n",
    "dl = SortedDL(ds, bs=2, create_batch=partial(pad_collate, pad_idx=-1), shuffle=True, num_workers=0)\n",
    "batches = list(dl)\n",
    "max_len = len(batches[0][0])\n",
    "for b in batches: \n",
    "    assert(len(b[0])) <= max_len \n",
    "    test_ne(b[0][0,-1], -1)"
   ]
  },
  {
   "cell_type": "code",
   "execution_count": null,
   "metadata": {},
   "outputs": [],
   "source": [
    "splits = RandomSplitter()(range_of(df_tok))\n",
    "dsrc = DataSource(df_tok, splits=splits, tfms=[\n",
    "    [attrgetter(\"text\"), Numericalize(make_vocab(count))],\n",
    "    [attrgetter(\"label\"), Categorize()]])\n",
    "dl = SortedDL(dsrc.train, create_batch=pad_collate, shuffle=True)"
   ]
  },
  {
   "cell_type": "code",
   "execution_count": null,
   "metadata": {},
   "outputs": [
    {
     "data": {
      "text/plain": [
       "(#2) [['xxunk', 'xxpad', 'xxbos', 'xxeos', 'xxfld', 'xxrep', 'xxwrep', 'xxup', 'xxmaj', 'the', ',', '.', 'and', 'a', 'of', 'to', 'is', 'it', 'in', 'i', 'that', 'this', '\"', \"'s\", '-', 'was', '\\n\\n', 'as', 'for', 'movie', 'with', 'but', 'film', 'you', ')', 'on', '(', \"n't\", 'are', 'not', 'he', 'his', 'have', 'be', 'one', 'they', 'all', 'at', 'by', 'an', 'like', 'from', 'so', 'who', 'there', '!', 'about', 'or', 'just', 'if', 'out', 'do', 'her', 'some', 'what', \"'\", 'has', 'more', 'good', '?', 'very', 'up', 'when', 'she', 'would', 'no', 'were', 'their', 'even', 'time', 'really', 'only', 'my', 'can', 'story', 'had', 'which', '…', 'see', 'did', 'me', 'we', ':', 'well', 'into', 'does', 'will', 'bad', 'than', 'also', 'get', 'much', 'people', 'because', 'could', 'other', 'first', 'been', 'how', 'any', 'its', 'most', 'then', 'great', 'make', 'two', 'made', 'him', 'them', 'way', '/', 'too', 'after', 'never', 'acting', 'think', 'movies', 'watch', ';', 'films', 'many', 'where', 'little', 'life', 'plot', 'character', 'seen', 'man', 'being', 'better', 'over', 'characters', 'here', 'your', 'know', 'love', 'end', 'best', 'show', 'should', 'off', 'say', 'scenes', 'ever', 'while', 'through', 'something', 'still', 'go', 'these', 'scene', '3', 'such', 'why', 'those', 'though', '--', 'before', \"'m\", 'back', '10', 'watching', 'old', 'thing', 'actually', 'real', 'years', 'actors', \"'ve\", 'going', 'now', 'between', 'new', 'same', 'find', 'nothing', 'quite', 'part', 'pretty', 'funny', 'around', 'another', 'makes', 'work', 'down', \"'re\", 'fact', 'want', 'look', 'few', 'action', 'seems', 'director', 'point', 'world', 'things', 'ca', 'lot', 'enough', 'both', 'without', 'got', '&', 'us', '*', 'cast', 'again', 'thought', 'big', 'series', 'original', 'own', 'almost', 'may', 'bit', 'horror', 'every', \"'ll\", 'whole', 'young', 'might', 'family', 'probably', 'least', 'must', 'gets', 'come', 'however', 'interesting', 'right', 'kind', 'take', 'true', 'each', 'saw', 'away', 'fun', 'anything', 'give', 'day', 'making', 'hard', 'feel', 'minutes', 'times', 'long', 'script', 'done', 'someone', 'last', 'role', 'girl', 'book', 'looks', 'place', 'guy', 'course', 'tv', 'always', 'comes', 'comedy', 'since', 'simply', 'trying', 'far', 'shows', 'found', 'believe', 'goes', 'effects', 'actor', 'yet', 'set', 'looking', 'having', \"'d\", 'performance', 'worst', 'sense', 'together', 'shot', 'left', 'sure', 'music', 'american', '2', 'rest', 'screen', 'although', 'woman', 'our', 'read', 'takes', 'worth', 'especially', 'audience', 'star', 'three', 'year', 'played', 'anyone', 'women', 'men', 'once', 'special', 'instead', 'watched', 'black', 'maybe', 'am', 'ending', 'said', 'later', 'wife', 'let', 'mind', 'put', 'seem', 'dvd', '1', 'different', 'friends', 'rather', 'sex', 'john', 'main', 'production', 'budget', 'perhaps', 'second', 'low', 'plays', 'either', '\\x96', 'job', 'start', 'next', 'high', 'video', 'top', 'others', 'idea', 'less', 'everyone', 'beautiful', 'half', 'war', '..', 'version', 'performances', 'poor', '4', 'else', 'reason', 'couple', 'need', 'kids', 'name', 'boring', 'nice', 'completely', 'during', 'tell', 'try', 'wrong', 'full', 'case', 'money', 'already', 'death', 'liked', 'father', 'house', 'fan', 'play', 'help', 'piece', 'episode', 'along', 'terrible', 'lost', 'everything', 'hollywood', 'camera', 'came', 'supposed', 'robert', 'night', 'excellent', 'keep', 'used', 'stars', 'given', 'kill', 'getting', 'often', 'use', 'entire', 'yes', 'head', 'himself', 'turn', 'live', 'throughout', 'stupid', 'moments', 'girls', 'until', 'title', 'history', 'small', 'felt', 'written', 'enjoy', 'person', 'sound', 'problem', 'style', 'early', 'remember', 'truly', 'awful', 'oh', 'drama', 'classic', 'cinema', 'hand', 'town', 'overall', 'human', 'picture', 'quality', 'children', 'parts', 'called', 'home', 'itself', 'king', 'short', 'lines', 'doing', 'fans', 'under', 'despite', 'seemed', 'lead', '5', 'writing', 'gives', 'white', 'hope', 'sort', 'child', 'recommend', 'friend', 'killer', 'face', 'definitely', 'boy', 'unfortunately', 'absolutely', 'become', 'worse', 'mean', 'decent', 'close', 'son', 'school', 'late', 'fine', 'seeing', 'past', 'days', 'five', 'says', 'blood', 'beginning', 'wanted', 'attempt', 'able', 'james', 'against', 'went', 'dialogue', 'anyway', 'waste', 'violence', 'killed', 'eyes', 'guys', 'wo', 'line', 'except', 'lives', 'genre', 'based', 'word', 'self', 'mr', 'playing', 'told', 'wonderful', 'english', 'car', 'certainly', 'sometimes', 'serious', 'behind', 'matter', 'humor', 'leave', 'hero', 'dead', 'run', 'direction', 'dark', 'turns', 'entertaining', 'feeling', 'light', 'care', 'documentary', 'loved', 'etc', 'side', 'heard', 'mother', 'gore', 'city', 'thinking', 'several', 'works', 'flick', 'evil', 'group', 'themselves', 'tries', 'final', 'exactly', 'dull', 'game', 'highly', 'god', 'brother', 'talking', 'eye', 'wonder', 'modern', 'moment', 'crap', 'lack', 'wants', 'hit', 'starts', 'perfect', 'hour', 'alone', 'finally', 'somewhat', 'cheap', 'roles', 'release', 'bunch', 'kid', 'lady', 'red', 'stuff', 'fight', 'guess', 'stories', 'gave', 'michael', 'saying', 'ridiculous', 'nearly', 'heart', 'daughter', 'horrible', 'viewer', 'opinion', 'happens', 'expect', 'shown', 'brilliant', 'non', 'cinematography', 'novel', 'events', 'took', 'country', 'george', 'knows', 'problems', 'totally', 'example', 'interest', 'sister', 'relationship', 'order', 'finds', 'please', 'view', 'similar', 'yourself', 'oscar', 'upon', 'laugh', 'voice', 'slow', 'apparently', 'review', 'tells', 'follow', 'extremely', 'soon', 'obviously', 'seriously', 'known', 'figure', 'age', 'became', 'local', 'important', 'ago', 'score', 'turned', 'usually', 'happen', 'including', 'paul', 'myself', 'art', 'directed', 'british', 'save', 'knew', 'major', 'number', 'level', 'happened', 'favorite', 'leads', 'working', 'enjoyed', 'huge', 'ok', 'mostly', 'general', 'ones', 'falls', 'becomes', 'using', 'romantic', 'writer', 'ben', 'de', 'understand', 'episodes', 'supporting', 'nature', 'ends', 'change', 'across', 'shots', 'type', 'ten', 'filmed', 'gone', '0', 'female', 'released', 'living', 'happy', 'jokes', 'scary', 'sets', 'none', 'beyond', 'romance', 'body', 're', 'involved', 'possible', 'needs', '8', 'room', 'disappointed', 'hours', 'taken', 'four', 'sexual', 'straight', 'form', 'chance', 'victor', 'tale', 'particularly', 'power', 'doubt', 'secret', 'actress', 'ways', 'experience', 'bring', 'earth', 'husband', 'cut', 'convincing', 'monster', 'weak', 'complete', 'boys', 'message', 'easily', 'rating', 'coming', 'surprised', 'sad', 'named', 'wish', 'cover', 'dance', '7', 'today', 'dialog', 'editing', 'stop', 'space', 'b', 'list', 'clearly', 'features', 'woods', 'team', 'twist', 'police', 'forced', 'theme', 'typical', 'parents', 'effort', 'cheesy', 'obvious', 'difficult', 'western', 'plenty', 'amazing', 'clear', 'create', 'particular', 'started', 'future', 'laughs', 'soundtrack', 'easy', 'murder', 'silly', 'york', 'comic', 'spent', 'subject', 'lake', 'basically', 'add', 'forget', 'simple', 'greatest', 'feels', 'above', 'cool', 'leading', 'strong', 'strange', 'steve', 'hardly', 'enjoyable', 'near', 'note', 'mention', 'science', 'career', 'words', 'mess', 'sit', 'killing', 'attention', 'realistic', 'storyline', 'feature', 'points', 'japanese', 'tom', 'giving', 'french', 'whose', 'moving', 'within', 'annoying', 'due', 'talk', 'water', 'reality', 'whether', 'opening', 'certain', 'zombie', 'footage', 'entertainment', 'herself', 'appear', 'indeed', 'taking', 'average', 'suspense', 'caught', 'running', 'hell', 'recently', 'stage', 'devil', 'chase', 'dramatic', 'looked', 'stand', 'gay', 'imagine', 'towards', 'call', 'talent', 'fall', 'single', 'screenplay', 'hilarious', 'decided', 'act', 'material', 'die', 'office', 'luke', 'gun', 'bill', 'thriller', 'usual', 'setting', 'deal', 'begin', 'somehow', 'society', 'joe', 'keeps', 'predictable', 'dancing', 'agree', 'audiences', 'la', 'attempts', 'german', 'tried', 'okay', 'fantastic', 'whatever', 'mentioned', 'portrayed', 'focus', 'appears', 'earlier', 'richard', 'army', 'incredibly', 'period', 'deep', 'total', 'showing', 'avoid', 'baby', 'company', 'free', 'stay', 'large', 'box', 'middle', 'business', 'david', 'rent', 'apart', 'sequences', 'west', 'outside', 'interested', 'rock', 'move', 'truth', 'hear', 'break', 'miss', 'comments', '80', 'musical', 'unique', 'stick', 'davis', 'brothers', 'dr', 'lots', 'alive', 'lee', 'suddenly', 'public', 'door', 'crew', 'rich', 'third', 'means', 'sadly', 'sorry', 'kills', 'buy', 'possibly', 'fire', 'actual', 'question', 'cgi', 'comment', 'remake', 'kept', 'jimmy', 'dream', '20', 'language', 'allen', 'sounds', 'indian', 'america', 'tension', 'deserves', 'lame', 'cartoon', '\\n\\n▁', 'former', 'agent', 'crime', 'believable', 'pain', 'values', 'basic', 'acted', 'weird', 'premise', 'meets', 'fairly', 'unless', '30', 'hair', 'minute', 'ask', 'expecting', 'jack', 'front', 'popular', 'viewing', 'died', 'eventually', '9', 'christmas', 'adaptation', 'missed', 'ability', 'meaning', 'learn', 'nor', 'television', 'fast', 'needed', 'positive', 'al', 'hate', 'blob', 'jim', 'porn', 'state', 'street', 'situation', 'directors', 'concept', '6', 'sitting', 'reading', 'return', 'fred', 'poorly', 'hold', 'creepy', 'jane', 'building', 'married', 'missing', 'laughing', 'begins', 'sequence', 'grade', 'follows', 'viewers', 'decides', 'hands', 'air', 'open', 'project', 'south', 'further', 'surprisingly', 's', 'bourne', 'dad', 'realize', 'meet', 'william', 'shame', 'worked', 'explain', 'mystery', 'expected', 'effect', 'singing', 'emotional', 'ghost', 'male', 'elements', 'tone', 'theatrical', 'slasher', 'intended', 'members', 'heavy', 'runs', 'otherwise', 'song', 'spoilers', 'share', 'era', 'government', 'helps', 'russian', 'class', 'social', 'barely', 'brought', 'among', '$', 'onto', 'makers', 'meant', 'plain', 'normal', 'homer', 'value', 'willing', 'successful', 'adventure', 'bother', 'violent', 'filmmakers', 'older', 'waiting', 'control', 'purpose', 'bored', 'flat', 'scott', 'present', 'manages', 'hot', 'century', 'credit', 'crazy', 'cry', 'filming', 'narrative', 'perfectly', 'expectations', 'honestly', 'peter', 'sequel', 'road', 'cold', 'beauty', 'design', 'plus', 'clever', 'producers', 'somewhere', 'thrown', 'win', 'shooting', '15', 'pointless', 'connection', 'students', 'sick', 'mark', 'food', 'rose', 'dressed', 'directing', 'leaves', 'rated', 'moves', 'famous', 'involving', 'considering', 'catch', 'success', 'badly', 'season', 'telling', 'fake', 'accent', 'surprise', 'credits', 'background', 'stunning', 'writers', 'admit', 'martin', 'bizarre', 'casting', 'slightly', 'shop', 'vargas', 'dog', 'revenge', 'impressive', 'unlike', 'effective', 'touching', 'battle', 'image', 'literally', 'odd', 'recent', 'brooks', 'pieces', 'costumes', 'memorable', 'kate', 'actresses', 'vampires', 'nudity', 'following', 'arthur', 'redeeming', 'computer', 'copy', 'machine', 'recommended', 'wondering', 'doctor', 'grace', 'forward', 'comedies', 'fiction', 'rate', 'development', 'epic', 'walk', 'masterpiece', 'likes', 'intelligent', 'neither', 'thanks', 'taste', 'radio', 'drive', 'trash', 'intelligence', 'allow', 'vampire', 'trouble', 'six', 'names', 'washington', 'painful', 'joke', 'personally', 'noir', 'conflict', 'historical', 'previous', 'sees', '50', 'solid', 'puts', 'limited', 'aware', 'emotions', 'wrote', 'merely', 'fell', 'ended', 'aspects', 'zero', 'nick', 'dreams', 'jump', 'professional', 'powerful', 'sexy', 'besides', 'attack', 'post', 'issues', 'immediately', 'visual', 'amount', 'personal', 'wild', 'burns', 'filled', 'songs', 'impossible', 'adult', 'natural', 'cult', 'glad', '+', 'pick', 'jones', 'built', 'ms', 'extreme', 'church', 'various', 'gold', 'japan', 'months', 'developed', 'speaking', 'cat', 'feelings', 'relationships', 'charming', 'common', 'loud', 'changes', 'rare', 'impact', 'fear', 'garbage', 'africa', 'created', 'situations', 'edge', 'forever', 'brings', 'pace', 'clothes', 'failed', 'photography', 'numerous', 'charles', 'pure', 'books', 'inside', 'brief', '%', 'mediocre', 'sight', 'apartment', 'wait', 'island', 'hey', 'week', 'evening', 'law', 'leaving', 'ex', 'mad', 'considered', 'animation', 'f', 'talented', 'honest', 'born', 'track', 'themes', 'rubbish', 'event', 'wearing', 'check', 'commentary', 'escape', 'extras', 'serial', 'x', 'support', 'sub', 'grew', 'latter', 'award', 'loves', 'respect', 'imdb', 'movement', 'boss', 'information', 'beautifully', 'sci', 'fi', 'train', 'cause', 'depth', 'contains', 'moore', 'managed', 'terms', 'changed', 'match', 'asks', 'ideas', 'reviewers', 'jackson', 'animated', 'standing', 'dying', 'humour', 'animals', 'evidence', 'anybody', 'villain', 'political', '70', 'longer', 'ugly', 'fair', 'channel', 'disappointment', 'friendship', 'wasted', 'emotion', 'party', 'silent', 'mysterious', 'witch', 'touch', 'kevin', 'o', 'lose', 'surely', 'system', 'central', 'savage', 'murdered', 'fantasy', 'riding', 'heroine', 'sam', 'laughable', 'showed', 'thin', 'everybody', 'awesome', 'impressed', 'lovers', 'quickly', 'perspective', 'versions', 'appeal', 'stuck', 'loving', 'cinematic', 'picked', 'news', 'deserve', 'color', 'reviews', 'amusing', 'blue', 'details', 'uses', 'fellow', 'received', 'ship', 'prison', 'finish', 'superb', 'compared', 'yeah', 'continuity', 'pilot', 'creative', 'pull', 'steven', 'girlfriend', 'tony', 'existence', 'forgotten', 'willie', 'zombies', 'spend', 'religious', 'claim', 'force', 'window', 'site', 'freedom', 'biko', 'result', 'ultimately', 'locations', 'doc', 'tough', 'gangster', 'addition', 'twists', 'motion', 'childhood', 'reasons', 'spoiler', 'co', 'count', 'whatsoever', 'speak', 'teacher', 'appearance', 'industry', 'scenery', 'aside', 'turning', 'constantly', 'cross', 'jr', 'community', 'mine', 'images', 'happening', 'makeup', 'wooden', 'martial', 'excuse', 'chris', 'fox', 'wells', 'colors', 'naschy', 'nowhere', 'chemistry', 'plan', 'guns', 'naked', 'equally', 'pass', 'walking', 'creature', 'vision', 'flaws', 'conclusion', 'warning', 'disturbing', 'manner', 'candy', 'standard', 'fame', 'moral', 'victim', 'responsible', 'direct', 'remains', 'animal', 'location', 'store', 'boat', 'struggle', 'african', 'baseball', 'fanfan', 'trip', 'soul', 'fat', 'understanding', 'heads', 'stephen', 'member', 'answer', 'band', 'survive', 'shirt', 'philosophy', 'subtle', 'brain', 'falling', 'bed', 'vhs', 'trailer', 'spirit', 'appreciate', 'whom', 'driving', 'write', 'won', 'deserved', 'lying', 'hunter', 'identity', 'media', 'lighting', 'entirely', 'player', 'biggest', 'knowledge', 'generally', 'arts', 'wow', 'aspect', 'beat', 'starring', 'charm', 'approach', 'confusing', 'ray', 'land', 'thinks', 'appeared', 'club', 'followed', 'soldiers', 'opportunity', 'skip', 'joey', 'bland', 'johnny', 'met', 'lies', 'cooper', 'consider', 'frank', 'likable', 'culture', 'current', 'provides', 'include', 'bear', 'claire', 'humorous', 'incredible', 'demons', 'rental', 'places', 'jason', 'fully', 'loose', 'genius', 'surfing', 'brian', '90', 'prince', 'anywhere', 'superior', 'context', 'student', 'religion', 'offer', 'unbelievable', 'bought', 'wanting', 'thus', 'ants', 'jigsaw', 'suicide', 'familiar', 'paid', 'suggest', 'produced', 'studio', 'wars', 'franchise', 'friday', 'apparent', 'prove', 'thank', 'twenty', 'sat', 'decade', 'impression', 'sky', 'finding', 'journey', 'efforts', 'marriage', 'pay', 'refuses', 'hospital', 'outstanding', 'hall', 'fails', 'compelling', 'atmosphere', 'pacing', 'ground', 'smith', 'fit', 'justice', 'lovely', 'brutal', 'lacks', 'dirty', 'regard', 'adds', 'author', 'added', 'negative', 'u.s', 'pleasure', 'race', 'cute', 'alien', 'stays', 'treasure', 'van', 'military', 'mainly', 'hoping', 'anti', 'minor', 'captain', '12', 'lewis', 'crater', 'sweet', 'williams', 'questions', 'throw', 'shocking', 'portrayal', 'nt', 'lugosi', 'pathetic', 'provide', 'astaire', '80s', 'boyfriend', 'valentine', 'legend', 'producer', 'faces', 'choice', 'warn', 'pity', 'lets', 'camp', '1970s', 'recall', 'summer', 'planet', 'cop', 'gang', 'college', 'suppose', 'unusual', 'captured', 'torture', 'reminiscent', 'studios', 'italian', 'laughter', 'faith', 'toward', 'neighborhood', 'moved', 'field', 'chosen', 'length', 'slowly', 'mood', 'seemingly', 'winning', 'reach', 'semi', 'afraid', 'nicely', 'mission', 'melting', 'climax', 'starting', 'ladies', 'drunk', 'gorgeous', 'realism', 'stayed', 'somebody', 'sucks', 'cars', 'dealing', 'nasty', 'sport', 'passion', 'reminded', 'amongst', 'holes', 'destroyed', 'tend', 'victims', 'decide', 'national', 'unnecessary', 'louis', 'supposedly', 'artistic', 'station', 'dies', 'deliver', 'north', 'carradine', 'record', 'hurt', 'super', 'albert', 'massacre', 'teenage', 'thoroughly', 'hopefully', 'sake', 'villains', 'humans', 'random', 'teenager', 'potential', 'visit', 'forgot', 'henry', 'tragic', 'roll', 'mary', 'games', 'ahead', 'wise', 'wedding', 'wave', 'acceptable', 'powers', 'edited', 'treatment', 'double', 'snakes', 'bits', 'capture', 'enemy', 'knowing', 'spot', 'stewart', 'felix', 'c', 'crash', 'caused', 'taylor', 'batman', 'howard', 'seven', 'davies', 'hanks', 'seagal', 'ryan', 'presented', 'likely', 'generation', 'disappointing', 'ed', 'chose', 'lie', 'wall', 'fu', 'terribly', 'deals', 'roger', 'hits', 'wonderfully', 'ring', 'detail', 'castle', 'eating', 'murders', 'began', 'miles', 'grand', 'drugs', 'park', 'alex', 'remembered', 'tired', 'mom', 'quick', 'enjoying', 'loses', 'california', 'hill', 'welcome', 'confused', 'ann', 'magic', 'youth', 'memories', 'date', 'keeping', 'formula', 'dubbed', 'offering', 'leader', 'reveal', 'angles', 'plane', '\\x85▁', 'described', 'discover', 'proves', 'bloody', 'lacking', 'whenever', 'weeks', 'allowed', 'involves', 'presence', 'hardy', 'steal', 'saved', 'universal', 'shoot', 'drug', 'round', 'explanation', 'exciting', 'inspired', 'levels', 'states', 'bottom', 'accept', 'desert', 'mouth', 'claims', 'mistake', 'concerned', 'shock', 'insight', 'below', 'fate', 'lord', 'dennis', 'disney', 'explicit', 'jean', 'fighting', 'pulled', 'thousands', 'd', 'desperate', 'stands', 'ii', 'sent', 'bond', 'mixed', 'continues', 'adventures', 'ordinary', 'teen', 'graphic', 'ready', 'search', '100', 'entertain', 'sign', 'utter', 'danes', 'technical', 'cops', 'opposite', 'heck', 'smile', 'fashion', 'blonde', 'lover', 'serbian', 'gundam', 'amateurish', 'mask', 'according', 'texas', 'fuqua', 'soderbergh', 'shallow', 'younger', 'racism', 'joy', 'junior', 'trust', 'bet', 'memory', 'carrying', 'standards', 'listen', 'harsh', 'screaming', 'horribly', 'everywhere', 'core', 'cuts', 'hated', 'scream', 'village', 'accident', 'feet', 'difference', 'h', 'ice', 'independent', 'held', 'model', 'marry', 'treat', 'mistaken', 'gags', 'massive', 'eat', 'soap', 'logic', 'chief', 'terrific', 'promising', 'unknown', 'advice', 'flying', 'step', 'wilson', 'touches', 'scare', 'nobody', 'exact', 'theater', 'mob', 'harris', 'utterly', 'aliens', 'deliberately', 'personality', 'exception', 'behavior', 'innocent', 'available', 'bringing', 'extra', 'accurate', 'proper', 'empty', 'cia', 'hang', 'pulls', 'engaging', 'rarely', 'ride', 'jabba', 'princess', 'rescue', 'accidentally', 'drinking', 'worthy', 'andy', '1970', 'lived', 'glimpse', 'committed', 'rape', 'unrealistic', 'diamond', 'complex', 'kennedy', 'jeff', 'teenagers', 'chinese', 'fresh', 'delivered', 'morning', 'endless', 'morality', 'absolute', 'pile', 'judy', 'traditional', 'vehicle', 'twice', 'melodrama', 'drawn', 'finished', 'focuses', 'majority', 'actions', 'collection', 'broken', 'inept', 'ass', 'daughters', 'hugh', 'essentially', 'fool', 'adam', 'grown', 'metal', 'attractive', 'fascinating', 'evelyn', 'phone', 'structure', 'discovered', 'fifteen', 'soldier', 'pleasant', 'spy', 'robot', 'favourite', 'variety', 'christian', 'endearing', 'introduced', 'johnson', 'torn', 'disgusting', 'foxx', 'scorsese', 'gilliam', 'geisha', 'normally', 'blame', 'ruined', 'grave', 'border', 'foreign', 'officer', 'develop', 'wood', 'insult', 'proved', 'popcorn', 'ill', 'bob', 'trilogy', 'becoming', 'appreciated', 'kung', 'psychological', 'capable', 'spanish', 'burned', 'meeting', 'killings', 'promise', 'conversations', 'necessary', 'floor', 'training', 'suffer', 'proud', 'notice', 'smart', 'scared', 'keaton', 'adults', 'carol', 'provided', 'seconds', 'opera', 'folks', 'everyday', 'quiet', 'opens', 'visuals', 'gory', 'england', 'mass', 'topless', 'worthwhile', 'guard', 'facts', 'laughed', 'maria', 'awkward', 'guessing', 'london', 'rule', 'los', 'hanging', 'christopher', 'court', 'unlikely', 'weight', 'pseudo', 'tight', 'anymore', 'obsessed', 'interviews', 'cynical', 'haunting', 'artist', 'experiences', 'han', 'featured', 'describe', 'packed', 'forces', 'carry', 'finest', 'cage', 'technically', 'steals', 'key', '#', 'lifetime', 'critical', 'bloodbath', 'bar', 'pair', 'damn', 'cliché', 'green', 'hotel', 'technology', 'graphics', 'm', 'focused', 'substance', 'forgettable', 'stone', 'consists', 'crappy', 'ups', 'plant', 'g', 'pointed', 'vanessa', 'redgrave', 'contemporary', 'authentic', 'pacino', 'paxton', 'nose', 'choose', 'inner', 'sheriff', 'relate', 'physical', 'beach', 'million', 'catholic', 'sits', 'gross', 'cutting', 'excited', 'consequences', 'niro', 'foot', 'ultimatum', 'par', 'campy', 'device', 'modesty', 'blacks', 'matrix', 'anna', 'buying', 'curious', 'chapter', 'recognize', 'jackman', 'section', 'paint', 'wayans', 'magazine', 'eddie', 'ballet', 'tarzan', 'lovable', 'redemption', 'resolution', 'gary', 'flawed', 'ironically', 'succeeds', 'ultimate', 'clichés', 'finale', 'pal', 'asked', 'higher', 'hopes', 'spielberg', 'gruesome', 'statement', 'mix', 'trailers', 'granted', 'queen', 'aka', 'source', 'included', 'speed', 'renting', 'academy', 'winner', 'realized', 'conversation', 'warm', 'table', 'skin', 'ai', 'jessica', 'thomas', 'designed', 'handsome', 'nurse', 'liners', 'workers', 'germany', 'saving', 'account', 'backwards', 'handled', 'rings', 'lucky', 'returns', 'pulp', 'delivers', 'extraordinary', 'category', 'ran', 'disaster', 'madison', 'painfully', 'learns', 'kidnapped', 'execution', 'angry', 'serves', 'sucked', 'till', 'tracy', 'angels', 'mistakes', 'disbelief', 'remotely', 'gem', 'imagination', 'featuring', 'basement', 'oil', 'master', 'attempted', 'novels', 'occasionally', 'giant', 'portraying', 'anthony', 'golden', 'exploitation', 'native', 'tongue', 'laurel', 'prostitute', 'thankfully', 'speech', 'favor', 'dumb', 'build', 'streets', 'river', 'funniest', 'remind', 'desire', 'abuse', 'handed', 'sons', 'visually', 'tape', 'weapon', 'enter', 'fortunately', 'gon', 'na', 'combination', 'crowd', 'battles', 'regular', 'mirror', 'sitcom', 'commercials', 'doom', 'enters', 'festival', 'gratuitous', 'price', 'wind', 'element', 'luck', 'ancient', 'remaining', 'carried', 'cousin', 'enemies', 'wives', 'compare', 'strength', 'european', 'nevertheless', 'ages', 'criminal', 'bright', 'thoughts', 'grandmother', 'hint', 'miserably', 'strongly', 'americans', 'et', 'convey', 'apartheid', 'basis', 'meanwhile', 'cheech', 'asking', 'pre', 'holds', 'glenn', 'cameos', 'mid', 'noticed', 'rachel', 'blown', 'caprica', 'rented', 'nude', 'trees', 'competent', 'rangers', 'skits', 'waves', 'briefly', 'growing', 'join', 'offensive', 'tim', 'nazi', 'appropriate', 'prime', 'intriguing', 'cameron', 'titanic', 'alfred', 'possibility', 'sheer', '2001', 'simpson', 'dig', 'killers', 'survivors', 'theory', 'elsewhere', 'anime', 'dinosaur', 'frankly', 'harry', 'stevenson', 'unfortunate', 'comical', 'satisfying', 'jobs', 'results', 'dynamic', 'teens', 'anne', '40', 'karloff', 'sea', 'clichéd', 'rights', '11', 'calling', 'australian', 'viewed', 'page', 'donald', 'latino', 'judge', 'hanzo', 'leon', 'bugs', 'sheets', 'newman', 'ellen', 'rambo', 'sides', 'india', 'cost', 'kick', 'clean', 'mindless', 'glory', 'san', 'suffers', 'craft', 'critics', 'environment', 'u', 'driven', 'ruin', 'celebrity', 'soccer', 'suspect', 'hired', 'seek', 'heavily', 'racist', 'nominated', 'letter', 'bothered', 'sunday', 'individual', 'grandfather', 'pushed', 'affected', 'fail', 'believing', 'code', 'rain', 'cares', 'funnier', 'views', 'divided', 'claustrophobic', 'peace', 't', '60', 'treated', 'emma', 'kinds', 'lower', 'rogers', 'spoiled', 'term', 'filmmaker', 'edward', 'hence', 'z', 'mst3k', 'explains', 'flesh', 'description', 'traveling', 'mankind', 'splendid', 'slight', 'flicks', 'arms', 'sword', 'cardboard', 'unfunny', 'mexican', 'gordon', 'toy', 'invisible', 'affair', 'required', 'wear', 'players', 'picks', 'rules', 'reference', 'shell', 'paper', 'creating', 'overly', 'hype', 'worry', 'emperor', 'send', 'hidden', 'disguise', 'plans', 'jail', 'bore', 'allows', 'experienced', 'successfully', 'rise', 'deeply', 'tommy', 'boris', 'smooth', 'false', 'damon', 'steel', 'defeat', 'africans', 'numbers', 'moon', 'east', 'content', 'sports', 'combined', 'convinced', 'bruce', 'union', 'network', 'laid', 'test', 'sexually', 'choreography', 'kitty', 'loss', 'bomb', 'solve', 'magnificent', 'concerns', 'breaks', 'football', 'sticks', 'bigger', 'chong', 'develops', 'spectacular', 'clark', 'correct', 'deadly', 'product', 'talents', 'france', 'crimes', 'tears', 'offers', 'streep', 'yawn', 'sleep', 'circumstances', 'haunted', 'genuinely', 'flashbacks', 'belief', 'bridge', 'pop', 'fbi', 'suited', 'rolling', 'paced', 'contain', 'wolf', 'peralta', 'documentaries', 'intense', '3d', 'draw', 'paris', 'saturday', 'afternoon', 'comparison', 'orders', 'twilight', 'zone', 'freddy', 'vietnam', 'whoever', 'dangerous', 'private', 'united', 'hole', 'bait', 'e', 'retired', 'grant', 'culkin', 'eric', 'downright', 'chest', 'stealing', 'hearted', 'luckily', 'frame', 'area', 'israel', 'shakespeare', 'n', 'photographer', 'ungar', 'matthau', 'sisters', 'comedic', '1980s', 'detective', 'process', 'relation', 'arnold', 'nonsense', 'plots', 'darkness', 'destined', 'attacked', 'tragedy', 'holding', 'rocket', 'tall', 'overlook', 'accents', 'shining', 'designs', '1950s', 'che', 'hundreds', 'whilst', 'fairy', 'nutcracker', '`', 'parker', 'alison', 'mckenna', 'moag', 'lily', 'w', 'carries', 'uk', 'served', 'duty', 'honor', 'mere', 'lips', 'seventies', 'justify', 'shortly', 'therefore', 'bodies', 'unexpected', 'friendly', 'depressing', 'excitement', 'opposed', 'hearts', 'dramas', 'warned', 'nine', 'secondly', 'fed', 'woody', 'theatre', 'complicated', 'dinner', 'remote', 'aged', 'irish', 'meat', 'raines', 'henderson', 'searching', 'innocence', 'phantom', 'instance', 'emphasis', 'starred', 'coal', 'explosion', 'repetitive', 'downhill', 'executed', 'nightmare', 'elderly', 'absurd', 'struggles', 'revealing', 'scares', 'viewings', 'relief', 'attempting', 'foster', 'el', 'sympathy', 'directs', 'mitch', 'uncle', 'jungle', 'natives', 'costs', 'productions', 'celluloid', 'stock', 'martians', 'machines', 'narrator', 'specific', 'fought', 'scripted', 'resembles', '2004', 'numbing', 'board', 'related', 'satan', 'santa', 'visits', 'incidentally', '\\x85', 'routine', 'valjean', 'secretary', 'movements', 'troops', 'march', 'bonus', 'tedious', 'erotic', 'repeated', 'soft', 'danger', 'chases', 'southern', 'learning', 'ingrid', 'pitt', 'tense', 'gender', 'fly', 'inspiring', 'grasp', 'constructed', 'energy', 'cavemen', 'thousand', 'suit', 'involvement', 'exposed', 'matters', 'hunt', 'alas', 'hip', 'bound', 'covered', 'europeans', 'europe', 'quest', 'credible', 'babe', 'bey', 'deaths', 'pictures', 'study', 'edith', 'edie', 'adapted', 'boyle', 'beast', 'accepted', 'immensely', 'heroes', 'busy', 'loser', 'health', '70s', 'embarrassing', 'existent', 'dire', 'assume', 'believes', 'meryl', 'stylized', 'market', 'stellar', 'foul', 'contrast', 'depicted', 'attacks', 'gray', 'angle', 'nearby', 'stanley', 'lesson', 'daily', 'weather', 'push', 'closely', 'skills', 'bitter', 'drink', 'trivia', 'simon', 'chick', 'appearing', 'tunes', 'locked', 'seat', 'fashioned', 'genuine', 'contrived', 'dozen', 'gene', 'confusion', 'learned', 'noble', 'idiot', 'strictly', 'gripping', 'disagree', 'oddly', 'sarah', 'importance', 'helped', 'scifi', 'witty', 'creation', 'christina', 'relevant', 'amazed', 'introduction', 'explained', 'fill', 'highlight', 'repeat', 'cases', 'faithful', 'rooms', 'acts', 'relating', 'fictional', 'billy', 'clara', 'ludicrous', 'winter', 'kim', 'principle', 'benjamin', 'medical', 'spite', 'azumi', 'regret', 'charlie', 'slugs', 'futuristic', 'broadcast', 'reveals', 'chávez', 'revolution', 'pilots', 'complain', 'crude', 'suck', 'monkeys', 'guts', 'sean', 'whites', 'murphy', 'thirty', 'steps', 'shall', 'painting', '25', '1960', 'figures', 'enjoys', 'jerry', 'urban', 'picking', 'improbable', 'guessed', 'receive', 'calvin', 'twisted', 'press', 'qualities', 'letting', 'richards', 'underground', 'hearing', 'sympathetic', 'synopsis', 'brad', 'burke', 'passing', 'jazz', 'comics', 'stupidity', 'rohmer', 'notch', 'denzel', 'hood', 'neck', 'loyalty', 'razor', 'attitude', 'moores', 'campbell', 'prequel', 'wing', 'duvall', 'payne', 'navy', 'cruise', 'rip', 'report', 'jessie', 'gina', 'jesus', 'keys', 'weapons', 'iraq', 'mildred', 'beth', 'uninteresting', 'winston', 'colony', 'wendt', 'bug', 'raising', 'sayuri', 'chairman', 'kline', 'relatively', 'countries', 'caring', 'mrs', 'compelled', 'presentation', 'liberal', 'solely', 'poster', 'thief', 'comparisons', '_', 'specially', 'button', 'burning', 'calls', 'adding', 'displayed', 'shouting', 'lonely', 'strangely', 'temple', 'frightening', 'wondered', 'mickey', 'protagonist', 'dick', 'destruction', 'billed', 'spike', 'drives', 'delightful', 'attached', 'nope', 'kinda', 'shut', 'express', 'pretentious', 'cher', 'moonstruck', 'cared', 'comfortable', 'apply', 'ignorance', 'beer', 'stops', 'failure', 'sleeping', 'pet', 'portray', 'president', 'screenwriter', 'crafted', 'claiming', 'jeffrey', 'bette', 'eve', 'respective', 'china', 'miners', 'franco', 'greater', 'causes', 'failures', 'supernatural', 'chilling', 'recommendation', 'bo', 'laughably', 'greatly', 'frozen', 'ian', 'degree', 'creates', 'hills', 'fabulous', 'artificial', 'revealed', 'thrills', 'nowadays', 'influence', 'surrounding', 'ideal', 'performers', 'imagined', 'spirited', 'dogs', 'vivid', 'suits', 'explosions', 'lights', 'blair', 'julia', 'embarrassingly', 'atrocious', 'base', 'bargain', 'douglas', 'malone', 'worlds', 'disease', 'ought', 'washed', 'facial', 'primarily', 'drag', '1974', '1973', 'gotten', 'palace', 'antics', 'doll', 'slaves', 'interpretation', 'suffering', 'buddy', 'hunting', 'irrelevant', 'irritating', 'static', 'ho', 'aging', 'jon', 'terrifying', 'seeking', 'manage', \"o'brien\", 'frustrated', 'intentions', 'construction', 'vader', 'chewbacca', 'discovers', 'throws', 'twin', 'separated', 'rooney', 'witnessed', 'awfully', 'convince', 'scientist', 'rubber', 'lennon', 'confident', 'broke', 'giants', 'geniuses', 'frodo', 'similarly', 'fallen', 'heaven', 'trial', 'classics', 'obligatory', 'tied', 'warriors', 'professor', 'considers', 'kharis', 'priest', 'ford', 'grey', 'aunt', 'experiencing', 'flynn', 'developing', 'chair', 'virtual', 'changing', 'root', 'demille', 'led', 'scripts', 'owner', 'practically', 'string', 'ratings', 'enormous', 'provoking', 'blind', 'destroy', 'i.e.', 'range', 'originality', 'unintentionally', 'includes', 'julie', 'bbc', 'michelle', 'borrowed', 'marie', 'placed', 'cities', 'annoyed', 'fields', 'proof', '1958', 'virtually', '1980', 'burn', 'smoke', 'freak', 'lion', 'circus', 'photographed', 'fits', 'failing', 'emotionally', 'couch', 'horrific', 'rocks', 'florida', 'projects', 'mtv', 'enthusiasm', 'simplicity', 'meaningful', 'patrick', 'ensemble', 'reduced', '1990', 'multi', 'trek', 'dated', 'yesterday', 'surprises', 'breasts', 'wasting', 'reader', 'purple', 'companion', 'sun', 'text', 'beloved', 'bsg', 'handle', 'miraculously', 'letters', 'mraovich', 'opened', 'strip', 'robin', 'surface', 'infamous', 'minds', 'seeks', 'humanity', 'tortured', 'ridden', 'joseph', 'bravo', 'raised', 'wwii', 'warner', 'kralik', 'passed', 'dear', 'hung', 'partly', 'conspiracy', 'ominous', 'commercial', 'ruby', 'backdrop', 'masters', 'target', 'kong', 'upset', 'ninja', 'fights', 'reminds', 'intentionally', 'curly', 'joan', 'charge', 'melodramatic', 'bush', 'rainy', 'refreshing', 'individuals', 'horrors', 'audio', '18', 'alleged', 'cake', 'kiss', 'heston', 'dahmer', 'definite', 'stereotypical', 'detailed', 'jackie', 'wanna', 'types', 'goers', 'security', 'achieve', 'importantly', 'stood', 'references', 'troubled', 'urge', 'miyazaki', 'month', 'splatter', 'constant', 'liz', 'feminist', 'october', 'endure', 'rukh', 'radiation', 'serbs', 'reporter', 'sequels', 'spin', 'haines', 'shirley', 'survives', 'dawson', 'kelly', 'suitors', 'occasional', 'helen', 'greenstreet', 'mormon', 'conservative', 'brooklyn', 'claimed', 'shoes', 'garden', 'voices', 'gunga', 'din', 'usa', 'brilliantly', 'memoirs', 'duc', 'philip', 'risk', 'corny', 'hook', 'nicholson', 'stooges', 'matt', 'sajani', 'pole', 'performed', 'parody', 'baldwin', 'kubrick', 'p.s', 'fingers', 'dentist', 'snl', 'initial', 'blanks', 'francisco', 'cagney', 'breaking', 'todd', 'btk', 'maher', 'argument', 'reunion', 'controversial', 'barbara', 'mendes', 'kazuhiro', 'ha', 'oz', 'hank', 'dana', 'peckinpah', 'alright', 'rookie', 'bonanza', 'whitaker', 'sidney', 'muslims', 'unpleasant', 'painted', 'handful', 'interestingly', 'determine', 'biased', 'blames', 'listening', 'tear', 'inevitable', 'informed', 'tie', 'statements', 'presents', 'involve', 'rush', 'prevent', 'struggling', 'lawyer', 'homosexual', 'checking', 'grows', 'yelling', 'repeating', 'depiction', 'nineties', 'consistent', 'absence', 'satisfy', 'costume', 'adopted', 'igor', 'corpse', 'stumbles', 'disjointed', 'dan', 'internet', 'host', 'junk', 'wide', 'choices', 'nomination', 'connect', 'ear', 'passionate', 'earned', 'pleased', 'wore', 'underneath', 'perception', 'shadow', 'print', 'piano', 'inspector', 'guilty', 'naive', 'heroic', 'furious', 'improved', 'juvenile', 'largely', 'sally', 'celeste', 'slapstick', 'tradition', 'underrated', 'crisis', 'sorts', 'wreck', 'awry', 'russia', 'iran', 'neo', '50s', 'differences', 'finger', 'stiff', 'giallo', 'inhabitants', 'travel', 'remarkable', 'nelson', 'ultra', 'amusingly', 'rick', 'jonathan', 'judd', 'decisions', 'shape', 'insulting', 'wears', 'roy', 'knife', 'donna', 'regarding', 'rebel', 'tons', 'flair', 'accomplished', 'pulling', 'kyle', 'hudson', 'frost', 'dragged', 'purely', 'grab', 'highlights', 'display', 'effectively', 'rural', 'precious', 'prey', 'grow', 'muertos', 'rises', 'beats', 'translation', 'buzz', 'embarrassed', '[', ']', 'judging', 'merry', 'prone', 'excess', 'program', 'teeth', 'cosette', 'eponine', 'hundred', 'planning', 'carefully', 'succeeded', 'racial', 'campus', 'mansion', 'atmospheric', 'doors', 'ewan', 'catchy', 'prepared', 'worthless', 'universe', 'skeptical', 'colour', 'solo', 'leia', 'creatures', 'bears', 'odds', 'alternate', 'buddies', 'wake', '1976', 'personalities', 'reaction', 'recognizable', 'poetry', 'tune', 'inspiration', 'widmark', 'stolen', 'carter', 'unconvincing', 'perform', 'listed', 'siblings', 'noticeable', 'accounts', 'stopped', 'reluctant', 'mummy', 'stunt', 'goal', 'originally', 'produce', 'dose', 'aiming', 'ghosts', 'snake', 'sensitive', 'weakest', 'answers', 'wallace', 'basketball', 'abandoned', 'kicked', 'clues', 'thieves', 'spelled', 'exists', 'b.', 'civil', 'lincoln', 'immediate', 'errors', 'dysfunctional', 'possibilities', 'reports', 'protagonists', 'fired', 'enjoyment', 'research', 'summary', 'nuclear', 'monsters', 'legal', 'selfish', 'brains', 'zhang', 'politics', 'studying', 'watchable', 'charismatic', 'per', 'tarantino', 'forest', 'sheila', 'margaret', 'spell', 'anita', 'examples', 'burt', 'mcqueen', 'witness', 'cabin', 'investigate', 'threat', 'tiresome', 'afterwards', 'messed', 'astonishing', 'revolves', 'italy', 'blatantly', 'daring', '60s', 'losers', 'halfway', 'sudden', 'holiday', 'schlock', 'youthful', 'multiple', 'hungarian', 'raise', 'visiting', 'hide', 'illiterate', 'misery', 'breath', 'plastic', 'expense', 'walks', 'attend', 'debut', 'flashback', 'baker', 'technicolor', 'bucks', 'exotic', 'hoped', 'shoots', 'expression', 'lacked', 'suspenseful', 'surreal', 'explaining', 'estate', 'abilities', 'saves', 'groups', 'editor', 'overcome', 'tales', 'darn', 'techniques', 'faced', 'pushes', 'mountain', 'primitive', 'nostalgia', 'weekend', 'propaganda', '13', 'limits', 'cox', 'digital', 'deputy', 'poke', 'romp', 'remarkably', 'shed', 'drawing', 'matuschek', 'snow', 'abrupt', 'proving', 'closing', 'cash', 'jar', 'accomplish', 'primary', '45', 'r', 'dee', 'bart', 'authority', 'mental', 'parent', 'size', 'disappear', 'flawless', 'dialogs', 'ruthless', 'elvira', 'dahl', 'thrillers', 'thrilling', 'factor', 'discussing', 'glass', 'objective', 'bashing', 'centers', 'suffered', 'firing', 'romero', 'asleep', 'mildly', 'ironic', 'armed', 'spoil', 'bank', 'vacation', 'awe', 'ad', 'gerard', 'satire', 'meatball', 'wire', 'resources', 'meaningless', '2006', 'inevitably', 'clothing', 'misguided', 'subtext', 'aired', 'jet', 'butt', 'alice', 'hong', 'nail', 'previously', 'ah', '1972', 'dictator', 'struck', 'scientists', 'captivating', 'loy', 'walter', 'superficial', 'divorce', 'sticking', 'throwing', 'bag', 'scheme', 'shades', 'credibility', 'owners', 'der', 'attract', 'trashy', 'uneven', 'hitchhiker', 'segment', 'creep', 'trapped', 'floating', 'disconcerting', 'realizes', 'lasted', 'inform', 'nation', 'dollars', 'significant', 'predecessors', 'johansson', 'screening', 'joined', 'striking', 'experiment', 'hag', 'putting', 'countless', 'complaints', 'reads', 'narration', 'identical', 'dawn', 'awards', 'honesty', 'paperhouse', 'rob', 'watches', 'conventions', 'shu', 'qi', 'sum', 'react', 'sharp', 'argue', 'technique', 'vicious', 'obnoxious', 'flash', 'gypsy', 'associated', 'entertained', 'active', 'duke', 'heights', 'portrait', 'lanisha', 'melissa', 'highest', 'bare', 'adrian', 'distributed', 'katsu', 'cents', 'threatened', 'directly', 'gradually', 'sunrise', 'patient', 'overdone', 'offside', 'mystical', 'clips', 'properly', 'hazing', 'sinatra', 'jamie', 'marlene', 'adaption', 'saint', 'pays', 'topic', '14', 'cruel', 'exist', 'destiny', 'bands', 'politician', 'courage', 'wayne', 'meadows', 'slashers', 'hackenstein', 'bike', 'executives', 'appealing', 'hooper', 'stated', 'flaw', 'tapes', 'haig', 'cheaply', 'gandhi', 'web', 'gillian', 'hawke', 'marjorie', 'adeline', 'popularity', 'grim', 'switches', 'raider', 'mature', 'thread', 'block', 'perdition', 'industrial', 'disc', 'reactor', 'morris', 'frosty', 'roddy', 'phillip', 'osa', 'asimov', '1964', 'raven', 'grendel', 'beowulf', 'poe', 'pixar', 'grasshoppers', 'ladder', 'rockets', 'reb', 'nel', 'kibbutz', 'andré', 'ogre', 'dornhelm', 'brendan', 'donnison', 'coalwood', 'forgive', 'merit', 'partition', 'labor', 'discussion', 'montage', 'eats', 'goofy', 'sounded', 'bio', 'narrated', 'typically', 'tara', 'pie', 'education', 'graveyard', 'flacks', 'destroying', 'superhero', 'ron', 'idiots', '13th', 'disfigured', 'ebert', 'intellectual', 'analysis', 'kicks', 'connected', 'repeatedly', 'assault', 'ranks', 'lam', 'legs', 'warped', 'paintings', 'coherent', 'hitchcock', 'domino', 'psycho', 'yanos', 'fiery', 'burst', 'cancer', 'imagery', 'staying', 'titled', 'westerns', 'models', 'shooter', 'lessons', 'decades', 'inane', 'intensity', 'remarks', 'sunshine', 'frustration', 'romanian', 'spaghetti', 'respected', 'healthy', 'manager', 'realizing', 'avoided', 'touched', 'excruciatingly', 'medium', 'polish', 'buster', 'crisp', 'harmless', 'alan', 'sole', 'secretly', '1940s', 'operation', 'employed', 'anderson', 'center', 'forties', 'discovering', 'shine', 'fisher', 'spoof', 'indians', 'challenge', 'international', 'appropriately', 'resulting', 'vs.', 'vain', 'minimal', 'messages', 'harmony', 'pun', 'drawbacks', 'complaint', 'jumps', 'idiotic', 'polite', 'citizens', 'enterprise', 'resembling', 'superbly', 'lesser', 'astronaut', 'split', 'gas', 'praise', 'tobe', 'innovative', 'mannered', 'mini', 'suitable', 'austen', 'comeuppance', 'lucy', 'psychic', 'fest', 'corrupt', 'cheated', 'storytelling', 'bless', 'damsel', 'duel', 'fare', 'casper', 'hoffman', 'blowing', 'peoples', 'blow', 'relative', 'sacrifice', 'presumably', 'marc', 'shoddy', 'ambitious', 'gained', 'brave', 'survived', 'h.', '19th', '20th', 'dress', 'noted', 'unable', 'encounters', 'careers', 'conviction', 'del', 'dozens', 'panic', 'legends', 'olds', 'lousy', 'aim', 'funeral', 'walken', 'dollar', 'allowing', 'obscure', 'acquired', 'st', 'claus', 'sing', 'reel', 'magician', 'delivery', 'resemble', 'wrapped', 'trio', 'causing', 'sell', 'screw', 'marius', 'revolt', 'screenwriters', 'dislike', 'attacking', 'lip', 'menacing', 'paintball', 'portrays', 'sporting', 'professionals', 'amateur', 'alongside', 'parallel', 'christ', 'noises', 'traffic', 'improvised', 'mouse', 'gathering', 'anthology', 'fourth', 'holmes', 'educational', 'russ', 'stress', 'trick', 'winters', 'purchase', 'bakshi', 'landscape', 'connections', 'jedi', 'safe', 'yoda', 'stronger', 'escapes', 'chased', 'chasing', 'incompetent', 'mentally', 'via', 'insurance', 'jared', 'intimate', 'rank', 'tolkien', 'manipulated', 'conceived', 'liking', 'limit', 'contract', 'appalling', 'excessive', 'label', 'communist', 'contact', 'kane', 'occurs', 'principal', 'arrives', 'germs', 'conclude', 'predecessor', 'providing', 'flight', 'cable', 'threw', 'transformation', 'mild', 'postcard', 'cringe', 'toilet', 'natasha', 'unfold', 'bon', 'guitar', 'beating', 'angeles', 'crack', 'dude', 'forgets', '1st', 'combat', 'evidently', 'quarters', 'talks', 'secure', 'confederate', 'controlled', 'profound', 'breakfast', 'benefit', 'earl', 'wacky', 'represented', 'keller', 'weakness', 'creativity', 'stirring', 'equipment', 'user', 'beliefs', 'beings', 'needless', 'unfolds', 'australia', 'showcase', 'dragon', 'uninspired', 'service', 'sir', 'classes', '3rd', 'sentiment', 'fodder', 'devoid', 'subjects', 'distance', 'laws', 'physics', 'introduces', 's.', 'kay', 'acid', 'criticize', 'beatty', 'genova', 'swimming', 'serve', 'kicking', 'closer', 'con', 'sidekick', 'gritty', 'salt', 'barry', 'poignant', 'ugh', 'factory', 'craig', 'families', 'reached', 'susan', 'richardson', 'incarnation', 'dancy', 'discovery', 'blank', 'ginger', 'stinker', 'brilliance', 'diner', 'commenting', 'notable', 'stages', 'contrary', 'spoken', 'alike', 'implausibility', 'jeremy', 'matthew', 'doyle', 'nasa', 'colonel', 'ensues', 'sinister', 'randomly', 'curiosity', 'jacket', 'irony', 'whereas', 'cigarette', 'lesbian', 'suspicious', 'understood', ':)', 'ridiculously', 'miscast', 'intact', 'realm', 'waitress', 'protector', 'biker', 'abysmal', 'deeper', 'attracted', 'noll', 'dimensional', 'ocean', 'formed', 'headed', 'deserted', 'confrontation', 'county', 'occurred', 'manga', 'punches', '17', 'sophisticated', 'stereotypes', 'clue', 'battlestar', 'angel', 'anytime', 'pat', 'berlin', 'clock', 'bang', 'warrior', 'returned', 'document', 'corner', 'contained', 'co.', 'bickering', 'morgan', 'persona', 'sloppy', 'borrow', 'truck', 'lands', 'promptly', 'miserable', 'owe', 'sounding', 'mode', 'releases', 'victoria', 'indication', 'bite', 'bedroom', 'samurai', 'weaker', 'vengeance', 'exaggeration', 'shared', 'apartments', 'university', 'nicholas', 'musician', 'brady', 'widely', 'malcolm', 'defense', 'forth', 'radical', 'moody', 'blooded', 'convicted', 'blew', 'dorothy', 'population', 'scale', 'realities', 'mobile', 'prefer', 'don', 'supported', 'someday', 'slap', 'valerie', 'dedicated', 'leslie', 'buff', 'hides', 'restaurant', 'crotch', 'remain', 'management', 'aftermath', 'void', 'generic', 'independence', 'generous', 'boom', 'innovation', 'li', 'joker', 'balance', 'ties', 'noam', 'ashwar', 'concert', 'dreyfuss', 'senses', 'ears', 'portion', 'spends', 'refer', 'furthermore', 'clown', 'dressing', 'neat', 'francis', 'condition', 'beverly', 'ethnic', 'recorded', 'trail', 'lively', 'rotten', 'pressed', 'secrets', 'spades', 'stanwyck', 'distracting', 'disappeared', 'expedition', '30s', 'vote', 'undoubtedly', 'darryl', 'infected', 'retirement', 'dutch', 'interview', 'featurette', 'pulse', 'hat', 'bam', 'function', 'helicopter', 'standout', 'olivier', 'willis', 'scientific', 'hopeless', 'transformed', 'automatic', 'awhile', 'jay', 'guarantee', 'internal', 'utah', 'dropped', 'indie', 'blade', 'abc', 'begs', 'method', 'walls', 'belong', 'performer', 'charlotte', 'staring', 'gag', 'outrageous', 'breathing', 'glued', 'sadness', 'despair', 'sandra', 'silver', 'integrity', 'mining', '1948', 'status', 'esther', 'tin', 'bollywood', 'paquin', 'leachman', 'athletic', 'predict', 'pregnant', 'arrested', 'gavin', 'preferred', '1960s', 'hiding', 'wolverine', 'shocked', 'disturbed', 'georgia', 'divorced', 'dry', 'stale', '1936', 'bullets', 'taught', 'encounter', 'stardust', 'corruption', 'stumbled', 'afford', 'hates', 'grotesque', 'insane', '1959', 'shy', 't.k', 'path', 'sivan', 'hitler', 'jealousy', 'understatement', 'newspaper', 'convertible', 'ticket', 'bearing', 'bassenger', 'rednecks', 'insert', 'nerdy', 'implausible', '2009', 'collective', 'paranoia', '98', 'teaching', 'boogeyman', 'captive', 'part2', 'expressions', 'plight', 'latest', 'tour', 'daniel', 'palma', 'measure', 'troma', 'rot', 'sin', 'ireland', 'commit', 'laboratory', 'swept', 'believed', 'tanya', 'amy', 't.v', 'captures', 'potter', 'indulgent', 'fatal', 'blunt', 'mentions', 'patients', 'desired', 'hardcore', 'sadistic', 'journalist', 'determination', 'studies', 'restored', 'substitute', 'tracks', 'manhattan', 'domestic', 'civilization', 'upbringing', 'celine', 'ethan', 'disappoint', 'maintain', 'gain', 'marty', 'powell', 'adequate', 'om', 'veteran', 'oversexed', 'outcome', 'blandings', 'muriel', 'guilt', 'sentimental', 'mcgregor', 'undead', 'sixteen', 'spots', 'practice', 'dean', 'gothic', 'rampage', 'balls', 'guards', 'data', 'scarface', 'incoherent', 'calm', 'elephant', '21st', 'distant', 'johnsons', 'cécile', 'pains', 'ghetto', 'caan', 'sweat', 'protée', 'saxon', 'tooth', 'elegant', 'alienate', 'pegg', 'jules', 'behave', 'lindy', 'giggles', 'blaise', 'chamberlain', 'holt', 'aaron', 'sammi', 'hickam', 'mines', 'fortier', 'carlito', 'mayeda', 'rebels', 'un', 'meg', 'replay', 'jonestown', 'hindus', 'region', 'cruelty', 'wrenching', 'stereotype', 'entry', 'coleman', 'legitimate', 'posters', 'challenges', 'shortcomings', 'plague', 'load', 'lucas', 'legacy', 'indiana', 'establishing', 'shoulder', '1975', 'pants', 'directions', 'arrogant', 'greg', 'phelps', 'atheist', 'christianity', 'increasingly', 'aggressive', 'screened', 'pia', 'ringo', 'thru', 'rider', 'horse', 'bleak', 'hk', 'absurdity', 'suspects', 'harvey', 'appearances', 'rourke', 'signs', 'demon', 'agrees', 'grainy', 'skating', 'justified', 'principals', 'crush', 'advances', 'transfixed', 'notions', 'fiennes', 'jealous', 'firstly', 'truthful', 'moron', 'vanilla', 'cream', 'artists', 'gifted', 'mushrooms', 'loretta', 'housewife', 'conventional', 'regardless', 'compliment', 'coincidences', 'fortune', 'identities', 'cleverly', 'verdict', 'wholly', 'performs', 'kansas', 'lit', 'dolls', 'virtue', 'lure', 'croc', 'skit', 'crocodile', 'losing', 'entered', 'arrival', 'craven', 'montana', 'delight', 'ego', 'settings', 'refuse', 'scariest', 'positively', 'copies', 'morgue', 'forwards', 'occasion', 'derek', 'ingredients', 'wet', 'frequently', 'enhances', 'unexpectedly', 'imaginative', 'comrades', 'instantly', 'slimy', 'wes', 'chills', 'samantha', 'motivated', 'greed', 'dare', 'expert', 'minded', 'pitiful', 'foolish', 'flop', 'ajay', 'foxes', 'exterminator', 'commented', 'suspension', 'staged', 'oliver', 'lyrics', 'broadway', 'garish', 'blues', 'unhappy', 'rounding', 'keith', 'j.', 'snowman', 'barker', 'dpp', 'shopping', 'aid', 'neglected', 'victorian', 'informative', 'progress', 'landmark', 'hysterical', 'gallery', 'baron', 'satanic', 'linked', 'speaks', 'uncomfortable', 'stiller', 'scores', 'acquire', 'counts', 'crushed', 'fantine', 'irresponsible', 'dandy', 'happily', 'accuracy', 'revolutionaries', 'fitting', 'javert', 'inaccurate', 'confession', 'deathbed', 'insults', 'blah', 'trains', 'website', 'lifted', '2003', 'dramatically', 'drugged', 'olivia', 'accepting', 'colleges', 'incident', 'elliott', 'lions', 'nights', 'vice', 'ambiance', 'shares', 'mechanics', 'reflection', 'circles', 'huh', 'acclaimed', 'temper', 'continue', 'othello', 'murderous', 'colman', 'edmond', 'currently', 'muddled', 'crawl', 'inspirational', 'programs', 'drew', 'spiritual', 'seldom', 'gangs', 'verge', 'empire', 'strikes', 'pretends', 'cell', 'temptation', 'worried', 'confront', 'fatty', 'psychiatrist', 'surgery', 'wonders', 'backs', 'viva', 'aimed', 'approached', 'quinn', 'mccartney', 'pleasantly', 'consequently', 'priceless', 'relies', 'physically', 'robs', 'respects', 'demands', 'decline', 'pivotal', 'explores', 'tribute', 'darker', 'punishment', 'hopper', 'defend', 'microfiche', 'agents', 'examined', 'lawrence', 'alternately', 'pedro', 'punch', 'clint', 'eastwood', 'anticipation', 'technological', 'eager', 'choking', 'surviving', 'wishes', 'beales', 'dances', 'boeing', 'airport', 'lara', 'jovi', 'vampiress', 'avoiding', 'seduce', 'ruins', 'museum', 'mysteriously', 'shoulders', 'midst', 'thirteen', 'porter', 'hopkins', 'spectacle', 'seth', 'jerk', 'bathroom', 'lock', 'file', 'equivalent', 'cup', 'countryside', 'drops', 'barrel', 'outline', 'shake', 'fifty', 'recognition', 'riveting', 'refined', 'pointing', 'opinions', 'mason', 'yimou', 'shi', 'smmf', 'extended', 'quentin', 'asian', 'displays', 'christie', 'royal', 'unrecognizable', 'promiscuous', 'uneducated', 'educated', 'prostitutes', 'cultural', 'borzage', 'heavenly', 'composed', 'jolie', 'uncredited', 'classy', 'meteorite', 'quietly', 'returning', 'witnesses', 'mates', 'department', 'russell', 'phillips', 'fist', 'origins', 'decision', '28', 'lay', 'steady', 'silliness', 'nephew', 'circle', 'larger', 'improve', 'engage', 'safely', 'valuable', 'organs', 'steam', 'commando', 'survival', 'foremost', 'promised', 'desperation', 'ueto', 'skirts', 'tree', 'hawaii', 'sharing', 'drunken', 'jaws', 'darren', 'showdown', 'sparks', 'quote', 'entering', 'godard', 'nerves', 'correctly', 'admirable', 'gummer', 'cinematographer', 'woven', 'fever', 'concerning', 'tank', 'dreck', 'revelation', 'precisely', 'routines', 'locale', 'lush', 'resulted', 'item', 'fonda', '90s', 'punk', 'resorting', 'crossing', 'brutally', 'exceptions', 'cafeteria', 'assassin', 'vienna', 'mcconaughey', 'dreadful', 'pretense', 'conscience', 'stretch', 'columns', 'misleading', 'kathryn', 'proportions', 'writes', 'task', 'casino', 'suggests', 'stir', 'tacky', 'horrid', 'rendition', 'realised', 'boobs', 'atlantis', 'blockbuster', 'breathtaking', 'supportive', 'palm', 'producing', 'waters', 'ricci', 'sold', 'settle', 'dealt', 'stacy', 'jumping', 'veterans', 'surfers', 'rushes', 'timeless', 'waited', 'legendary', 'perfection', 'underdeveloped', 'terrain', 'passes', 'singer', 'chime', 'pioneers', 'property', 'supply', 'gladys', 'griffith', '~', 'pretending', 'schaech', 'salvage', 'morse', 'matched', 'abusive', 'deceased', 'bell', 'aforementioned', '1933', 'accepts', 'ruth', 'lena', 'von', 'jews', 'forcing', 'scenarios', 'souls', 'promoted', 'subsequent', 'breakdown', 'lubitsch', 'merits', 'hints', 'lightweight', 'farm', 'fault', 'drawings', 'reactions', 'crippled', 'nazis', 'convoluted', 'timing', 'vaudeville', 'senile', 'decidedly', 'plantation', 'previews', 'blond', 'outer', 'characterization', 'sue', 'height', 'invincible', 'useless', 'ordered', 'esp', 'witches', 'electric', '99', 'mistress', 'horrendous', 'vincent', 'morals', 'seduction', 'mike', 'corporation', 'coaster', 'observer', 'absorbed', 'cole', 'eastern', 'omar', 'announcement', 'duration', 'official', 'sappy', 'nations', 'bold', 'notes', 'murderer', 'yugoslavia', 'experimental', 'bernie', 'fleet', 'realistically', 'kidding', 'installment', '2007', 'prohibition', 'assigned', 'woeful', 'meteor', 'claymation', 'reputation', 'participating', 'orphanage', 'lloyd', 'sturges', 'bottle', '1996', 'fur', 'hears', 'coat', 'macaulay', 'pushing', 'gracie', 'notably', 'heels', 'decapitated', 'afterward', 'cartoons', 'assembled', 'ease', 'upside', 'morbid', 'implication', 'premiere', 'similarities', 'stabs', 'astro', 'dub', 'sailor', 'hunters', 'wealth', 'crusade', 'assassination', 'diane', 'ross', 'thick', 'advise', 'min', 'assumed', 'exercise', 'draws', 'worn', 'smoking', 'delves', 'betrayal', 'godfather', 'plaything', 'swedish', 'frontal', 'sleazy', 'undertones', 'ya', 'difficulty', 'abruptly', 'varied', 'bent', 'affect', 'insipid', 'bloom', 'pollack', 'anger', 'achieved', 'masterpieces', 'pills', 'deemed', 'specifically', 'archaic', 'fart', 'butch', 'messy', 'refrigerator', 'cheese', 'obsessive', 'warren', 'downbeat', 'doubts', 'likewise', 'goldblum', 'eerie', 'stylish', 'lends', 'wardrobe', 'promote', 'outing', 'dreadfully', 'loosely', 'raft', 'knock', 'wealthy', 'fairbanks', 'diary', 'gather', 'fontaine', 'sellers', 'atrocity', 'globe', 'orlando', 'saga', 'jennifer', 'coma', 'vixen', 'noise', 'grabs', 'maintaining', 'bela', 'stan', 'unit', 'wretched', 'reasonable', 'unrelated', 'bombs', 'denial', 'pro', 'neutral', 'ambition', 'inadvertently', 'parks', 'wished', 'millions', 'bruckheimer', 'filmography', 'weaves', 'dwelling', 'danny', 'pitch', 'clip', 'episodic', '1963', 'hokey', 'card', 'seduced', 'suave', 'knocked', 'harold', 'killian', 'nyc', 'tap', 'pool', 'buildings', 'recording', 'crying', 'zealand', 'glaring', 'hackneyed', 'severely', 'wildly', '=', 'preposterous', 'beaten', 'madness', 'testament', 'servants', 'bowl', 'pertinent', 'rumors', 'chainsaw', 'stomach', 'cherish', 'ferrell', 'rod', 'covering', 'mountains', 'comedian', 'moronic', 'wounds', 'rapid', 'flashy', 'vs', 'satellite', 'emerge', 'edges', 'devine', 'nolan', 'renaissance', 'understandable', 'conditions', 'wings', 'deliverance', 'immature', 'sheeta', 'dubbing', 'frightened', 'gable', 'frequent', 'hammer', 'meyer', 'ads', 'shines', 'stinks', 'geico', 'elm', 'helpful', 'cook', 'mockumentary', 'thoughtful', 'format', 'hazzard', 'daisy', 'dukes', 'spare', 'hop', 'crown', 'separate', 'luxury', 'stopping', 'visited', 'sums', 'shower', 'competition', 'relations', 'violated', 'exceptionally', 'russians', 'faster', 'oates', 'capitalism', 'injured', 'jarring', 'topics', 'alarm', 'declare', 'arrive', 'illustrate', 'qualifies', 'stunts', 'celebrated', 'capacity', 'partner', 'disappears', 'terrorist', '1930', 'enigmatic', 'bikini', 'basinger', 'hunted', 'toys', 'sho', 'friendships', 'expressed', 'houses', 'garner', 'catalog', 'replaced', 'flow', 'choreographed', 'preacher', 'havoc', 'egg', 'paying', 'barney', 'sammy', 'epics', 'clarence', 'recognized', 'emerging', 'recreate', 'filling', '1956', 'turner', 'loads', 'ignorant', 'rapidly', 'vulgar', 'labeled', 'suffice', '8th', 'deanna', 'bullying', 'delon', 'tessari', 'cheating', 'sentence', 'max', 'widow', 'fireworks', 'fluff', 'bilal', 'reagan', 'chaos', 'hiring', 'daddy', 'taxi', 'pattern', 'billing', 'lighthearted', 'fx', 'guest', 'pleasures', 'shattered', 'masses', 'katie', 'puppy', 'grin', 'jake', 'depression', 'sherry', 'garris', 'mayhem', 'hungry', 'attraction', 'motives', 'bitch', 'cheek', 'ifans', 'hay', 'wartime', 'explosive', 'blows', 'grinch', '35', 'dvds', 'videos', 'behaving', 'inaccuracies', 'hellborn', 'asylum', 'resident', '1930s', 'drop', 'favorites', 'imitation', 'silence', 'cynicism', 'farmer', 'lollobrigida', 'tulipe', 'landscapes', 'cyborg', 'mel', 'responsibility', 'covers', 'coverage', 'slaughter', 'sesame', 'teach', 'boredom', 'bible', 'demonic', 'bin', 'rambling', 'threads', 'noticing', 'credited', 'encouraged', 'habit', 'capote', 'pg', 'harder', 'oldest', 'league', 'royston', 'vasey', 'driver', 'vet', 'ham', 'ax', 'parnell', 'gangsters', 'sullivan', 'transforms', 'easier', 'evans', 'fosters', 'dogma', 'files', 'upcoming', 'shelf', 'ball', 'hairy', 'alcohol', 'sediment', 'spilled', 'rough', 'negatives', 'commander', 'tremors', 'stole', 'dancer', 'ammo', 'elevator', 'engine', 'vets', 'outfits', 'qualified', 'adored', '500', 'chain', 'subjected', '-and', 'changeling', 'convicts', 'prisoner', 'gigi', 'olga', 'unforgettable', 'tulip', 'colored', 'mac', 'safety', 'studs', 'wolves', 'clinton', 'pilger', 'garcia', 'poem', 'colin', 'titles', 'continued', 'whack', 'penn', 'flik', 'territory', 'centered', 'louque', 'cambodia', '1968', 'nino', 'vicky', 'argonne', 'oak', 'ridge', 'drummond', 'balanchine', '1993', 'lou', 'pernell', 'gunfights', 'visconti', 'provoke', 'spending', 'zoe', 'puerto', 'ebts', 'loulou', 'laura', 'lucienne', 'corporate', 'gulfax', 'voyna', 'mir', 'radar', 'saddles', 'hasselhoff', 'exploit', 'inhumanity', 'faults', 'pakistan', 'heartbreaking', 'donuts', 'admiration', 'concentrate', 'staggering', 'devotion', 'operating', 'tag', 'drown', 'reid', 'comforting', 'voted', 'raises', 'convention', 'bantam', 'jumped', 'earnest', 'bronze', 'accompanied', 'diego', 'freshman', 'heartfelt', 'motions', 'briggs', 'positions', 'islam', 'baptist', 'triad', 'outsiders', 'compromise', 'compares', 'swords', 'horses', 'imprisoned', 'similarity', 'veers', 'grudge', 'phil', 'sparse', 'amazingly', 'pirate', 'graphically', 'slaughterhouse', 'butcher', 'doomed', 'traumatic', 'nuns', 'lab', 'hire', 'stalking', '1977', 'jansen', 'voyage', 'tuned', 'swear', 'leaning', 'hmm', 'outdated', 'refers', 'shook', 'relic', 'wins', 'nominations', 'joking', \"c'mon\", 'kik', 'triangle', 'kiki', 'humorless', 'slice', 'blessed', 'charisma', 'naturally', 'serving', 'nuts', 'codger', 'define', 'adventurous', 'mama', 'vulnerable', 'cu', 'abound', 'calendar', 'photo', 'drums', 'milk', 'ella', 'commend', 'convinces', 'curtis', 'alliance', 'alternative', 'telegraphed', 'beg', 'steer', 'misplaced', 'stormy', 'oppressive', 'marginally', 'unaware', '1950', 'hilarity', 'happiness', 'niece', 'deaf', 'barnes', 'cathy', 'rid', 'goldberg', 'carrie', 'nails', 'doctors', 'proudly', 'societies', 'louise', 'located', 'illustrated', 'wwi', 'mentality', 'criticism', 'hatred', 'dish', 'chaplin', 'carbon', 'sewn', 'kirk', 'mccoy', 'librarian', 'interrupted', '17th', 'exiled', 'wolfe', 'rebar', 'saturn', 'burr', 'debenning', 'ingenious', 'enjoyably', 'respectable', 'melt', 'demme', 'midnight', 'catching', 'ashley', 'relaxed', 'layers', 'tad', 'addict', 'rooting', 'morally', 'arch', 'maturity', 'duds', 'brand', 'worship', 'mall', 'screwed', 'slept', 'stepping', 'madonna', 'girlfriends', 'marilyn', 'calibre', 'commandos', 'karate', 'disastrous', 'mattered', 'satirical', 'intent', 'alienation', 'sirk', 'hadley', 'nymphomaniac', 'pretension', 'farther', 'clive', 'a+', 'banning', 'amazon', 'plods', 'diabolical', 'furs', 'gems', 'monkey', 'roller', '2005', 'g.', '1900', 'literature', '1920s', 'victory', 'curate', 'nervous', 'nest', 'cheerful', 'senseless', '2nd', 'distorted', 'mariscal', 'infierno', 'possessed', 'drags', 'werewolf', '1971', 'speeches', 'sleaze', 'clumsy', 'emily', 'disappearing', 'overrated', 'theaters', 'maker', 'apes', 'dimension', 'proceedings', 'essential', 'wackiness', 'celestial', 'wizard', 'dracula', 'shenanigans', 'projected', 'bay', 'bishop', 'mayor', 'spit', 'convent', 'reform', 'hugo', 'mannerisms', 'barricades', 'tearing', 'skipping', 'airball', 'teams', 'storyboard', 'andrew', 'encourage', 'thumbs', 'artsy', 'homo', 'fathers', 'indicate', 'ark', 'drones', 'melancholy', 'endlessly', 'tchaikovsky', 'designer', 'popping', 'nothingness', 'behold', 'definition', 'hum', 'schools', 'equality', 'ethnicity', 'belonging', 'attended', 'caucasian', 'pray', 'exaggerated', 'depends', 'minus', 'exaggerations', 'wax', 'chewing', 'cape', 'gate', 'hustler', 'sensual', 'motorcycle', 'bender', 'clay', 'disco', 'thumb', 'crop', 'mythology', 'unnatural', 'distinctive', 'collins', 'whit', 'slows', 'collectors', 'rude', 'fragile', 'insights', 'achieves', 'r2', 'c3po', 'reward', 'chewie', 'skywalker', 'wan', 'combine', 'arbuckle', 'guaranteed', 'cure', 'staff', '200', '22', 'tackling', 'gecko', 'laughlin', 'ripped', 'bullet', 'expects', 'lindsay', 'beatles', 'counterparts', 'fond', 'homage', 'limp', 'camaraderie', 'sings', 'stumbling', 'visible', 'portions', 'nicolas', 'reasonably', 'haunt', 'victimized', 'conveyed', 'peters', 'wallet', 'criminals', 'praised', 'blend', 'citizen', 'voters', 'rightly', 'airplane', 'lapses', 'edgy', 'yuma', 'exterior', 'replacement', 'exchange', 'adams', 'misses', 'zulu', 'tribes', 'achievement', '150', '400', 'casualty', 'succeed', 'malaria', 'affecting', 'threatens', 'marxist', 'patriarch', 'assistant', 'outlandish', 'liquid', 'carnage', 'gaps', 'preparing', 'grass', 'arm', 'maysles', 'gardens', 'eccentric', 'bouvier', 'cats', 'mobsters', 'casts', 'lemon', 'rivers', 'canadian', 'col', 'creepiness', 'carpenter', 'leather', 'transparent', 'zoey', 'dunk', 'ignore', 'guzman', 'rockwell', 'deservedly', 'mandy', 'brandon', 'heist', 'rewarded', 'surprising', 'prevalent', 'sneak', 'thoughtlessness', 'climatic', 'backward', 'buffalo', 'a.', 'selling', 'april', 'pardon', 'errol', 'occupied', 'creator', 'textbook', 'quotable', 'christine', 'rotting', 'quirky', 'escalating', 'wandering', 'subconscious', 'wound', 'difficulties', 'laptop', 'relax', 'goodness', 'summed', 'camcorder', 'stupidly', 'travesty', 'asset', 'prejudices', 'roof', 'perspectives', 'sorcery', 'conveying', 'clueless', 'tricked', 'subpar', 'distinct', 'induce', 'menace', 'glenda', 'smaller', 'patsy', 'pierce', 'overweight', 'mouthed', 'neglect', 'dim', 'redeemed', 'gossip', 'celebration', 'undertext', 'meal', 'contempt', 'object', 'evident', 'backgrounds', 'illness', 'duchovny', 'lang', 'amusement', 'balcony', 'flies', 'unwisely', 'pokes', 'laying', 'hallan', 'dave', 'hating', 'bert', 'miller', 'elaborate', 'practical', 'strongest', 'conflicts', 'appreciation', \"'em\", 'duo', 'roommates', 'directorial', 'idol', 'thirties', 'snap', 'cuba', 'sync', 'cooking', 'sprinkled', 'horny', 'intestines', 'telly', 'logo', 'abiding', 'cookie', 'pursuit', 'brass', 'dustin', 'symbolic', 'pops', 'prisoners', 'coca', 'hungary', 'sh!t', 'turgid', 'shops', 'flickering', 'kolchack', 'stunned', 'reeks', 'comfort', 'inadequate', 'walked', 'shaky', 'koltai', 'hallucination', 'sentimentality', 'mothers', 'eileen', 'atkins', 'platform', 'newport', 'vaguely', 'wesley', 'chooses', 'flag', 'likelihood', 'position', 'switch', 'stacking', 'askey', 'espionage', 'neatly', 'stack', 'stream', 'bench', 'foreground', 'framing', 'voyager', 'confined', 'wobbly', 'suggestion', 'occasions', 'reaching', 'peak', 'knockout', 'booth', 'reflect', 'orbit', 'bleed', 'published', 'flashing', 'healing', 'apologize', 'prior', 'applaud', 'pale', 'unreal', 'petty', 'akin', 'arcane', 'codes', 'fury', 'gambling', 'astor', 'blatant', 'hodiak', 'chock', 'undeveloped', 'thereof', 'penny', 'ward', 'phenomenal', 'transition', 'unwatchable', 'tastes', 'proceeds', 'berserk', 'selection', 'tunnel', 'mail', 'turd', 'reese', 'famously', 'pursued', 'raw', 'lasting', 'differently', 'bonds', 'hers', 'newer', 'pearl', 'greatness', 'translated', 'subplot', 'continuously', 'orange', 'captivated', 'catholics', 'affects', 'geography', 'owen', 'yankee', 'innocently', 'guinea', 'pig', 'receives', 'address', 'testing', 'chic', 'kissed', 'foreigners', 'thaw', 'gruff', 'scrooge', 'robinson', 'admitted', 'minimum', 'prospect', 'cleaned', 'penned', 'excellently', 'illinois', 'suspend', 'greedy', 'bacon', 'porno', 'beckinsale', 'knightly', 'alert', 'officers', 'begun', 'scored', 'anticipated', 'diana', 'superman', 'tragedies', 'spotlight', 'http', 'molly', 'dropping', 'warming', 'clash', 'pimp', 'du', 'righteous', 'budapest', 'realises', 'meek', 'dreamy', 'harm', 'mercifully', 'deteriorated', 'agricultural', 'grain', 'wheat', 'distress', 'voiced', 'collar', 'wherein', 'leg', 'timothy', 'existential', 'uniquely', 'dilemma', 'marcel', 'formidable', 'skill', 'voodoo', 'nightmares', 'bags', 'autopsy', 'boomslang', 'fay', 'sentiments', 'thematics', 'continent', 'seasons', '24', 'patriots', 'feminine', 'inventive', 'handling', 'premises', 'b5', 'dumber', 'spells', 'forty', 'figured', 'getaway', 'votes', 'psychotic', 'forgetting', 'kari', 'distracted', 'unbalanced', 'unsympathetic', 'discipline', 'rampant', 'cusack', 'duff', 'marisa', 'venezuelan', 'supporter', 'y', 'elections', 'civilians', 'civilian', 'kudos', 'christians', 'manipulative', 'joins', 'magically', 'patriot', 'requisite', 'gutter', 'marks', 'lisa', 'hangs', ':-)', 'secondary', 'manipulating', 'surrender', 'zeon', 'neighbor', 'pocket', 'sweeping', 'bonding', 'devastating', 'surpasses', 'conveys', 'closest', 'greengrass', 'organization', 'hart', 'denying', 'e.g.', 'crain', 'buttons', 'trend', 'aquatic', 'bumbling', 'arnie', 'sank', 'auction', 'adoption', 'agency', 'darling', 'wheeler', 'dealer', 'rooted', 'submit', 'naughty', 'preston', 'possession', 'cruella', 'obsession', 'dime', 'assembly', 'biting', 'depardieu', 'unbearable', 'funhouse', 'upper', 'jenna', 'plausible', 'burton', 'chimp', 'nakedness', 'inferior', 'threats', 'trained', 'specifics', 'requires', 'yellow', 'dagger', 'ransom', 'soil', 'usage', 'bean', 'archives', 'abigail', 'ish', 'betsy', 'deserving', 'rear', 'deleted', 'faint', 'clair', 'spoiling', 'penguin', 'chan', 'pg-13', 'reloaded', 'males', 'screwball', 'lust', 'interactions', 'helpless', 'tame', 'benefited', 'patriotic', 'amateurs', 'significantly', 'glances', 'agreed', 'roughly', 'replacing', 'replace', 'poverty', 'farce', 'hurts', 'switzerland', 'contemplating', 'nolte', 'gentlemen', 'quantum', 'pink', 'counter', 'proclaimed', 'shift', 'rabbit', 'anal', 'myrna', 'bergman', 'd&d', 'sundance', 'detrimental', 'neatness', 'versus', 'booze', 'altogether', 'confesses', 'roommate', 'helping', 'caliber', 'offbeat', 'impressively', 'exploitative', 'shocks', 'patterns', 'vividly', 'grisly', 'orbach', 'cristina', 'favour', 'worrying', 'architect', 'decoration', 'ashamed', 'distributors', 'beek', 'literal', 'complaining', 'cinderella', 'fuzzy', 'sore', 'irritated', 'tendency', 'gornick', 'brushes', 'unbearably', 'dialogues', 'glowing', 'robbed', 'factors', 'avenger', 'heading', 'gooey', 'chords', 'concludes', 'gigolo', 'bone', 'grande', 'asia', 'lone', 'whitney', 'iron', 'thug', 'monty', 'evolution', 'awesomely', 'generate', 'columbia', 'rage', 'defined', 'pullman', 'gellar', 'yours', 'survivor', 'apology', 'ridicule', 'richly', 'styles', 'marvellous', 'cinematographic', 'janos', 'drake', 'ollie', 'ragged', 'evaluate', 'genocide', 'slovenians', 'slovenia', 'yna', 'outraged', 'accusations', 'mentioning', 'vukovar', 'committing', 'resistance', 'collaboration', 'bosnian', 'borders', 'masterfully', 'sincere', 'destructive', 'consideration', 'skins', 'evokes', 'wayan', 'recover', 'indulge', 'giovanni', 'ribisi', 'screws', 'spiral', 'arrived', 'partners', 'imitating', 'lunch', 'readers', 'scoop', 'notorious', 'ta', 'oklahoma', 'advertised', 'demonstrated', 'economy', 'collapsed', 'materials', 'stalkers', 'meantime', 'amber', 'busted', 'suspected', 'communism', 'cries', 'q', 'finch', 'admired', 'row', 'empathy', 'professors', 'lowe', 'bachelor', 'referred', 'hotter', 'chalk', 'sentences', 'upstage', 'intrigue', 'semblance', 'activities', 'unimaginative', 'kissing', 'kisses', 'winded', 'summarize', 'approaching', 'tactics', 'kerry', 'campaign', 'methods', 'agencies', 'politically', 'division', 'miracle', '16', 'avid', 'admittedly', 'infused', 'polar', 'shadows', 'ricky', 'breast', 'fish', 'aesthetic', 'overacting', 'clerics', 'brotherhood', 'priests', 'versa', 'raymond', 'exploring', 'biz', 'breed', 'smoked', 'troy', 'arrow', 'defence', 'heat', 'hans', 'zimmer', 'cd', 'elliot', 'chops', '1986', 'mustache', 'retarded', 'verneuil', 'commission', 'gunman', 'montand', 'actuality', 'precise', 'insects', 'bitten', 'rescued', 'crawling', 'wider', 'coupled', 'remove', 'persons', 'elementary', 'unlikable', 'amanda', 'peet', 'link', 'canyon', 'grip', 'leigh', 'maggie', 'announced', 'comparable', 'barrymore', 'buffs', 'poetic', 'shootings', 'bones', 'parable', '2002', 'unfair', 'pazu', 'wakes', 'cloris', 'photograph', 'tool', 'harlow', 'swift', 'crooked', 'dame', 'rival', 'slightest', 'activity', 'cuban', 'commendable', 'brooke', 'harrison', 'valley', 'intentional', 'incidental', 'intrusive', 'association', 'canceled', 'ps', 'signed', 'backdrops', 'misconceptions', 'representation', 'telescope', 'powerfully', 'searched', 'patience', 'nacho', 'smiling', 'supports', 'preached', 'session', 'vile', 'sought', 'gut', 'atlanta', 'emphasize', 'reynolds', 'salesman', 'ned', 'pipe', 'nightmarish', 'spencer', 'cheaper', 'closed', 'marching', 'parade', 'moms', 'winds', 'drift', 'rosario', 'murderers', '1.5hrs', 'useful', 'violin', 'diplomat', 'undermine', 'fiend', 'posing', 'commentator', 'preview', 'clumsily', 'economically', 'judgmental', 'insists', 'legion', 'credentials', 'goyôkiba', 'penis', 'hilariously', 'pintilie', 'expose', 'vonnegut', 'climb', 'hello', 'ivory', 'rains', 'romances', 'occur', 'declared', 'regain', 'presume', 'goodman', 'recruits', 'haunts', 'disdain', 'critique', 'sharply', 'skull', 'reviewer', 'phrase', 'nagra', 'rhys', 'encourages', 'issue', 'filler', 'lift', 'regrets', 'deepest', 'sand', 'monk', 'bulk', 'rely', 'tea', 'driveway', 'pen', 'bars', 'linda', 'satisfied', 'dud', 'metaphysical', 'ships', 'authorities', 'gorilla', 'initially', 'mocking', 'kenneth', 'stabbing', 'pathos', 'inappropriate', 'fanatic', 'pack', 'tremendous', 'gettaway', 'shady', 'lynch', 'fitzgerald', 'graham', 'fancy', 'toby', 'hinted', 'wreak', 'token', 'fog', 'slim', 'mournful', 'i.q', 'scholarship', 'tidy', 'freezer', 'circumstance', 'seats', 'esque', 'ant', 'lds', 'jerks', 'jezebel', 'mitchell', 'texans', 'ohio', 'edition', 'unbelievably', 'describes', 'exploits', 'che(2008', 'excuses', 'stratton', 'hindsight', 'peasants', 'part1', 'outlook', 'deltoro', 'excruciating', 'latinos', 'entice', 'cinemas', 'observed', 'populated', 'dietrich', '1938', 'boyer', 'enlightened', 'sacrifices', 'demented', 'alluded', 'yea', 'lowest', 'alicia', 'christensen', 'goth', 'yard', 'yarn', 'naval', '1949', 'spout', 'quaint', 'swell', 'remakes', 'marines', 'ourselves', 'inventor', 'colorless', 'horus', 'reflects', 'thugs', 'deranged', 'undermines', 'sins', 'yells', 'spatial', 'slack', 'resolved', 'eternity', 'choreographer', 'misunderstandings', 'interludes', 'servant', 'discreet', 'damme', 'triumph', 'kingdom', 'dj', 'cons', 'lick', 'loaded', 'padding', 'bath', 'sofa', 'officially', 'hostel', 'ira', 'protestant', 'disgust', 'cards', 'manipulate', 'bailey', 'females', 'marshall', 'ignored', 'rejected', 'establish', 'judges', 'error', 'sandrich', 'bake', 'brunette', 'deathly', 'schemes', 'colbert', 'nuances', 'exploding', 'uwe', 'boll', 'haha', 'terror', 'sleepwalkers', 'amick', 'retrieve', 'adorable', 'bites', 'displaying', 'welcomed', 'unconscious', 'experts', 'turkey', 'clinic', 'giancarlo', 'rub', 'intruder', 'virus', 'yada', 'decor', 'tango', 'learnt', 'fling', 'slut', 'lane', 'mortensen', 'rack', '\")', 'disturb', 'incorrect', 'insultingly', 'stein', 'orwellian', 'boils', 'centuries', 'vance', 'contextual', 'deck', 'lili', 'necessarily', 'inconsistent', 'grips', 'attenborough', 'towns', 'penelope', 'peaceful', 'explanations', 'geek', 'shameful', 'bacall', 'haley', 'terrorism', 'beneath', 'restores', 'organized', 'linklater', 'laced', 'lays', 'ala', 'wit', 'tables', 'fireplace', 'terry', 'sensible', 'philipe', 'truffaut', 'facility', 'hazel', 'hometown', 'nerd', 'switching', 'kennel', 'phase', 'infantile', 'map', 'ditched', 'c-', 'illogical', 'global', 'jeepers', 'creepers', 'weirdo', 'leo', 'remembering', 'article', 'blake', 'household', 'threatening', 'profanity', 'tritter', 'vindictiveness', 'freeze', 'hurting', 'neil', 'filmmaking', 'accessible', '1990s', 'trademarks', 'tubbs', 'moreover', 'basket', 'boothe', 'pamela', 'immense', 'ally', 'd-', 'benny', 'pit', 'autobiographical', 'cary', 'connecticut', 'planned', 'cheering', 'buscemi', 'cringeworthy', 'weaponry', 'heyday', 'stretched', 'broad', 'youtube', '1979', '1981', 'fiancée', 'mae', 'downstream', 'hydraulic', 'colorful', 'helmer', 'chop', 'trials', 'stranger', 'shrek', 'natured', 'stahl', 'wander', 'packs', 'graves', 'tops', 'magical', 'apollonia', 'stadium', 'cherry', 'rats', 'gaming', 'spelling', 'bunker', 'creators', 'varying', 'silently', 'artillery', 'slamming', 'sickness', 'sibrel', 'marrying', 'digger', 'winstone', 'janet', 'sending', 'landed', 'inhabited', 'curiously', 'dates', 'toddler', 'intention', 'affable', 'replies', 'jock', 'apologies', 'maureen', 'chronicles', 'deciding', 'devoted', 'tyler', 'chicago', 'brando', 'tricks', 'supremacy', 'roses', 'blended', 'trace', 'dash', 'sexuality', 'bondage', 'impudent', 'steiner', 'champagne', 'bravado', 'rave', 'sympathize', 'expensive', 'safari', 'standpoint', 'congorilla', 'spill', 'automatically', 'erich', \"l'anglaise\", 'toronto', 'shaped', 'parisian', 'shred', 'chad', 'conductor', 'millionaire', 'pride', 'artifacts', 'acceptance', 'elite', 'locken', 'sterling', 'nonetheless', 'prices', 'net', 'kidnappers', 'leap', 'delicate', 'jails', 'metschurat', 'rewarding', 'bald', 'paranormal', 'colonialism', 'bronson', 'critic', 'setup', 'shearer', 'essence', 'sponge', 'coast', 'cartouche', 'criterion', 'paradise', 'kitten', 'cajuns', 'mia', 'walker', 'penguins', 'titular', 'mount', 'storm', 'cap', 'islanders', 'documents', 'pin', 'mullet', 'compound', 'hallway', 'widowed', 'thunderbird', 'damaged', 'uncritical', 'invited', 'heavies', 'edgar', 'chances', 'stilted', 'monstervision', 'shrine', 'lupino', 'bridges', 'developments', 'wtc', 'portuguese', 'della', 'coups', 'contractor', 'coaxes', 'comprised', 'hypnotized', 'mabuse', '1922', 'greyson', '1957', '1932', 'attained', 'sollett', 'tighter', 'thailand', 'pimlico', 'zinn', 'assuming', 'algy', 'lopez', 'samuel', 'roads', 'onstage', 'baryshnikov', 'exceptional', 'blocker', 'hoss', 'cain', 'mameha', 'patron', 'shaved', 'spice', 'goodbye', 'rehearsal', 'affection', 'illustrious', 'priyadarshan', 'michell', 'rosie', 'hamilton', 'surfer', 'trade', 'billions', 'ness', 'frankie', 'pyle', 'hailed', 'abducted', 'lately', 'ape', 'fletcher', 'segments', 'realise', 'lumet', 'heaton', 'hines', 'aborigines', 'recklessness', 'meighan', 'everytown', 'chavez', 'munster', \"o'dell\", 'riley', 'profiler', 'mariner', 'vollins', 'gosha', 'blazing', 'witchcraft', 'casa', 'ghosthouse', 'faust', 'xxfake', 'xxfake', 'xxfake', 'xxfake', 'xxfake'],(#2) [negative,positive]]"
      ]
     },
     "execution_count": null,
     "metadata": {},
     "output_type": "execute_result"
    }
   ],
   "source": [
    "dl.vocab"
   ]
  },
  {
   "cell_type": "code",
   "execution_count": null,
   "metadata": {},
   "outputs": [
    {
     "data": {
      "text/html": [
       "<table border=\"1\" class=\"dataframe\">\n",
       "  <thead>\n",
       "    <tr style=\"text-align: right;\">\n",
       "      <th></th>\n",
       "      <th>text</th>\n",
       "      <th>category</th>\n",
       "    </tr>\n",
       "  </thead>\n",
       "  <tbody>\n",
       "    <tr>\n",
       "      <th>0</th>\n",
       "      <td>xxbos xxmaj raising xxmaj victor xxmaj vargas : a xxmaj review \\n\\n xxmaj you know , xxmaj raising xxmaj victor xxmaj vargas is like sticking your hands into a big , xxunk bowl of xxunk . xxmaj it 's warm and gooey , but you 're not sure if it feels right . xxmaj try as i might , no matter how warm and gooey xxmaj raising xxmaj victor xxmaj vargas became i was always aware that something did n't quite feel right . xxmaj victor xxmaj vargas suffers from a certain xxunk on the director 's part . xxmaj apparently , the director thought that the ethnic backdrop of a xxmaj latino family on the lower east side , and an xxunk storyline would make the film critic proof . xxmaj he was right , but it did n't fool me . xxmaj raising xxmaj victor xxmaj vargas is the story about a xxunk - year old boy called , you guessed it , xxmaj victor xxmaj vargas ( victor xxmaj xxunk ) who lives his teenage years chasing more xxunk than the xxmaj rolling xxmaj xxunk could do in all the years they 've xxunk . xxmaj the movie starts off in ` ugly xxmaj fat ' xxmaj donna 's bedroom where xxmaj victor is sure to seduce her , but a cry from outside xxunk his plans when his best - friend xxmaj harold ( kevin xxmaj xxunk ) comes - a - looking for him . xxmaj caught in the attempt by xxmaj harold and his sister , xxmaj victor xxmaj vargas runs off for xxunk control . xxmaj yet even with the embarrassing implication that he 's been xxunk the xxunk girl in the neighborhood , nothing xxunk young xxmaj victor from going off on the hunt for more fresh meat . xxmaj on a hot , xxmaj new xxmaj york xxmaj city day they make way to the local public swimming pool where xxmaj victor 's eyes catch a glimpse of the lovely young xxunk xxmaj judy ( judy xxmaj xxunk ) , who 's not just pretty , but a strong and independent too . xxmaj the relationship that develops between xxmaj victor and xxmaj judy becomes the focus of the film . xxmaj the story also focuses on xxmaj victor 's family that is comprised of his grandmother or xxunk ( xxunk xxmaj guzman ) , his brother xxmaj nino ( also played by real life brother to xxmaj victor , xxmaj xxunk xxmaj xxunk ) and his sister xxmaj vicky ( xxunk xxmaj xxunk ) . xxmaj the action follows xxmaj victor between scenes with xxmaj judy and scenes with his family . xxmaj victor tries to xxunk with being an oversexed pimp - daddy , his feelings for xxmaj judy and his grandmother 's conservative xxmaj catholic upbringing . \\n\\n xxmaj the problems that xxunk from xxmaj raising xxmaj victor xxmaj vargas are a few , but glaring errors . xxmaj throughout the film you get to know certain characters like xxmaj vicky , xxmaj nino , xxmaj xxunk , xxmaj judy and even xxmaj judy 's best friend xxmaj xxunk . xxmaj the problem is , we know nothing of xxmaj victor xxmaj vargas except that he is the biggest gigolo in the neighborhood . xxmaj we know that he knows how to lick his lips , and xxunk his xxunk , and carry himself for the sake of xxunk girls into the xxunk , but that 's all . xxmaj we know that xxmaj nino plays piano , and quiet well , you could see it by the awards on the family piano . xxmaj we know his sister xxmaj xxunk , is a gossip - loving girl with an xxunk interest in watching xxup tv . xxmaj we know that xxunk is a hard - working traditional xxmaj xxunk woman who 's trying to raise her kids with xxunk in a world of excess corruption . xxmaj yet where is the titular character , xxmaj victor xxmaj vargas ? xxmaj he 's in this movie somewhere , but we only know what the movie tells us . xxmaj this is by far the film 's biggest flaw . xxmaj victor xxmaj vargas is n't so much a character but a xxunk - xxunk ball , xxunk between scenes with xxmaj judy and his xxmaj grandmother , but we never get to know who xxmaj victor xxmaj vargas really is . xxmaj this is important because as xxmaj i 've mentioned the only thing we know of xxmaj victor xxmaj vargas is that he 's a sexually active teenager with a xxunk the size of xxmaj manhattan . xxmaj he 's a total xxmaj xxunk - male . xxmaj victor xxmaj vargas is not the kind of character i sympathize with at all . xxmaj why should anyone ? xxmaj so by the end of the movie , in the aftermath of the climax are we truly led to believe that somehow xxmaj victor xxmaj vargas has attained xxup any depth and learned the errors of his ways ? xxmaj how could such a two - dimensional character have any depth ? xxmaj if only the director had worried a little more about xxunk out his main character instead of worrying about getting that perfect hand - held shot . \\n\\n xxmaj raising xxmaj victor xxmaj vargas brings to life the world of the xxmaj latino inner - city neighborhood to the big screen . xxmaj something that few films have done before in the past . xxmaj the film has been xxunk for feeling so real , and i wo n't \\n\\n argue with that . i have n't seen this level of reality since xxup xxunk aired xxmaj survivor . xxmaj seriously , although the movie has some nice shots of the city , the writer / director xxmaj peter xxmaj sollett was way too xxunk on close - ups and hand - held shots . xxmaj this problem is particularly noticed in xxunk scenes that are so claustrophobic i was forced to perform deep - breathing xxunk to keep from passing out . xxmaj as the film continues , the shots get tighter and tighter with faces xxunk from xxunk to xxunk on the screen ; you can practically xxunk xxmaj victor xxmaj vargas 's cheap xxunk . xxmaj the overall effect is unrealistic in contrast . xxmaj the xxunk scenes of inner - city apartments make them look small and xxunk , which is not true . xxmaj i 've been in those type apartments ; i used to live in one . xxmaj they 're not xxunk but they have high xxunk and they 're decent living xxunk . xxmaj by the movie 's standards you 'd think that these apartments were xxunk xxunk of xxunk - and - xxunk , xxunk paint and xxunk walls . xxmaj unfortunately , xxmaj sollett 's constant use of close - ups and one particularly bad shot with a xxunk - in on one scene come off as totally amateurish . xxmaj but xxmaj raising xxmaj victor xxmaj vargas is only xxmaj sollett 's second film , and his most well known , a solid effort in filmmaking that will hopefully get better as he continues to make films . xxmaj one review i read xxunk the movie as , ` ethnicity for xxmaj ethnicity 's xxmaj sake , ' and i can not agree more . xxmaj if xxmaj victor xxmaj vargas were truly a great film and story , then the characters ' xxunk would n't matter whether they were xxmaj latino , xxmaj chinese , etc . xxmaj yet if you were to take this story and stick it in middle - class xxunk with a bunch of xxunk - xxunk white kids the results would n't be such glowing reviews , and we 'd see the film 's flaws more clearly . xxmaj indeed , some other aspects of the use of xxmaj latinos in this film bother me . xxmaj while some aspects of xxmaj victor xxmaj vargas are accurate others i have to question . xxmaj for example , xxmaj victor , xxmaj nino and xxmaj vicky all share the same room to sleep . xxmaj this set off an alarm for me because it seemed contrary to what i believe . xxmaj any self - xxunk xxmaj latino family would n't have two older brothers sharing the same room with a thirteen - year old girl . xxmaj at first i was xxunk , perhaps i was wrong , but after speaking with my grandmother i knew my problem with this was justified . xxmaj considering how conservative the grandmother is , you 'd think that xxmaj vicky would have been sleeping in her room . \\n\\n xxmaj as a xxmaj latino who grew up in a somewhat conservative xxmaj cuban household , raised by my grandmother while my mother was working full - time , i could relate to the movie in many ways , which is why my critical xxunk are xxunk because i really wanted to love this movie . xxmaj unfortunately , my lack of respect for xxmaj victor xxmaj vargas xxunk my feelings for the film . xxmaj maybe it 's because xxmaj victor xxmaj vargas reminds me of those guys who were getting laid while i was playing with my xxmaj xxunk xxmaj xxunk when i was xxunk . xxmaj maybe it 's because without any further xxunk by the film , xxmaj victor xxmaj vargas is merely a stereotypical hot - blooded xxmaj latino , who 'll just end up shouting to girls from his car , ` hey bay - xxunk , xxunk want to get into my xxunk xxunk - xxunk ? ' xxmaj either way i do n't like him , so ultimately how can i like a film about him ? xxmaj so if you 'll excuse me , xxmaj i 'm going to go stick my hands into a bowl of xxunk .</td>\n",
       "      <td>negative</td>\n",
       "    </tr>\n",
       "    <tr>\n",
       "      <th>1</th>\n",
       "      <td>xxbos xxup the xxup shop xxup around xxup the xxup corner is one of the xxunk and most feel - good romantic comedies ever made . xxmaj there 's just no getting around that , and it 's hard to actually put one 's feeling for this film into words . xxmaj it 's not one of those films that tries too hard , nor does it come up with the xxunk possible scenarios to get the two protagonists together in the end . xxmaj in fact , all its charm is xxunk , contained within the characters and the setting and the plot … which is highly believable to xxunk . xxmaj it 's easy to think that such a love story , as beautiful as any other ever told , * could * happen to you … a feeling you do n't often get from other romantic comedies , however sweet and heart - warming they may be . \\n\\n xxmaj alfred xxmaj kralik ( james xxmaj stewart ) and xxmaj clara xxmaj xxunk ( margaret xxmaj xxunk ) do n't have the most xxunk of first xxunk when she arrives in the shop ( matuschek &amp; xxmaj co. ) he 's been working in for the past nine years , asking for a job . xxmaj they clash from the very beginning , mostly over a cigarette box that plays music when it 's opened -- he thinks it 's a ludicrous idea ; she makes one big sell of it and gets hired . xxmaj their bickering takes them through the next six months , even as they both ( xxunk , of course ! ) fall in love with each other when they share their souls and minds in letters passed through xxup xxunk xxmaj box xxunk . xxmaj this would be a pretty thin xxunk to base an entire film on , except that xxup the xxup shop xxup around xxup the xxup corner is xxunk xxunk - out with a brilliant supporting cast made up of entirely engaging characters , from the xxunk but lonely xxmaj hugo xxmaj matuschek ( frank xxmaj morgan ) himself , who learns that his shop really is his home ; xxmaj xxunk ( felix xxmaj xxunk ) , xxmaj kralik 's sidekick and friend who always xxunk out of the room when faced with the possibility of being asked for his honest opinion ; xxunk pimp - du - xxunk xxmaj xxunk ( joseph xxmaj xxunk ) who ultimately gets his comeuppance from a xxunk righteous xxmaj kralik ; and ambitious xxunk boy xxmaj xxunk xxmaj xxunk ( william xxmaj tracy ) who wants nothing more than to be promoted to the position of xxunk for xxmaj matuschek &amp; xxmaj co. xxmaj the xxunk love story between ' dear xxmaj friends ' is played out in this little shop in xxmaj budapest , xxmaj hungary , in which xxmaj kralik 's xxunk xxunk and subsequent xxunk to shop manager help the two xxunk - to - be along . xxmaj it 's nice that everyone gets a story in this film ; the supporting characters are well - developed , and xxmaj matuschek 's own journey in life is almost as touching as the one xxmaj alfred and xxmaj clara share . xxmaj his xxunk to new xxunk boy xxmaj xxunk ( charles xxmaj smith ) for xxmaj christmas xxmaj eve dinner , made in the xxunk , beautiful snow of a xxmaj hungarian winter , makes the audience glad that he is not alone ; we come to care even for the characters whose love story it is n't this film 's business to tell . \\n\\n xxmaj aside from the love story , i must say that xxmaj james xxmaj stewart is truly one of the best things about this film . xxmaj he does n't play the full - xxunk xxmaj jimmy xxmaj stewart persona in this film ( c / f ' mr xxmaj smith xxmaj goes xxmaj to xxmaj washington ' for that ) ; in fact xxmaj alfred xxmaj kralik is xxunk and abrupt and not particularly kind . xxmaj he 's rather a xxunk man , in fact , with little hint ( until , perhaps , the very end ) of the xxunk - xxunk down - home xxunk charm xxmaj stewart would soon come to xxunk . xxmaj when he finds out before xxmaj clara that they have been xxunk in secret , in fact , xxmaj kralik does n't ' xxunk up -- he xxunk it out to see how far he can take the xxunk , especially since he quickly realises ( given his stormy relationship with xxmaj clara as boss and xxunk ) that loving the person he knows through the xxunk letters might not xxunk with loving the person herself . xxmaj his description to xxmaj clara of the fictional xxmaj xxunk xxmaj xxunk ( what a name ! ) who was to become her xxunk is hilarious in the extreme , but also his way of proving that the letters do n't reveal all there is to a man , just as her letters do n't reveal all there is to her . xxmaj stewart plays this role perfectly -- he keeps his face perfectly controlled whenever xxmaj clara insults xxmaj mr . xxmaj kralik , as she is often wo nt to do , even ( and especially ) to his face . xxmaj and yet one believes , underneath the xxunk and xxunk , that he * could * reveal his identity with as much xxunk and xxunk and sheer * hope * as he eventually does . \\n\\n xxmaj special mention must be given to the other members of the cast as well . xxmaj margaret xxmaj xxunk xxunk rather less well in the first half of the film , but she really comes into her own in the closing - shop scene on xxmaj christmas xxmaj eve , when she almost gets her heart broken again by xxmaj alfred 's most vivid description of her xxunk xxunk . xxmaj frank xxmaj morgan turns in a great performance as the jealous xxmaj hugo xxmaj matuschek driven to nervous breakdown , the man who has to xxunk his meaning in life when he realises that his wife of 22 years does not want to ' grow old with him ' . xxmaj and xxmaj felix xxmaj xxunk plays the role of the meek but xxunk xxmaj xxunk wonderfully ( a xxmaj lubitsch regular , since he appears as a hilarious xxmaj russian xxunk in xxunk particular note is the scene in which he helps his good friend xxmaj alfred get the xxmaj christmas present the latter * really * wants … a wallet instead of that ludicrous cigarette box xxmaj clara is so hung up on . \\n\\n xxmaj xxunk xxmaj lubitsch really does himself proud with this film -- for example , the famously xxunk and xxunk care given to detail in the creation of the xxmaj matuschek shop is well worth the effort , right down to the xxmaj hungarian names on the door , the xxunk and the cash xxunk and so on . xxmaj but even though xxmaj lubitsch chose to have the story set in xxmaj hungary , the setting is actually universal : it could happen anywhere ; it could happen to you . xxmaj xxunk lies the charm of this simple story , these believable characters who really * are * people . xxmaj the snow on xxmaj christmas xxmaj eve is real as well , or at least as real as xxmaj lubitsch could make it ( he had snow machines brought in at great expense ) . xxmaj it is this desire to make everything appear as real as possible that helps make the story even more believable , that gives this entire film a dreamy realism that can not be xxunk . ( no , not even in a remake like xxup you 've xxup got xxup mail . ) \\n\\n * this * is really the xxmaj jimmy xxmaj stewart xxmaj christmas film that people are missing out on when they talk about xxup it 's a xxup wonderful xxup life . xxmaj not to xxunk from the merits of that other film , but there 'd be no harm , and in fact a lot of good , done in watching xxup the xxup shop xxup around xxup the xxup corner this xxmaj christmas instead . xxmaj it 's sweet , funny , charming , and xxmaj stewart is xxunk in his role . xxmaj we should all be so lucky as to have the romance depicted in this film ; the best thing about this film is that we come away from it feeling that we very possibly could .</td>\n",
       "      <td>positive</td>\n",
       "    </tr>\n",
       "  </tbody>\n",
       "</table>"
      ],
      "text/plain": [
       "<IPython.core.display.HTML object>"
      ]
     },
     "metadata": {},
     "output_type": "display_data"
    }
   ],
   "source": [
    "dl.show_batch(max_n=2)"
   ]
  },
  {
   "cell_type": "markdown",
   "metadata": {},
   "source": [
    "## Export -"
   ]
  },
  {
   "cell_type": "code",
   "execution_count": null,
   "metadata": {},
   "outputs": [
    {
     "name": "stdout",
     "output_type": "stream",
     "text": [
      "Converted 00_test.ipynb.\n",
      "Converted 01_core.ipynb.\n",
      "Converted 01a_torch_core.ipynb.\n",
      "Converted 02_script.ipynb.\n",
      "Converted 03_dataloader.ipynb.\n",
      "Converted 04_transform.ipynb.\n",
      "Converted 05_data_core.ipynb.\n",
      "Converted 06_data_transforms.ipynb.\n",
      "Converted 07_vision_core.ipynb.\n",
      "Converted 08_pets_tutorial.ipynb.\n",
      "Converted 09_vision_augment.ipynb.\n",
      "Converted 11_layers.ipynb.\n",
      "Converted 11a_vision_models_xresnet.ipynb.\n",
      "Converted 12_optimizer.ipynb.\n",
      "Converted 13_learner.ipynb.\n",
      "Converted 14_callback_schedule.ipynb.\n",
      "Converted 15_callback_hook.ipynb.\n",
      "Converted 16_callback_progress.ipynb.\n",
      "Converted 17_callback_tracker.ipynb.\n",
      "Converted 18_callback_fp16.ipynb.\n",
      "Converted 19_callback_mixup.ipynb.\n",
      "Converted 20_metrics.ipynb.\n",
      "Converted 21_tutorial_imagenette.ipynb.\n",
      "Converted 22_vision_learner.ipynb.\n",
      "Converted 23_tutorial_transfer_learning.ipynb.\n",
      "Converted 30_text_core.ipynb.\n",
      "Converted 31_text_data.ipynb.\n",
      "Converted 32_text_models_awdlstm.ipynb.\n",
      "Converted 33_text_models_core.ipynb.\n",
      "Converted 34_callback_rnn.ipynb.\n",
      "Converted 35_tutorial_wikitext.ipynb.\n",
      "Converted 36_text_models_qrnn.ipynb.\n",
      "Converted 37_text_learner.ipynb.\n",
      "Converted 38_tutorial_ulmfit.ipynb.\n",
      "Converted 40_tabular_core.ipynb.\n",
      "Converted 41_tabular_model.ipynb.\n",
      "Converted 42_tabular_rapids.ipynb.\n",
      "Converted 50_data_block.ipynb.\n",
      "Converted 90_notebook_core.ipynb.\n",
      "Converted 91_notebook_export.ipynb.\n",
      "Converted 92_notebook_showdoc.ipynb.\n",
      "Converted 93_notebook_export2html.ipynb.\n",
      "Converted 94_index.ipynb.\n",
      "Converted 95_utils_test.ipynb.\n",
      "Converted 96_data_external.ipynb.\n",
      "Converted notebook2jekyll.ipynb.\n"
     ]
    }
   ],
   "source": [
    "#hide\n",
    "from local.notebook.export import notebook2script\n",
    "notebook2script(all_fs=True)"
   ]
  },
  {
   "cell_type": "code",
   "execution_count": null,
   "metadata": {},
   "outputs": [],
   "source": []
  }
 ],
 "metadata": {
  "kernelspec": {
   "display_name": "Python 3",
   "language": "python",
   "name": "python3"
  }
 },
 "nbformat": 4,
 "nbformat_minor": 2
}
