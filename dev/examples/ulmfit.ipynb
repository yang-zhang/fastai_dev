{
 "cells": [
  {
   "cell_type": "code",
   "execution_count": null,
   "metadata": {},
   "outputs": [],
   "source": [
    "#export\n",
    "from local.torch_basics import *\n",
    "from local.test import *\n",
    "from local.core import *\n",
    "from local.layers import *\n",
    "from local.data.all import *\n",
    "from local.notebook.showdoc import show_doc\n",
    "from local.optimizer import *\n",
    "from local.learner import *\n",
    "from local.metrics import *\n",
    "from local.text.core import *\n",
    "from local.text.data import *\n",
    "from local.text.models.core import *\n",
    "from local.text.models.awdlstm import *\n",
    "from local.text.learner import *\n",
    "from local.callback.rnn import *\n",
    "from local.callback.all import *"
   ]
  },
  {
   "cell_type": "markdown",
   "metadata": {},
   "source": [
    "# ULMFiT"
   ]
  },
  {
   "cell_type": "markdown",
   "metadata": {},
   "source": [
    "## Finetune a pretrained Language Model"
   ]
  },
  {
   "cell_type": "markdown",
   "metadata": {},
   "source": [
    "First we get our data and tokenize it."
   ]
  },
  {
   "cell_type": "code",
   "execution_count": null,
   "metadata": {},
   "outputs": [],
   "source": [
    "path = untar_data(URLs.IMDB)\n",
    "tokenize_folder(path, folders=['train', 'test', 'unsup'])"
   ]
  },
  {
   "cell_type": "code",
   "execution_count": null,
   "metadata": {},
   "outputs": [],
   "source": [
    "path = untar_data(URLs.IMDB).parent/'imdb_tok'"
   ]
  },
  {
   "cell_type": "code",
   "execution_count": null,
   "metadata": {},
   "outputs": [],
   "source": [
    "count = pickle.load(open(path/'counter.pkl', 'rb'))\n",
    "vocab = make_vocab(count)"
   ]
  },
  {
   "cell_type": "code",
   "execution_count": null,
   "metadata": {},
   "outputs": [],
   "source": [
    "texts = get_files(path, extensions=['.txt'])"
   ]
  },
  {
   "cell_type": "code",
   "execution_count": null,
   "metadata": {},
   "outputs": [],
   "source": [
    "lens = [int(f.with_suffix('.len').read()) for f in texts]"
   ]
  },
  {
   "cell_type": "code",
   "execution_count": null,
   "metadata": {},
   "outputs": [
    {
     "data": {
      "text/plain": [
       "(100000, 100000)"
      ]
     },
     "execution_count": null,
     "metadata": {},
     "output_type": "execute_result"
    }
   ],
   "source": [
    "len(texts),len(lens)"
   ]
  },
  {
   "cell_type": "markdown",
   "metadata": {},
   "source": [
    "Then we put it in a `DataSource`. For a language model, we don't have targets, so there is only one transform to numericalize the texts. Note that `tokenize_df` returns the count of the words in the corpus to make it easy to create a vocabulary."
   ]
  },
  {
   "cell_type": "code",
   "execution_count": null,
   "metadata": {},
   "outputs": [],
   "source": [
    "def read_file(f): return L(f.read().split(' '))"
   ]
  },
  {
   "cell_type": "code",
   "execution_count": null,
   "metadata": {},
   "outputs": [],
   "source": [
    "splits = RandomSplitter()(texts)\n",
    "vocab = make_vocab(count)\n",
    "dsrc = DataSource(texts, [[read_file, Numericalize(vocab)]], filts=splits)"
   ]
  },
  {
   "cell_type": "markdown",
   "metadata": {},
   "source": [
    "Then we use that `DataSource` to create a `DataBunch`. Here the class of `TfmdDL` we need to use is `LMDataLoader` which will concatenate all the texts in a source (with a shuffle at each epoch for the training set), split it in `bs` chunks then read continuously through it."
   ]
  },
  {
   "cell_type": "code",
   "execution_count": null,
   "metadata": {},
   "outputs": [],
   "source": [
    "bs,sl=256,80\n",
    "dbunch_lm = LMDataLoader.dbunchify(dsrc, lens=lens, bs=bs, seq_len=sl, val_bs=bs)"
   ]
  },
  {
   "cell_type": "code",
   "execution_count": null,
   "metadata": {},
   "outputs": [
    {
     "data": {
      "text/html": [
       "<table border=\"1\" class=\"dataframe\">\n",
       "  <thead>\n",
       "    <tr style=\"text-align: right;\">\n",
       "      <th></th>\n",
       "      <th>text</th>\n",
       "    </tr>\n",
       "  </thead>\n",
       "  <tbody>\n",
       "    <tr>\n",
       "      <th>0</th>\n",
       "      <td>xxbos a woman finds herself caught up in an apparently inexplicable rash of suicides . xxmaj then again , are these really suicides ? xxmaj it seems as though there 's a ghost on the loose . xxmaj guess what ? xxmaj the ghost has long black hair that hides its face , and it moves about with its head or arms twisted this way or that , making for a very weird looking specter . xxmaj recurrent theme music</td>\n",
       "    </tr>\n",
       "    <tr>\n",
       "      <th>1</th>\n",
       "      <td>a good performance too , despite his hokey accent ( just what sort of accent is that supposed to be ? xxmaj still , it beats the mind - numbingly - fake one he used in \" congo . \" ) . xxmaj the film may be short on focused plot , but wry , cynical dialogue abounds , mostly uttered by xxmaj curry . \\n\\n xxmaj the main problem with this film is the editing . xxmaj it 's</td>\n",
       "    </tr>\n",
       "    <tr>\n",
       "      <th>2</th>\n",
       "      <td>not worth the money and the time to spend . i sometimes wonder about the xxunk in switzerland . xxbos i have to say , as a xxup bsg fan i was n't exactly sure what xxmaj i 'd think of this show . i saw it on the big screen at the xxmaj xxunk cinema tonight ( as part of the xxmaj xxunk xxmaj center screenings ) , and the cast and film makers spoke after - wards .</td>\n",
       "    </tr>\n",
       "    <tr>\n",
       "      <th>3</th>\n",
       "      <td>senegal . xxmaj we are treated to gospel , blues , jazz and variations of these , including some fantastic drumming both in xxmaj new xxmaj orleans and xxmaj senegal . xxmaj there 's also a good deal of n'dour 's own compositions . \\n\\n xxmaj sadly , that 's another weakness . xxmaj it 's never entirely clear what n'dour himself wants to achieve . xxmaj to some degree , the film appears to be an exercise in self</td>\n",
       "    </tr>\n",
       "    <tr>\n",
       "      <th>4</th>\n",
       "      <td>xxup feel . xxmaj you ca n't deny this lady 's presence and you certainly can not deny the talent that just rushes from the stage . xxmaj she 's still here , damn it , even after the release of xxmaj without xxmaj you xxmaj i 'm xxmaj nothing , some 15 years ago . xxmaj and she looks great , by the way . i know this firsthand , walking from the theater one audience member said to</td>\n",
       "    </tr>\n",
       "    <tr>\n",
       "      <th>5</th>\n",
       "      <td>xxmaj xxunk ( full of vitamins one supposes ) . xxmaj on the way they also get xxunk up in many of a&amp;c 's wacky routines including xxmaj do n't say xxmaj tin , a bit of piffle - xxunk , the classic xxmaj xxunk sketch , xxmaj lou trying to sleep with a mouthful of beard , and my favourite the xxmaj hi xxmaj mike sketch  poor devil : shot to death twice , once with a knife</td>\n",
       "    </tr>\n",
       "    <tr>\n",
       "      <th>6</th>\n",
       "      <td>, but i recommend listening to the symphony per se . xxbos ( not possible spoilers , xxup major spoilers , you can rest assured … ) xxmaj i 'm writing this review because reading the other comments , i think this movie is being misunderstood by many people . xxmaj many people give it a low rating because of the ending which they see as a kind of cheap way to \" solve the riddle \" . \\n\\n xxmaj</td>\n",
       "    </tr>\n",
       "    <tr>\n",
       "      <th>7</th>\n",
       "      <td>too . i do n't think there is any other better person who could have pulled off the xxmaj trelkovsky character , xxmaj polanski settled right on in perfectly . i like seeing films where the director is also apart of the main cast , to me it really highlights their fantastic versatility and talent , which i respect greatly . \\n\\n xxmaj one thing i did n't like about this film is how it was done in xxmaj english</td>\n",
       "    </tr>\n",
       "    <tr>\n",
       "      <th>8</th>\n",
       "      <td>saw this movie when i was around nine years of age , and i have to say that it scared the hell out of me . xxmaj now that xxmaj i 'm all growed up , however , i see this movie for what it really is … a work of genius . xxmaj everyone , or at least everyone with any taste , has dreamed of seeing a snowman going around killing people , even if they wo n't</td>\n",
       "    </tr>\n",
       "    <tr>\n",
       "      <th>9</th>\n",
       "      <td>the 3d effects on a big xxup imax screen , unrelentingly continued throughout the full 70 min movie ( 10 min would have been plenty ! ) gave me a serious headache , and a sick stomach ; both hung around for more than an hour after the movie . xxmaj something about the big screen , fast movements , and the length of time staring through the goofy glasses made for absolutely the worst xxup imax experience my family</td>\n",
       "    </tr>\n",
       "  </tbody>\n",
       "</table>"
      ],
      "text/plain": [
       "<IPython.core.display.HTML object>"
      ]
     },
     "metadata": {},
     "output_type": "display_data"
    }
   ],
   "source": [
    "dbunch_lm.show_batch()"
   ]
  },
  {
   "cell_type": "markdown",
   "metadata": {},
   "source": [
    "Then we have a convenience method to directly grab a `Learner` from it, using the `AWD_LSTM` architecture."
   ]
  },
  {
   "cell_type": "code",
   "execution_count": null,
   "metadata": {},
   "outputs": [],
   "source": [
    "opt_func = partial(Adam, wd=0.1)\n",
    "learn = language_model_learner(dbunch_lm, AWD_LSTM, vocab, opt_func=opt_func, metrics=[accuracy, Perplexity()], path=path)\n",
    "learn.to_fp16(clip=0.1)"
   ]
  },
  {
   "cell_type": "code",
   "execution_count": null,
   "metadata": {},
   "outputs": [
    {
     "data": {
      "text/html": [
       "<table border=\"1\" class=\"dataframe\">\n",
       "  <thead>\n",
       "    <tr style=\"text-align: left;\">\n",
       "      <th>epoch</th>\n",
       "      <th>train_loss</th>\n",
       "      <th>valid_loss</th>\n",
       "      <th>accuracy</th>\n",
       "      <th>perplexity</th>\n",
       "      <th>time</th>\n",
       "    </tr>\n",
       "  </thead>\n",
       "  <tbody>\n",
       "    <tr>\n",
       "      <td>0</td>\n",
       "      <td>4.550496</td>\n",
       "      <td>3.995086</td>\n",
       "      <td>0.291888</td>\n",
       "      <td>54.330524</td>\n",
       "      <td>06:32</td>\n",
       "    </tr>\n",
       "  </tbody>\n",
       "</table>"
      ],
      "text/plain": [
       "<IPython.core.display.HTML object>"
      ]
     },
     "metadata": {},
     "output_type": "display_data"
    }
   ],
   "source": [
    "learn.fit_one_cycle(1, 2e-2, moms=(0.8,0.7,0.8))"
   ]
  },
  {
   "cell_type": "code",
   "execution_count": null,
   "metadata": {},
   "outputs": [],
   "source": [
    "learn.save('stage1')"
   ]
  },
  {
   "cell_type": "code",
   "execution_count": null,
   "metadata": {},
   "outputs": [
    {
     "data": {
      "text/plain": [
       "<local.text.learner.RNNLearner at 0x7fc6f0328390>"
      ]
     },
     "execution_count": null,
     "metadata": {},
     "output_type": "execute_result"
    }
   ],
   "source": [
    "learn.load('stage1')"
   ]
  },
  {
   "cell_type": "code",
   "execution_count": null,
   "metadata": {},
   "outputs": [
    {
     "data": {
      "text/html": [
       "<table border=\"1\" class=\"dataframe\">\n",
       "  <thead>\n",
       "    <tr style=\"text-align: left;\">\n",
       "      <th>epoch</th>\n",
       "      <th>train_loss</th>\n",
       "      <th>valid_loss</th>\n",
       "      <th>accuracy</th>\n",
       "      <th>perplexity</th>\n",
       "      <th>time</th>\n",
       "    </tr>\n",
       "  </thead>\n",
       "  <tbody>\n",
       "    <tr>\n",
       "      <td>0</td>\n",
       "      <td>4.250666</td>\n",
       "      <td>3.883368</td>\n",
       "      <td>0.305993</td>\n",
       "      <td>48.587608</td>\n",
       "      <td>06:55</td>\n",
       "    </tr>\n",
       "    <tr>\n",
       "      <td>1</td>\n",
       "      <td>4.111086</td>\n",
       "      <td>3.806451</td>\n",
       "      <td>0.315640</td>\n",
       "      <td>44.990479</td>\n",
       "      <td>06:54</td>\n",
       "    </tr>\n",
       "    <tr>\n",
       "      <td>2</td>\n",
       "      <td>4.017473</td>\n",
       "      <td>3.750324</td>\n",
       "      <td>0.321394</td>\n",
       "      <td>42.534840</td>\n",
       "      <td>06:53</td>\n",
       "    </tr>\n",
       "    <tr>\n",
       "      <td>3</td>\n",
       "      <td>3.947730</td>\n",
       "      <td>3.710285</td>\n",
       "      <td>0.326001</td>\n",
       "      <td>40.865448</td>\n",
       "      <td>06:53</td>\n",
       "    </tr>\n",
       "    <tr>\n",
       "      <td>4</td>\n",
       "      <td>3.896860</td>\n",
       "      <td>3.683994</td>\n",
       "      <td>0.328874</td>\n",
       "      <td>39.805050</td>\n",
       "      <td>06:54</td>\n",
       "    </tr>\n",
       "    <tr>\n",
       "      <td>5</td>\n",
       "      <td>3.856621</td>\n",
       "      <td>3.658756</td>\n",
       "      <td>0.331896</td>\n",
       "      <td>38.813038</td>\n",
       "      <td>06:53</td>\n",
       "    </tr>\n",
       "    <tr>\n",
       "      <td>6</td>\n",
       "      <td>3.822843</td>\n",
       "      <td>3.641099</td>\n",
       "      <td>0.333726</td>\n",
       "      <td>38.133720</td>\n",
       "      <td>06:53</td>\n",
       "    </tr>\n",
       "    <tr>\n",
       "      <td>7</td>\n",
       "      <td>3.794522</td>\n",
       "      <td>3.629475</td>\n",
       "      <td>0.335013</td>\n",
       "      <td>37.693027</td>\n",
       "      <td>06:53</td>\n",
       "    </tr>\n",
       "    <tr>\n",
       "      <td>8</td>\n",
       "      <td>3.776945</td>\n",
       "      <td>3.623541</td>\n",
       "      <td>0.335682</td>\n",
       "      <td>37.470020</td>\n",
       "      <td>07:02</td>\n",
       "    </tr>\n",
       "    <tr>\n",
       "      <td>9</td>\n",
       "      <td>3.769582</td>\n",
       "      <td>3.622524</td>\n",
       "      <td>0.335764</td>\n",
       "      <td>37.431938</td>\n",
       "      <td>07:31</td>\n",
       "    </tr>\n",
       "  </tbody>\n",
       "</table>"
      ],
      "text/plain": [
       "<IPython.core.display.HTML object>"
      ]
     },
     "metadata": {},
     "output_type": "display_data"
    }
   ],
   "source": [
    "learn.opt = learn.create_opt() #Need this because of FP16 for now\n",
    "learn.unfreeze()\n",
    "learn.fit_one_cycle(10, 2e-3, moms=(0.8,0.7,0.8))"
   ]
  },
  {
   "cell_type": "markdown",
   "metadata": {},
   "source": [
    "Once we have fine-tuned the pretrained language model to this corpus, we save the encoder since we will use it for the classifier."
   ]
  },
  {
   "cell_type": "code",
   "execution_count": null,
   "metadata": {},
   "outputs": [],
   "source": [
    "learn.save_encoder('finetuned')"
   ]
  },
  {
   "cell_type": "markdown",
   "metadata": {},
   "source": [
    "## Use it to train a classifier"
   ]
  },
  {
   "cell_type": "code",
   "execution_count": null,
   "metadata": {},
   "outputs": [],
   "source": [
    "texts = get_files(path, extensions=['.txt'], folders=['train', 'test'])"
   ]
  },
  {
   "cell_type": "code",
   "execution_count": null,
   "metadata": {},
   "outputs": [],
   "source": [
    "splits = GrandparentSplitter(valid_name='test')(texts)"
   ]
  },
  {
   "cell_type": "markdown",
   "metadata": {},
   "source": [
    "For classification, we need to use two set of transforms: one to numericalize the texts and the other to encode the labels as categories."
   ]
  },
  {
   "cell_type": "code",
   "execution_count": null,
   "metadata": {},
   "outputs": [],
   "source": [
    "dsrc = DataSource(texts, [[read_file, Numericalize(vocab)], [parent_label, Categorize()]], filts=splits)"
   ]
  },
  {
   "cell_type": "code",
   "execution_count": null,
   "metadata": {},
   "outputs": [],
   "source": [
    "lens = [int(f.with_suffix('.len').read()) for f in texts]"
   ]
  },
  {
   "cell_type": "code",
   "execution_count": null,
   "metadata": {},
   "outputs": [],
   "source": [
    "res = [L(lens, use_list=None)[f] for f in dsrc.filts]"
   ]
  },
  {
   "cell_type": "code",
   "execution_count": null,
   "metadata": {},
   "outputs": [],
   "source": [
    "bs = 64"
   ]
  },
  {
   "cell_type": "code",
   "execution_count": null,
   "metadata": {},
   "outputs": [],
   "source": [
    "trn_dl = SortedDL(dsrc.train, res=res[0], create_batch=pad_collate, after_batch=[Cuda], shuffle=True, drop_last=True, bs=bs)\n",
    "val_dl = SortedDL(dsrc.valid, res=res[1], create_batch=pad_collate, after_batch=[Cuda], bs=bs)\n",
    "dbunch = DataBunch(trn_dl, val_dl)"
   ]
  },
  {
   "cell_type": "code",
   "execution_count": null,
   "metadata": {},
   "outputs": [
    {
     "data": {
      "text/html": [
       "<table border=\"1\" class=\"dataframe\">\n",
       "  <thead>\n",
       "    <tr style=\"text-align: right;\">\n",
       "      <th></th>\n",
       "      <th>text</th>\n",
       "      <th>category</th>\n",
       "    </tr>\n",
       "  </thead>\n",
       "  <tbody>\n",
       "    <tr>\n",
       "      <th>0</th>\n",
       "      <td>xxbos xxmaj match 1 : xxmaj tag xxmaj team xxmaj table xxmaj match xxmaj bubba xxmaj ray and xxmaj spike xxmaj dudley vs xxmaj eddie xxmaj guerrero and xxmaj chris xxmaj benoit xxmaj bubba xxmaj ray and xxmaj spike xxmaj dudley started things off with a xxmaj tag xxmaj team xxmaj table xxmaj match against xxmaj eddie xxmaj guerrero and xxmaj chris xxmaj benoit . xxmaj according to the rules of the match , both opponents have to go through tables in order to get the win . xxmaj benoit and xxmaj guerrero heated up early on by taking turns hammering first xxmaj spike and then xxmaj bubba xxmaj ray . a xxmaj german xxunk by xxmaj benoit to xxmaj bubba took the wind out of the xxmaj dudley brother . xxmaj spike tried to help his brother , but the referee restrained him while xxmaj benoit and xxmaj guerrero xxunk up on him in the corner . xxmaj with xxmaj benoit stomping away on xxmaj bubba , xxmaj guerrero set up a table outside . xxmaj spike dashed into the ring and xxunk over the top rope onto xxmaj guerrero on the outside ! xxmaj after recovering and taking care of xxmaj spike , xxmaj guerrero slipped a table into the ring and helped the xxmaj wolverine set it up . xxmaj the tandem then set up for a double superplex from the middle rope which would have put xxmaj bubba through the table , but xxmaj spike knocked the table over right before his brother came crashing down ! xxmaj guerrero and xxmaj benoit propped another table in the corner and tried to xxmaj irish xxmaj whip xxmaj spike through it , but xxmaj bubba dashed in and blocked his brother . xxmaj bubba caught fire and lifted both opponents into back body drops ! xxmaj bubba slammed xxmaj guerrero and xxmaj spike stomped on the xxmaj wolverine from off the top rope . xxmaj bubba held xxmaj benoit at bay for xxmaj spike to soar into the xxmaj wassup ! headbutt ! xxmaj shortly after , xxmaj benoit latched xxmaj spike in the xxmaj xxunk , but the match continued even after xxmaj spike tapped out . xxmaj bubba came to his brother 's rescue and managed to sprawl xxmaj benoit on a table . xxmaj bubba leapt from the middle rope , but xxmaj benoit moved and sent xxmaj bubba crashing through the wood ! xxmaj but because his opponents did n't force him through the table , xxmaj bubba was allowed to stay in the match . xxmaj the first man was eliminated shortly after , though , as xxmaj spike put xxmaj eddie through a table with a xxmaj dudley xxmaj dawg from the ring apron to the outside ! xxmaj benoit put xxmaj spike through a table moments later to even the score . xxmaj within seconds , xxmaj bubba nailed a xxmaj bubba xxmaj bomb that put xxmaj benoit through a table and gave the xxmaj dudleys the win ! xxmaj winner : xxmaj bubba xxmaj ray and xxmaj spike xxmaj dudley \\n\\n xxmaj match 2 : xxmaj cruiserweight xxmaj championship xxmaj jamie xxmaj noble vs xxmaj billy xxmaj kidman xxmaj billy xxmaj kidman challenged xxmaj jamie xxmaj noble , who brought xxmaj nidia with him to the ring , for the xxmaj cruiserweight xxmaj championship . xxmaj noble and xxmaj kidman locked up and tumbled over the ring , but raced back inside and grappled some more . xxmaj when xxmaj kidman thwarted all xxmaj noble 's moves , xxmaj noble fled outside the ring where xxmaj nidia gave him some encouragement . xxmaj the fight spread outside the ring and xxmaj noble threw his girlfriend into the challenger . xxmaj kidman tossed xxmaj nidia aside but was taken down with a modified arm bar . xxmaj noble continued to attack xxmaj kidman 's injured arm back in the ring . xxmaj kidman 's injured harm hampered his offense , but he continued to battle hard . xxmaj noble tried to put xxmaj kidman away with a xxunk but the challenger countered into a xxunk . xxmaj kidman went to finish things with a xxmaj shooting xxmaj star xxmaj press , but xxmaj noble broke up the attempt . xxmaj kidman went for the xxmaj shooting xxmaj star xxmaj press again , but this time xxmaj noble just rolled out of harm 's way . xxmaj noble flipped xxmaj kidman into a power bomb soon after and got the pin to retain his xxup wwe xxmaj cruiserweight xxmaj championship ! xxmaj winner : xxmaj jamie xxmaj noble \\n\\n xxmaj match 3 : xxmaj european xxmaj championship xxmaj william xxmaj regal vs xxmaj jeff xxmaj hardy xxmaj william xxmaj regal took on xxmaj jeff xxmaj hardy next in an attempt to win back the xxmaj european xxmaj championship . xxmaj jeff catapulted xxmaj regal over the top rope then took him down with a xxunk off the ring apron . xxmaj back in the ring , xxmaj jeff hit the xxmaj whisper in the wind to knock xxmaj regal for a loop . xxmaj jeff went for the xxmaj xxunk xxmaj bomb , but xxmaj regal got his knees up to hit xxmaj jeff with a devastating shot . xxmaj jeff managed to surprise xxmaj regal with a quick xxunk though and got the pin to keep the xxmaj european xxmaj championship ! xxmaj regal started bawling at seeing xxmaj hardy celebrate on his way back up the ramp . xxmaj winner : xxmaj jeff xxmaj hardy \\n\\n xxmaj match 4 : xxmaj chris xxmaj jericho vs xxmaj john xxmaj cena xxmaj chris xxmaj jericho had promised to end xxmaj john xxmaj cena 's career in their match at xxmaj vengeance , which came up next . xxmaj jericho tried to teach xxmaj cena a lesson as their match began by xxunk him to the mat . xxmaj jericho continued to knock xxmaj cena around the ring until his cockiness got the better of him . xxmaj while on the top rope , xxmaj jericho began to showboat and allowed xxmaj cena to grab him for a superplex ! xxmaj cena followed with a tilt - a - whirl slam but was taken down with a nasty xxunk to the gut . xxmaj the rookie recovered and hit a belly to belly xxunk but could n't put xxup xxunk away . xxmaj jericho launched into the xxmaj xxunk but xxmaj cena dodged the move . xxmaj jericho nailed a bulldog and then connected on the xxmaj xxunk , but did not go for the cover . xxmaj he goaded xxmaj cena to his feet so he could put on the xxmaj walls of xxmaj jericho . xxmaj cena had other ideas , reversing the move into a pin attempt and getting the 1 - 2 - 3 ! xxmaj jericho went berserk after the match . xxmaj winner : xxmaj john xxmaj cena \\n\\n xxmaj match 5 : xxmaj intercontinental xxmaj championship xxup rvd vs xxmaj brock xxmaj lesnar via disqualification xxmaj the xxmaj next xxmaj big xxmaj thing and xxmaj mr . pay - per - view tangled with the xxmaj intercontinental xxmaj championship on the line . xxmaj brock grabbed the title from the ref and draped it over his shoulder momentarily while glaring at xxup rvd . xxmaj van xxmaj dam 's quickness gave xxmaj brock fits early on . xxmaj the big man rolled out of the ring and kicked the steel steps out of frustration . xxmaj brock pulled himself together and began to take charge . xxmaj with xxmaj paul xxmaj heyman beaming at ringside , xxmaj brock slammed xxup rvd to the hard floor outside the ring . xxmaj from there , xxmaj brock began to overpower xxup rvd , throwing him with ease over the top rope . xxup rvd landed painfully on his back , then had to suffer from having his spine cracked against the steel ring steps . xxmaj the fight returned to the ring with xxmaj brock squeezing xxup rvd around the ribs . xxup rvd broke away and soon after leveled xxmaj brock with a kick to the temple . xxup rvd followed with the xxmaj rolling xxmaj thunder but xxmaj brock managed to kick out after a two - count . xxmaj the fight looked like it might be over soon as xxup rvd went for a five - star xxmaj frog xxmaj splash . xxmaj brock , though , hoisted xxmaj van xxmaj dam onto his shoulder and went for the xxup f-5 , but xxup rvd whirled xxmaj brock into a xxup ddt and followed with the xxmaj frog xxmaj splash ! xxmaj he went for the pin , but xxmaj heyman pulled the ref from the ring ! xxmaj the ref immediately called for a disqualification and soon traded blows with xxmaj heyman ! xxmaj after , xxup rvd leapt onto xxmaj brock from the top rope and then threatened to hit the xxmaj van xxmaj terminator ! xxmaj heyman grabbed rvd 's leg and xxmaj brock picked up the champ and this time connected with the xxup f-5 onto a steel chair ! xxmaj winner : xxup rvd \\n\\n xxmaj match 6 : xxmaj booker t vs the xxmaj big xxmaj show xxmaj booker t faced the xxmaj big xxmaj show one - on - one next . xxmaj show withstood xxmaj booker xxmaj t 's kicks and punches and slapped xxmaj booker into the corner . xxmaj after being thrown from the ring , xxmaj booker picked up a chair at ringside , but xxmaj big xxmaj show punched it back into xxmaj booker 's face . xxmaj booker tried to get back into the game by choking xxmaj show with a camera cable at ringside . xxmaj booker smashed a xxup tv monitor from the xxmaj spanish announcers ' position into xxmaj show 's skull , then delivered a scissors kick that put both men through the table ! xxmaj booker crawled back into the ring and xxmaj big xxmaj show staggered in moments later . xxmaj show grabbed xxmaj booker 's throat but was met by a low blow and a kick to the face . xxmaj booker climbed the top rope and nailed a xxunk leg drop to get the pin ! xxmaj winner : xxmaj booker t \\n\\n xxmaj announcement : xxmaj triple h entered the ring to a thunderous ovation as fans hoped to learn where xxmaj the xxmaj game would end up competing . xxmaj before he could speak , xxmaj eric xxmaj xxunk stopped xxmaj the xxmaj game to apologize for getting involved in his personal business . xxmaj if xxmaj triple h signed with xxup raw , xxmaj bischoff promised his personal life would never come into play again . xxmaj bischoff said he 's spent the past two years networking in xxmaj hollywood . xxmaj he said everyone was looking for the next breakout xxup wwe xxmaj superstar , and they were all talking about xxmaj triple xxup h. xxmaj bischoff guaranteed that if xxmaj triple h signed with xxup raw , he 'd be getting top opportunities coming his way . xxmaj stephanie mcmahon stepped out to issue her own pitch . xxmaj she said that because of her personal history with xxmaj triple xxup h , the two of them know each other very well . xxmaj she said the two of them were once unstoppable and they can be again . xxmaj bischoff cut her off and begged her to stop . xxmaj stephanie cited that xxmaj triple h once told her how xxmaj bischoff said xxmaj triple h had no talent and no charisma . xxmaj bischoff said he was young at the time and did n't know what he had , but he still has a lot more experience that xxmaj stephanie . xxmaj the two continued to bicker back and forth , until xxmaj triple h stepped up with his microphone . xxmaj the xxmaj game said it would be easy to say \" screw you \" to either one of them . xxmaj triple h went to shake xxmaj bischoff 's hand , but pulled it away . xxmaj he said he would rather go with the devil he knows , rather than the one he does n't know . xxmaj before he could go any further , though , xxmaj shawn xxmaj michaels came out to shake things up . xxup hbk said the last thing he wanted to do was cause any trouble . xxmaj he did n't want to get involved , but he remembered pledging to bring xxmaj triple h to the xxunk . xxup hbk said there 's nobody in the world that xxmaj triple h is better friends with . xxup hbk told his friend to imagine the two back together again , making xxmaj bischoff 's life a living hell . xxmaj triple h said that was a tempting offer . xxmaj he then turned and hugged xxup hbk , making official his switch to xxup raw ! xxmaj triple h and xxup hbk left , and xxmaj bischoff xxunk over his victory . xxmaj bischoff said the difference between the two of them is that he 's got testicles and she does n't . xxmaj stephanie whacked xxmaj bischoff on the side of the head and left ! \\n\\n xxmaj match 7 : xxmaj tag xxmaj team xxmaj championship xxmaj match xxmaj christian and xxmaj lance xxmaj storm vs xxmaj hollywood xxmaj hogan and xxmaj edge xxmaj the match started with loud \" usa \" chants and with xxmaj hogan shoving xxmaj christian through the ropes and out of the ring . xxmaj the xxmaj canadians took over from there . xxmaj but xxmaj edge scored a kick to xxmaj christian 's head and planted a xxunk on xxmaj storm to get the tag to xxmaj hogan . xxmaj hogan began to xxmaj hulk up and soon caught xxmaj christian with a big boot and a leg drop ! xxmaj storm broke up the count and xxmaj christian tossed xxmaj hogan from the ring where xxmaj storm xxunk the icon . xxmaj edge tagged in soon after and dropped both opponents . xxmaj he speared both of them into the corner xxunk , but missed a spear on xxmaj strom and hit the ref hard instead . xxmaj edge nailed a xxup ddt , but the ref was down and could not count . xxmaj test raced down and took down xxmaj hogan then leveled xxmaj edge with a boot . xxmaj storm tried to get the pin , but xxmaj edge kicked out after two . xxmaj xxunk xxunk in to fend off xxmaj test , allowing xxmaj edge to recover and spear xxmaj storm . xxmaj christian distracted the ref , though , and xxup xxunk dashed in and clocked xxmaj edge with the xxmaj tag xxmaj team xxmaj championship ! xxmaj storm rolled over and got the xxunk to win the title ! xxmaj winners and xxmaj new xxmaj tag xxmaj team xxmaj champions : xxmaj christian and xxmaj lance xxmaj storm \\n\\n xxmaj match 8 : xxup wwe xxmaj undisputed xxmaj championship xxmaj triple xxmaj threat xxmaj match . xxmaj the xxmaj rock vs xxmaj kurt xxmaj angle and the xxmaj undertaker xxmaj three of wwe 's most successful superstars lined up against each other in a xxmaj triple xxmaj threat xxmaj match with the xxmaj undisputed xxmaj championship hanging in the balance . xxmaj taker and xxmaj the xxmaj rock got face to face with xxmaj kurt xxmaj angle begging for some attention off to the side . xxmaj he got attention in the form of a beat down form the two other men . xxmaj soon after , xxmaj taker spilled out of the ring and xxmaj the xxmaj rock xxunk with xxmaj angle . xxmaj angle gave a series of suplexes that took down xxmaj rock , but the xxmaj great xxmaj one countered with a xxup ddt that managed a two - count . xxmaj the fight continued outside the ring with xxmaj taker coming to life and xxunk xxmaj angle and repeatedly smacking xxmaj the xxmaj rock . xxmaj taker and xxmaj rock got into it back into the ring , and xxmaj taker dropped xxmaj the xxmaj rock with a sidewalk slam to get a two - count . xxmaj rock rebounded , grabbed xxmaj taker by the throat and xxunk him ! xxmaj angle broke up the pin attempt that likely would have given xxmaj the xxmaj rock the title . xxmaj the xxmaj rock retaliated by latching on the ankle lock to xxmaj kurt xxmaj angle . xxmaj angle reversed the move and xxmaj rock xxmaj bottomed the xxmaj people 's xxmaj champion . xxmaj soon after , xxmaj the xxmaj rock disposed of xxmaj angle and hit the xxmaj people 's xxmaj elbow on the xxmaj undertaker . xxmaj angle tried to take advantage by disabling the xxmaj great xxmaj one outside the ring and covering xxmaj taker , who kicked out after a two count . xxmaj outside the ring , xxmaj rock took a big swig from a nearby water bottle and spewed the liquid into xxmaj taker 's face to blind the champion . xxmaj taker did n't stay disabled for long , and managed to overpower xxmaj rock and turn his attention to xxmaj angle . xxmaj taker landed a guillotine leg drop onto xxmaj angle , laying on the ring apron . xxmaj the xxmaj rock picked himself up just in time to break up a pin attempt on xxmaj kurt xxmaj angle . xxmaj taker nailed xxmaj rock with a xxup ddt and set him up for a chokeslam . angle tried sneaking up with a steel chair , but xxmaj taker caught on to that tomfoolery and smacked it out of his hands . xxmaj the referee got caught in the ensuing fire and did n't see xxmaj angle knock xxmaj taker silly with a steel chair . xxmaj angle went to cover xxmaj taker as xxmaj the xxmaj rock lay prone , but the xxmaj dead xxmaj man somehow got his shoulder up . xxmaj angle tried to pin xxmaj rock , but he too kicked out . xxmaj the xxmaj rock got up and landed xxmaj angle in the sharpshooter ! xxmaj angle looked like he was about to tap , but xxmaj taker kicked xxmaj the xxmaj rock out of the submission hold . xxmaj taker picked xxmaj rock up and crashed him with the xxmaj last xxmaj ride . xxmaj while the xxmaj dead xxmaj man covered him for the win , xxmaj angle raced in and picked xxmaj taker up in the ankle lock ! xxmaj taker went delirious with pain , but managed to counter . xxmaj he picked xxmaj angle up for the last ride , but xxmaj angle put on a triangle choke ! xxmaj it looked like xxmaj taker was about to pass out , but xxmaj the xxmaj rock broke xxmaj angle 's hold only to find himself caught in the ankle lock . xxmaj rock got out of the hold and watched xxmaj taker chokeslam xxmaj angle . xxmaj rocky hit the xxmaj rock xxmaj bottom , but xxmaj taker refused to go down and kicked out . xxmaj angle whirled xxmaj taker up into the xxmaj angle xxmaj slam but was xxmaj rock xxmaj bottomed by the xxmaj great xxmaj one and pinned ! xxmaj winner and xxmaj new xxup wwe xxmaj champion : xxmaj the xxmaj rock \\n\\n xxunk there is a decent xxup ppv ! xxmaj lately the xxup ppv were n't very good , but this one was a winner . i give this xxup ppv a xxup a-</td>\n",
       "      <td>pos</td>\n",
       "    </tr>\n",
       "    <tr>\n",
       "      <th>1</th>\n",
       "      <td>xxbos i felt duty bound to watch the 1983 xxmaj timothy xxmaj dalton / xxmaj zelah xxmaj clarke adaptation of \" jane xxmaj eyre , \" because xxmaj i 'd just written an article about the 2006 xxup bbc \" jane xxmaj eyre \" for xxunk . \\n\\n xxmaj so , i approached watching this the way xxmaj i 'd approach doing homework . \\n\\n i was irritated at first . xxmaj the lighting in this version is bad . xxmaj everyone / everything is washed out in a bright white xxunk light that , in some scenes , casts shadows on the wall behind the characters . \\n\\n xxmaj and the sound is poorly recorded . i felt like i was listening to a high school play . \\n\\n xxmaj and the pancake make - up is way too heavy . \\n\\n xxmaj and the sets do n't fully convey the xxmaj gothic mood of the novel . xxmaj they are too fussy , too xxmaj martha xxmaj stewart . i just ca n't see xxmaj bronte 's xxmaj rochester abiding such xxmaj martha xxmaj stewart domestic arrangements . xxmaj orson xxmaj welles ' xxmaj rochester lived in cave - like gloom , very appropriate to the novel 's xxmaj gothic mood . \\n\\n xxmaj and yet … with all those objections … not only is this the best \" jane xxmaj eyre \" xxmaj i 've seen , it may be the best adaptation of any novel xxmaj i 've ever seen . \\n\\n xxmaj this \" jane xxmaj eyre , \" in spite of its technical flaws , brought the feeling back to me of reading \" jane xxmaj eyre \" for the first time . \\n\\n xxmaj the critics of this production say it is too close to the book . xxmaj for me , someone who valued the book and did n't need it to be any less \" wordy \" or any less \" christian \" or any more sexed up , this version 's faithfulness to the novel xxmaj bronte actually wrote is its finest asset . \\n\\n xxmaj bronte wrote a darn good book . xxmaj there 's a reason it has lasted 150 years plus , while other , slicker , sexier and easier texts , have disappeared . \\n\\n xxmaj as a long time \" jane xxmaj eyre \" fan , i was prejudiced against xxmaj timothy xxmaj dalton as xxmaj rochester . xxmaj rochester is , famously , not handsome ; xxmaj jane and xxmaj rochester are literature 's famous ugly couple . xxmaj and xxmaj timothy xxmaj dalton is nothing if not stunningly handsome . \\n\\n xxmaj but xxmaj dalton gives a mesmerizing performance as xxmaj rochester . xxmaj he just blew me away . xxmaj i 've never seen anything like his utter devotion to the role , the text , the dialogue , and xxmaj rochester 's love for xxmaj jane . xxmaj dalton brings the page 's xxmaj rochester to quivering life on screen . \\n\\n xxmaj rochester is meant to be a bit scary . xxmaj dalton is scary . xxmaj welles got the scary streak down , too , for example , when he shouts \" enough ! \" after xxmaj fontaine plays a short piano piece . xxmaj but xxmaj dalton is scary more than once , here . xxmaj you really ca n't tell if he 's going to hurt xxmaj jane , or himself , in his desperation . \\n\\n xxmaj rochester 's xxunk , his humor , his rage , his vulnerability : xxmaj dalton conveys all , sometimes seconds apart . xxmaj it 's stunning . \\n\\n xxmaj and here 's the key thing -- the actor performing xxmaj rochester has to convey that he has spent over a decade of his life in utter despair , lonely , living with an ugly , life - destroying secret . \\n\\n xxmaj no other actor xxmaj i 've seen attempt this part conveys that black hole of despair as xxmaj timothy xxmaj dalton does . xxmaj current fan favorite xxmaj toby xxmaj stephens does n't even try . xxmaj dalton hits it out of the park . xxmaj if i saw xxmaj timothy xxmaj dalton performing xxmaj rochester in a singles bar , i would say , \" that guy is trouble . xxmaj do n't even look at him . \" xxmaj he 's that radioactive with xxunk down agony . \\n\\n xxmaj zelah xxmaj clarke is not only , overall , the best xxmaj jane xxmaj i 've seen , she 's one of the very few xxmaj janes whom producers were willing to cast as the book casts xxmaj jane . xxmaj no , folks who know \" jane xxmaj eyre \" only from the 2006 version , xxmaj bronte did * not * describe a statuesque , robust xxmaj jane with finely arched eyebrows and pouty lips . xxmaj rather , xxmaj charlotte xxmaj bronte 's xxmaj jane is , indeed , poor , plain , obscure , and little , and xxup not pretty . \\n\\n xxmaj zelah has a small mouth , close - set eyes , and a bit of a nose . xxmaj she 's truly \" little . \" xxmaj she is no fashion model . xxmaj and she is the best xxmaj jane , the truest to the book . \\n\\n xxmaj some described her a cold or boring . xxmaj no , she 's true to the book . xxmaj bronte 's xxmaj jane is not a red hot mama , she 's a sheltered , deprived teen whose inner passions come out only at key moments , as xxmaj zelah 's do here . xxmaj the book 's xxmaj jane is someone you have to watch slowly , carefully , patiently , xxunk , if you want to truly plumb her depths . xxmaj you have to watch xxmaj zelah , here , to get to know who she really is . \\n\\n i would have liked to have seen more fire in xxmaj zelah in one key scene , but that 's one scene out of five hours in which she is , otherwise , very good . \\n\\n xxmaj in spite of its closeness to the text , this version , like every other version xxmaj i 've seen , xxunk away from fully xxunk the overtly xxmaj christian themes in \" jane xxmaj eyre . \" xxmaj christianity is not incidental subtext in \" jane xxmaj eyre , \" it is central . \\n\\n xxmaj helen xxmaj burns instructs xxmaj jane in xxmaj christianity , thus giving her a subversive , counter cultural way to read , and live , her apparently doomed , pinched life . xxmaj it is xxmaj christianity , and a xxmaj christian xxmaj god , who convinces poor , plain , obscure xxmaj jane of her equal worth , her need to live up to her ideals , and her rejection of a key marriage proposal . xxmaj that is n't made fully clear here . \\n\\n xxmaj in any case , xxmaj charlotte xxmaj bronte wrote an excellent , complex , rich novel , and this adaptation of it , of all the ones xxmaj i 've seen , mines and honors the novel best of any adaptation xxmaj i 've seen , and that says a lot . \\n\\n xxmaj other versions , that do n't fully honor the book , end up being a chore to watch in many places . xxmaj if you do n't care about what xxmaj charlotte xxmaj bronte has to say about child abuse , or the hypocrisy of a culture built on looks and money , your adaptation of much of the book will be something people fast forward through to get to the kissing scenes between xxmaj jane and xxmaj rochester . \\n\\n xxmaj this version , like xxmaj bronte 's novel , realizes that everything xxmaj bronte wrote -- about xxmaj jane 's experiences at xxmaj lowood , and her relationship to xxmaj st . xxmaj john -- are part of what makes xxmaj jane 's relationship to xxmaj rochester as explosive and unforgettable as it is .</td>\n",
       "      <td>pos</td>\n",
       "    </tr>\n",
       "  </tbody>\n",
       "</table>"
      ],
      "text/plain": [
       "<IPython.core.display.HTML object>"
      ]
     },
     "metadata": {},
     "output_type": "display_data"
    }
   ],
   "source": [
    "dbunch.show_batch(max_n=2)"
   ]
  },
  {
   "cell_type": "markdown",
   "metadata": {},
   "source": [
    "Then we once again have a convenience function to create a classifier from this `DataBunch` with the `AWD_LSTM` architecture."
   ]
  },
  {
   "cell_type": "code",
   "execution_count": null,
   "metadata": {},
   "outputs": [],
   "source": [
    "opt_func = partial(Adam, wd=0.1)\n",
    "learn = text_classifier_learner(dbunch, AWD_LSTM, vocab, metrics=[accuracy], path=path, drop_mult=0.5, opt_func=opt_func)"
   ]
  },
  {
   "cell_type": "markdown",
   "metadata": {},
   "source": [
    "We load our pretrained encoder."
   ]
  },
  {
   "cell_type": "code",
   "execution_count": null,
   "metadata": {},
   "outputs": [],
   "source": [
    "learn = learn.load_encoder('finetuned')\n",
    "learn.to_fp16(clip=0.1)"
   ]
  },
  {
   "cell_type": "markdown",
   "metadata": {},
   "source": [
    "Then we can train with gradual unfreezing and differential learning rates."
   ]
  },
  {
   "cell_type": "code",
   "execution_count": null,
   "metadata": {},
   "outputs": [],
   "source": [
    "lr = 1e-1 * bs/128"
   ]
  },
  {
   "cell_type": "code",
   "execution_count": null,
   "metadata": {},
   "outputs": [
    {
     "data": {
      "text/html": [
       "<table border=\"1\" class=\"dataframe\">\n",
       "  <thead>\n",
       "    <tr style=\"text-align: left;\">\n",
       "      <th>epoch</th>\n",
       "      <th>train_loss</th>\n",
       "      <th>valid_loss</th>\n",
       "      <th>accuracy</th>\n",
       "      <th>time</th>\n",
       "    </tr>\n",
       "  </thead>\n",
       "  <tbody>\n",
       "    <tr>\n",
       "      <td>0</td>\n",
       "      <td>0.361640</td>\n",
       "      <td>0.198165</td>\n",
       "      <td>0.922120</td>\n",
       "      <td>01:11</td>\n",
       "    </tr>\n",
       "  </tbody>\n",
       "</table>"
      ],
      "text/plain": [
       "<IPython.core.display.HTML object>"
      ]
     },
     "metadata": {},
     "output_type": "display_data"
    }
   ],
   "source": [
    "learn.fit_one_cycle(1, lr, moms=(0.8,0.7,0.8), wd=0.1)"
   ]
  },
  {
   "cell_type": "code",
   "execution_count": null,
   "metadata": {},
   "outputs": [
    {
     "data": {
      "text/html": [
       "<table border=\"1\" class=\"dataframe\">\n",
       "  <thead>\n",
       "    <tr style=\"text-align: left;\">\n",
       "      <th>epoch</th>\n",
       "      <th>train_loss</th>\n",
       "      <th>valid_loss</th>\n",
       "      <th>accuracy</th>\n",
       "      <th>time</th>\n",
       "    </tr>\n",
       "  </thead>\n",
       "  <tbody>\n",
       "    <tr>\n",
       "      <td>0</td>\n",
       "      <td>0.238595</td>\n",
       "      <td>0.167312</td>\n",
       "      <td>0.936880</td>\n",
       "      <td>01:24</td>\n",
       "    </tr>\n",
       "  </tbody>\n",
       "</table>"
      ],
      "text/plain": [
       "<IPython.core.display.HTML object>"
      ]
     },
     "metadata": {},
     "output_type": "display_data"
    }
   ],
   "source": [
    "learn.opt = learn.create_opt()\n",
    "learn.freeze_to(-2)\n",
    "lr /= 2\n",
    "learn.fit_one_cycle(1, slice(lr/(2.6**4),lr), moms=(0.8,0.7,0.8), wd=0.1)"
   ]
  },
  {
   "cell_type": "code",
   "execution_count": null,
   "metadata": {},
   "outputs": [
    {
     "data": {
      "text/html": [
       "<table border=\"1\" class=\"dataframe\">\n",
       "  <thead>\n",
       "    <tr style=\"text-align: left;\">\n",
       "      <th>epoch</th>\n",
       "      <th>train_loss</th>\n",
       "      <th>valid_loss</th>\n",
       "      <th>accuracy</th>\n",
       "      <th>time</th>\n",
       "    </tr>\n",
       "  </thead>\n",
       "  <tbody>\n",
       "    <tr>\n",
       "      <td>0</td>\n",
       "      <td>0.177915</td>\n",
       "      <td>0.159667</td>\n",
       "      <td>0.940440</td>\n",
       "      <td>01:19</td>\n",
       "    </tr>\n",
       "  </tbody>\n",
       "</table>"
      ],
      "text/plain": [
       "<IPython.core.display.HTML object>"
      ]
     },
     "metadata": {},
     "output_type": "display_data"
    }
   ],
   "source": [
    "learn.opt = learn.create_opt()\n",
    "learn.freeze_to(-3)\n",
    "lr /= 2\n",
    "learn.fit_one_cycle(1, slice(lr/(2.6**4),lr), moms=(0.8,0.7,0.8), wd=0.1)"
   ]
  },
  {
   "cell_type": "code",
   "execution_count": null,
   "metadata": {},
   "outputs": [
    {
     "data": {
      "text/html": [
       "<table border=\"1\" class=\"dataframe\">\n",
       "  <thead>\n",
       "    <tr style=\"text-align: left;\">\n",
       "      <th>epoch</th>\n",
       "      <th>train_loss</th>\n",
       "      <th>valid_loss</th>\n",
       "      <th>accuracy</th>\n",
       "      <th>time</th>\n",
       "    </tr>\n",
       "  </thead>\n",
       "  <tbody>\n",
       "    <tr>\n",
       "      <td>0</td>\n",
       "      <td>0.133648</td>\n",
       "      <td>0.166692</td>\n",
       "      <td>0.941320</td>\n",
       "      <td>01:41</td>\n",
       "    </tr>\n",
       "    <tr>\n",
       "      <td>1</td>\n",
       "      <td>0.104649</td>\n",
       "      <td>0.163747</td>\n",
       "      <td>0.944320</td>\n",
       "      <td>02:01</td>\n",
       "    </tr>\n",
       "  </tbody>\n",
       "</table>"
      ],
      "text/plain": [
       "<IPython.core.display.HTML object>"
      ]
     },
     "metadata": {},
     "output_type": "display_data"
    }
   ],
   "source": [
    "learn.opt = learn.create_opt()\n",
    "learn.unfreeze()\n",
    "lr /= 5\n",
    "learn.fit_one_cycle(2, slice(lr/(2.6**4),lr), moms=(0.8,0.7,0.8), wd=0.1)"
   ]
  },
  {
   "cell_type": "code",
   "execution_count": null,
   "metadata": {},
   "outputs": [],
   "source": []
  }
 ],
 "metadata": {
  "kernelspec": {
   "display_name": "Python 3",
   "language": "python",
   "name": "python3"
  }
 },
 "nbformat": 4,
 "nbformat_minor": 2
}
