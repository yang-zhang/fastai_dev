{
 "cells": [
  {
   "cell_type": "code",
   "execution_count": null,
   "metadata": {},
   "outputs": [],
   "source": [
    "#default_exp callback.data"
   ]
  },
  {
   "cell_type": "markdown",
   "metadata": {},
   "source": [
    "# Data Callbacks\n",
    "\n",
    "> Callbacks which work with a learner's data"
   ]
  },
  {
   "cell_type": "code",
   "execution_count": null,
   "metadata": {},
   "outputs": [],
   "source": [
    "#export\n",
    "from local.test import *\n",
    "from local.basics import *"
   ]
  },
  {
   "cell_type": "code",
   "execution_count": null,
   "metadata": {},
   "outputs": [],
   "source": [
    "from local.notebook.showdoc import *\n",
    "from local.test_utils import *"
   ]
  },
  {
   "cell_type": "code",
   "execution_count": null,
   "metadata": {},
   "outputs": [],
   "source": [
    "#export\n",
    "class CollectDataCallback(Callback):\n",
<<<<<<< HEAD
    "    \"Collect all batches, along with `pred` and `loss`, into `self.data`\"\n",
    "    def begin_fit(self): self.data = L()\n",
    "    def after_batch(self): self.data.append(to_detach(to_cpu((self.xb,self.yb,self.pred,self.loss))))"
=======
    "    \"Collect all batches, along with `pred` and `loss`, into `self.data`. Mainly for testing\"\n",
    "    def begin_fit(self): self.data = L()\n",
    "    def after_batch(self): self.data.append(to_detach((self.xb,self.yb,self.pred,self.loss)))"
>>>>>>> master
   ]
  },
  {
   "cell_type": "code",
   "execution_count": null,
   "metadata": {},
   "outputs": [],
   "source": [
    "#export\n",
    "@delegates()\n",
<<<<<<< HEAD
    "class WeightedSampler(Sampler):\n",
    "    def __init__(self, dataset=None, wgts=None, **kwargs):\n",
    "        super().__init__(dataset=dataset, **kwargs)\n",
    "        wgts = array(wgts)\n",
    "        self.wgts = wgts/wgts.sum()\n",
    "        \n",
    "    def get_idxs(self):\n",
    "        n = self.n\n",
    "        return list(np.random.choice(n, n, p=self.wgts))"
=======
    "class WeightedDL(TfmdDL):\n",
    "    def __init__(self, dataset=None, bs=None, wgts=None, **kwargs):\n",
    "        super().__init__(dataset=dataset, bs=bs, **kwargs)\n",
    "        wgts = array([1.]*len(dataset) if wgts is None else wgts)\n",
    "        self.wgts = wgts/wgts.sum()\n",
    "        \n",
    "    def get_idxs(self):\n",
    "        if self.n==0: return []\n",
    "        return list(np.random.choice(self.n, self.n, p=self.wgts))"
>>>>>>> master
   ]
  },
  {
   "cell_type": "code",
   "execution_count": null,
   "metadata": {},
   "outputs": [],
   "source": [
    "#export\n",
    "@patch\n",
    "@delegates(DataSource.databunch)\n",
    "def weighted_databunch(self:DataSource, wgts, bs=16, **kwargs):\n",
<<<<<<< HEAD
    "    wgt_kwargs = dict(sampler=WeightedSampler, wgts=wgts)\n",
    "    xtra_kwargs = [{}] * (self.n_subsets-1)\n",
    "    return dsrc.databunch(bs=bs, dl_kwargs=(wgt_kwargs, *xtra_kwargs), **kwargs)"
=======
    "    xtra_kwargs = [{}] * (self.n_subsets-1)\n",
    "    return dsrc.databunch(bs=bs, dl_type=WeightedDL, dl_kwargs=({'wgts':wgts}, *xtra_kwargs), **kwargs)"
>>>>>>> master
   ]
  },
  {
   "cell_type": "code",
   "execution_count": null,
   "metadata": {},
   "outputs": [],
   "source": [
    "n = 160\n",
    "dsrc = DataSource(torch.arange(n).float())\n",
    "dbch = dsrc.weighted_databunch(wgts=range(n), bs=16)\n",
    "learn = synth_learner(data=dbch, cb_funcs=CollectDataCallback)"
   ]
  },
  {
   "cell_type": "code",
   "execution_count": null,
   "metadata": {},
   "outputs": [
    {
     "name": "stdout",
     "output_type": "stream",
     "text": [
      "(#4) [0,None,None,00:00]\n"
     ]
    },
    {
     "data": {
<<<<<<< HEAD
      "image/png": "iVBORw0KGgoAAAANSUhEUgAAAXAAAAD4CAYAAAD1jb0+AAAABHNCSVQICAgIfAhkiAAAAAlwSFlzAAALEgAACxIB0t1+/AAAADh0RVh0U29mdHdhcmUAbWF0cGxvdGxpYiB2ZXJzaW9uMy4xLjAsIGh0dHA6Ly9tYXRwbG90bGliLm9yZy+17YcXAAAOz0lEQVR4nO3dfaxkdX3H8fdHFnxugO6FbnnoRYtG/nEhtxRLaxSfAI1AYhOJsduUZk2jjbb2YdGk1aR/gPWhaWK0a6FuWkQpohCwtZTSGpNm7V3kYXGloK66uLKXWJ/apHXx2z/mXJ1c5nJn78zcmR/7fiWTOed3zux88rt7P3vmzJnZVBWSpPY8ZdoBJEnrY4FLUqMscElqlAUuSY2ywCWpUZs28sk2b95c8/PzG/mUktS8PXv2PFpVcyvHN7TA5+fnWVxc3MinlKTmJfn6oHFPoUhSoyxwSWqUBS5JjbLAJalRFrgkNcoCl6RGWeCS1CgLXJIaZYFLUqM29JOYkjRN8ztum9pz77/q1WP/Mz0Cl6RGWeCS1Kg1CzzJ05J8Ick9Se5P8u5u/Iwku5M8mOQTSY6bfFxJ0rJhjsD/F7igql4IbAUuTHIecDXwgao6E/gv4IrJxZQkrbRmgVfPD7vVY7tbARcAN3bju4BLJ5JQkjTQUFehJDkG2AP8IvBB4CvAd6vqcLfLAeCUVR67HdgOcPrpp4+aV9KTwDSvBnkyGepNzKp6rKq2AqcC5wIvGLTbKo/dWVULVbUwN/e4/1BCkrROR3QVSlV9F/hX4Dzg+CTLR/CnAt8abzRJ0hMZ5iqUuSTHd8tPB14O7APuBF7X7bYNuHlSISVJjzfMOfAtwK7uPPhTgBuq6tYkXwI+nuTPgC8C10wwpyRphTULvKruBc4eMP5VeufDJUlT4CcxJalRFrgkNcoCl6RGWeCS1CgLXJIaZYFLUqMscElqlAUuSY2ywCWpURa4JDXKApekRlngktQoC1ySGmWBS1KjLHBJapQFLkmNssAlqVEWuCQ1ygKXpEZZ4JLUKAtckhplgUtSoyxwSWqUBS5JjbLAJalRaxZ4ktOS3JlkX5L7k7y1G39XkoeT3N3dLp58XEnSsk1D7HMYeHtV3ZXk2cCeJLd32z5QVe+dXDxJ0mrWLPCqOggc7JZ/kGQfcMqkg0mSntgRnQNPMg+cDezuht6S5N4k1yY5YZXHbE+ymGRxaWlppLCSpJ8ausCTPAv4JPC2qvo+8CHgucBWekfo7xv0uKraWVULVbUwNzc3hsiSJBiywJMcS6+8r6uqmwCq6pGqeqyqfgx8BDh3cjElSSsNcxVKgGuAfVX1/r7xLX27XQbsHX88SdJqhrkK5XzgjcB9Se7uxt4BXJ5kK1DAfuBNE0koSRpomKtQPg9kwKbPjD+OJGlYfhJTkhplgUtSoyxwSWqUBS5JjbLAJalRFrgkNcoCl6RGDfNBHklPQvM7bpt2BI3II3BJapQFLkmNssAlqVEWuCQ1ygKXpEZZ4JLUKAtckhplgUtSoyxwSWqUBS5JjbLAJalRFrgkNcoCl6RGWeCS1CgLXJIaZYFLUqPWLPAkpyW5M8m+JPcneWs3fmKS25M82N2fMPm4kqRlwxyBHwbeXlUvAM4D3pzkLGAHcEdVnQnc0a1LkjbImgVeVQer6q5u+QfAPuAU4BJgV7fbLuDSSYWUJD3eEZ0DTzIPnA3sBk6uqoPQK3ngpFUesz3JYpLFpaWl0dJKkn5i6AJP8izgk8Dbqur7wz6uqnZW1UJVLczNza0noyRpgKEKPMmx9Mr7uqq6qRt+JMmWbvsW4NBkIkqSBhnmKpQA1wD7qur9fZtuAbZ1y9uAm8cfT5K0mk1D7HM+8EbgviR3d2PvAK4CbkhyBfAN4NcnE1GSNMiaBV5VnweyyuaXjTeOJGlYfhJTkho1zCkUSRM0v+O2aUdQozwCl6RGWeCS1CgLXJIaZYFLUqMscElqlAUuSY2ywCWpURa4JDXKApekRlngktQoC1ySGmWBS1KjLHBJapQFLkmNssAlqVEWuCQ1ygKXpEZZ4JLUKAtckhplgUtSoyxwSWqUBS5JjVqzwJNcm+RQkr19Y+9K8nCSu7vbxZONKUlaaZgj8I8CFw4Y/0BVbe1unxlvLEnSWtYs8Kr6HPCdDcgiSToCo5wDf0uSe7tTLCeMLZEkaSjrLfAPAc8FtgIHgfettmOS7UkWkywuLS2t8+kkSSutq8Cr6pGqeqyqfgx8BDj3CfbdWVULVbUwNze33pySpBXWVeBJtvStXgbsXW1fSdJkbFprhyTXAy8BNic5APwp8JIkW4EC9gNvmmBGSdIAaxZ4VV0+YPiaCWSRJB0BP4kpSY1a8whc2kjzO26bdgSpGR6BS1KjLHBJapQFLkmNssAlqVEWuCQ1ygKXpEZZ4JLUKAtckhplgUtSoyxwSWqUBS5JjbLAJalRFrgkNcpvI5xh0/pmvv1XvXoqzyvpyHgELkmNssAlqVEWuCQ1ygKXpEZZ4JLUKAtckhplgUtSoyxwSWqUBS5JjVqzwJNcm+RQkr19YycmuT3Jg939CZONKUlaaZgj8I8CF64Y2wHcUVVnAnd065KkDbRmgVfV54DvrBi+BNjVLe8CLh1zLknSGtb7ZVYnV9VBgKo6mOSk1XZMsh3YDnD66aev8+m0kab1JVqSjszE38Ssqp1VtVBVC3Nzc5N+Okk6aqy3wB9JsgWguz80vkiSpGGst8BvAbZ1y9uAm8cTR5I0rGEuI7we+Hfg+UkOJLkCuAp4RZIHgVd065KkDbTmm5hVdfkqm1425iySpCPgJzElqVEWuCQ1ygKXpEZZ4JLUKAtckhplgUtSoyxwSWqUBS5JjbLAJalRFrgkNcoCl6RGWeCS1CgLXJIaZYFLUqMscElqlAUuSY2ywCWpURa4JDXKApekRlngktQoC1ySGmWBS1KjLHBJapQFLkmN2jTKg5PsB34APAYcrqqFcYSSJK1tpALvvLSqHh3DnyNJOgKeQpGkRo1a4AX8U5I9SbYP2iHJ9iSLSRaXlpZGfDpJ0rJRC/z8qjoHuAh4c5IXr9yhqnZW1UJVLczNzY34dJKkZSMVeFV9q7s/BHwKOHccoSRJa1t3gSd5ZpJnLy8DrwT2jiuYJOmJjXIVysnAp5Is/zkfq6p/HEsqSdKa1l3gVfVV4IVjzCJJOgJeRihJjRrHB3k2xPyO26b23PuvevXUnluSVuMRuCQ1ygKXpEZZ4JLUKAtckhplgUtSoyxwSWpUM5cRTtM0L2GUpNV4BC5JjbLAJalRFrgkNcoCl6RGWeCS1CgLXJIaZYFLUqMscElqlAUuSY2ywCWpURa4JDXKApekRlngktQoC1ySGmWBS1KjLHBJatRIBZ7kwiQPJHkoyY5xhZIkrW3dBZ7kGOCDwEXAWcDlSc4aVzBJ0hMb5Qj8XOChqvpqVf0f8HHgkvHEkiStZZT/E/MU4Jt96weAX165U5LtwPZu9YdJHhjhOSdhM/DotEOswYyjm/V8MPsZZz0fzHDGXP2TxfVk/IVBg6MUeAaM1eMGqnYCO0d4nolKslhVC9PO8UTMOLpZzwezn3HW88HRl3GUUygHgNP61k8FvjVaHEnSsEYp8P8AzkxyRpLjgNcDt4wnliRpLes+hVJVh5O8BfgscAxwbVXdP7ZkG2dmT+/0MePoZj0fzH7GWc8HR1nGVD3utLUkqQF+ElOSGmWBS1KjjqoCT3JakjuT7Etyf5K3duMnJrk9yYPd/QlTznlMki8mubVbPyPJ7i7fJ7o3jaeZ7/gkNyb5cjeXL5rBOfy97me8N8n1SZ427XlMcm2SQ0n29o0NnLf0/GX3NRX3JjlnSvn+vPs535vkU0mO79t2ZZfvgSSvmnS+1TL2bfuDJJVkc7c+E3PYjf9uN0/3J3lP3/hoc1hVR80N2AKc0y0/G/hPel8D8B5gRze+A7h6yjl/H/gYcGu3fgPw+m75w8DvTDnfLuC3u+XjgONnaQ7pfcjsa8DT++bvN6c9j8CLgXOAvX1jA+cNuBj4B3qftzgP2D2lfK8ENnXLV/flOwu4B3gqcAbwFeCYaWTsxk+jd0HF14HNMzaHLwX+GXhqt37SuOZww/7yzuINuBl4BfAAsKUb2wI8MMVMpwJ3ABcAt3Z/+R7t+yV6EfDZKeb7ma4cs2J8luZw+VPCJ9K70upW4FWzMI/A/Ipf7oHzBvwVcPmg/TYy34ptlwHXdctXAlf2bfss8KJpzGE3diPwQmB/X4HPxBzSO3B4+YD9Rp7Do+oUSr8k88DZwG7g5Ko6CNDdnzS9ZPwF8EfAj7v1nwW+W1WHu/UD9ApqWp4DLAF/053m+eskz2SG5rCqHgbeC3wDOAh8D9jDbM3jstXmbdBXVUw772/RO6KFGcqX5LXAw1V1z4pNs5LxecCvdafv/i3JL3XjI+c7Kgs8ybOATwJvq6rvTzvPsiSvAQ5V1Z7+4QG7TvPaz030XiJ+qKrOBv6b3kv/mdGdR76E3svSnweeSe9bM1ea5WtoZ+rnnuSdwGHguuWhAbtteL4kzwDeCfzJoM0DxqYxh5uAE+idxvlD4IYkYQz5jroCT3IsvfK+rqpu6oYfSbKl274FODSleOcDr02yn963O15A74j8+CTLH7qa9lcWHAAOVNXubv1GeoU+K3MI8HLga1W1VFU/Am4CfoXZmsdlq83bzHxVRZJtwGuAN1T3Wp/Zyfdcev9Q39P93pwK3JXk55idjAeAm6rnC/ReXW8eR76jqsC7f/WuAfZV1fv7Nt0CbOuWt9E7N77hqurKqjq1qubpfTXBv1TVG4A7gddNOx9AVX0b+GaS53dDLwO+xIzMYecbwHlJntH9zJczzsw89llt3m4BfqO7kuI84HvLp1o2UpILgT8GXltV/9O36Rbg9UmemuQM4EzgCxudr6ruq6qTqmq++705QO9ChW8zI3MIfJrewRhJnkfvjf9HGcccbsSbDrNyA36V3kuUe4G7u9vF9M4z3wE82N2fOANZX8JPr0J5TveDfQj4e7p3s6eYbSuw2M3jp+m9PJypOQTeDXwZ2Av8Lb13+qc6j8D19M7J/4he0Vyx2rzRe3n9QXpXJtwHLEwp30P0ztMu/758uG//d3b5HgAumtYcrti+n5++iTkrc3gc8Hfd38W7gAvGNYd+lF6SGnVUnUKRpCcTC1ySGmWBS1KjLHBJapQFLkmNssAlqVEWuCQ16v8BOJi5cOQ9ULUAAAAASUVORK5CYII=\n",
=======
      "image/png": "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\n",
>>>>>>> master
      "text/plain": [
       "<Figure size 432x288 with 1 Axes>"
      ]
     },
     "metadata": {
      "needs_background": "light"
     },
     "output_type": "display_data"
    }
   ],
   "source": [
    "learn.fit(1)\n",
<<<<<<< HEAD
    "t = concat(*[o[0][0] for o in learn.collect_data.data])\n",
=======
    "t = concat(*learn.collect_data.data.itemgot(0,0))\n",
>>>>>>> master
    "plt.hist(t);"
   ]
  },
  {
   "cell_type": "markdown",
   "metadata": {},
   "source": [
    "## Export -"
   ]
  },
  {
   "cell_type": "code",
   "execution_count": null,
   "metadata": {},
   "outputs": [
    {
     "name": "stdout",
     "output_type": "stream",
     "text": [
      "Converted 00_test.ipynb.\n",
      "Converted 01_core.ipynb.\n",
<<<<<<< HEAD
      "Converted 01a_torch_core.ipynb.\n",
      "Converted 02_script.ipynb.\n",
      "Converted 03_dataloader.ipynb.\n",
      "Converted 04_transform.ipynb.\n",
      "Converted 05_data_core.ipynb.\n",
      "Converted 06_data_transforms.ipynb.\n",
      "Converted 07_vision_core.ipynb.\n",
      "Converted 08_pets_tutorial.ipynb.\n",
      "Converted 09_vision_augment.ipynb.\n",
      "Converted 11_layers.ipynb.\n",
      "Converted 11a_vision_models_xresnet.ipynb.\n",
      "Converted 12_optimizer.ipynb.\n",
      "Converted 13_learner.ipynb.\n",
      "Converted 14_callback_schedule.ipynb.\n",
      "Converted 14a_callback_data.ipynb.\n",
      "Converted 15_callback_hook.ipynb.\n",
=======
      "Converted 01a_utils.ipynb.\n",
      "Converted 01b_dispatch.ipynb.\n",
      "Converted 01c_transform.ipynb.\n",
      "Converted 02_script.ipynb.\n",
      "Converted 03_torch_core.ipynb.\n",
      "Converted 03a_layers.ipynb.\n",
      "Converted 04_dataloader.ipynb.\n",
      "Converted 05_data_core.ipynb.\n",
      "Converted 06_data_transforms.ipynb.\n",
      "Converted 07_data_block.ipynb.\n",
      "Converted 08_vision_core.ipynb.\n",
      "Converted 09_vision_augment.ipynb.\n",
      "Converted 10_pets_tutorial.ipynb.\n",
      "Converted 11_vision_models_xresnet.ipynb.\n",
      "Converted 12_optimizer.ipynb.\n",
      "Converted 13_learner.ipynb.\n",
      "Converted 13a_metrics.ipynb.\n",
      "Converted 14_callback_schedule.ipynb.\n",
      "Converted 14a_callback_data.ipynb.\n",
      "Converted 15_callback_hook.ipynb.\n",
      "Converted 15a_vision_models_unet.ipynb.\n",
>>>>>>> master
      "Converted 16_callback_progress.ipynb.\n",
      "Converted 17_callback_tracker.ipynb.\n",
      "Converted 18_callback_fp16.ipynb.\n",
      "Converted 19_callback_mixup.ipynb.\n",
<<<<<<< HEAD
      "Converted 20_metrics.ipynb.\n",
      "Converted 21_tutorial_imagenette.ipynb.\n",
      "Converted 22_vision_learner.ipynb.\n",
=======
      "Converted 21_vision_learner.ipynb.\n",
      "Converted 22_tutorial_imagenette.ipynb.\n",
>>>>>>> master
      "Converted 23_tutorial_transfer_learning.ipynb.\n",
      "Converted 30_text_core.ipynb.\n",
      "Converted 31_text_data.ipynb.\n",
      "Converted 32_text_models_awdlstm.ipynb.\n",
      "Converted 33_text_models_core.ipynb.\n",
      "Converted 34_callback_rnn.ipynb.\n",
      "Converted 35_tutorial_wikitext.ipynb.\n",
      "Converted 36_text_models_qrnn.ipynb.\n",
      "Converted 37_text_learner.ipynb.\n",
      "Converted 38_tutorial_ulmfit.ipynb.\n",
      "Converted 40_tabular_core.ipynb.\n",
      "Converted 41_tabular_model.ipynb.\n",
      "Converted 42_tabular_rapids.ipynb.\n",
<<<<<<< HEAD
      "Converted 50_data_block.ipynb.\n",
=======
      "Converted 50_data_block_examples.ipynb.\n",
      "Converted 60_medical_imaging.ipynb.\n",
      "Converted 65_medical_text.ipynb.\n",
>>>>>>> master
      "Converted 90_notebook_core.ipynb.\n",
      "Converted 91_notebook_export.ipynb.\n",
      "Converted 92_notebook_showdoc.ipynb.\n",
      "Converted 93_notebook_export2html.ipynb.\n",
      "Converted 94_notebook_test.ipynb.\n",
      "Converted 95_index.ipynb.\n",
      "Converted 96_data_external.ipynb.\n",
      "Converted 97_utils_test.ipynb.\n",
      "Converted notebook2jekyll.ipynb.\n"
     ]
    }
   ],
   "source": [
    "#hide\n",
    "from local.notebook.export import notebook2script\n",
    "notebook2script(all_fs=True)"
   ]
  },
  {
   "cell_type": "code",
   "execution_count": null,
   "metadata": {},
   "outputs": [],
   "source": []
  }
 ],
 "metadata": {
  "kernelspec": {
   "display_name": "Python 3",
   "language": "python",
   "name": "python3"
  }
 },
 "nbformat": 4,
 "nbformat_minor": 2
}
