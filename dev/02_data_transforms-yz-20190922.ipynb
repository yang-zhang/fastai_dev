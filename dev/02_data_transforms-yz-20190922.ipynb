{
 "cells": [
  {
   "cell_type": "code",
   "execution_count": null,
   "metadata": {},
   "outputs": [],
   "source": [
    "#default_exp data.transform"
   ]
  },
  {
   "cell_type": "code",
   "execution_count": null,
   "metadata": {},
   "outputs": [],
   "source": [
    "#export\n",
    "from local.torch_basics import *\n",
    "from local.test import *\n",
    "from local.notebook.showdoc import show_doc"
   ]
  },
  {
   "cell_type": "code",
   "execution_count": null,
   "metadata": {},
   "outputs": [],
   "source": [
    "from PIL import Image"
   ]
  },
  {
   "cell_type": "markdown",
   "metadata": {},
   "source": [
    "# Transforms"
   ]
  },
  {
   "cell_type": "markdown",
   "metadata": {},
   "source": [
    "## Helpers"
   ]
  },
  {
   "cell_type": "code",
   "execution_count": null,
   "metadata": {},
   "outputs": [],
   "source": [
    "#exports\n",
    "def type_hints(f):\n",
    "    \"Same as `typing.get_type_hints` but returns `{}` if not allowed type\"\n",
    "    return typing.get_type_hints(f) if isinstance(f, typing._allowed_types) else {}"
   ]
  },
  {
   "cell_type": "code",
   "execution_count": null,
   "metadata": {},
   "outputs": [],
   "source": [
    "#export\n",
    "def anno_ret(func):\n",
    "    \"Get the return annotation of `func`\"\n",
    "    if not func: return None\n",
    "    ann = type_hints(func)\n",
    "    if not ann: return None\n",
    "    return ann.get('return')"
   ]
  },
  {
   "cell_type": "code",
   "execution_count": null,
   "metadata": {},
   "outputs": [],
   "source": [
    "#hide\n",
    "def f(x) -> float: return x\n",
    "test_eq(anno_ret(f), float)\n",
    "def f(x) -> Tuple[float,float]: return x\n",
    "test_eq(anno_ret(f), Tuple[float,float])\n",
    "def f(x) -> None: return x\n",
    "test_eq(anno_ret(f), NoneType)\n",
    "def f(x): return x\n",
    "test_eq(anno_ret(f), None)\n",
    "test_eq(anno_ret(None), None)"
   ]
  },
  {
   "cell_type": "code",
   "execution_count": null,
   "metadata": {},
   "outputs": [],
   "source": [
    "#export\n",
    "cmp_instance = functools.cmp_to_key(lambda a,b: 0 if a==b else 1 if issubclass(a,b) else -1)"
   ]
  },
  {
   "cell_type": "code",
   "execution_count": null,
   "metadata": {},
   "outputs": [],
   "source": [
    "td = {int:1, numbers.Number:2, numbers.Integral:3}\n",
    "test_eq(sorted(td, key=cmp_instance), [numbers.Number, numbers.Integral, int])"
   ]
  },
  {
   "cell_type": "code",
   "execution_count": null,
   "metadata": {},
   "outputs": [],
   "source": [
    "#export\n",
    "def _p1_anno(f):\n",
    "    \"Get the annotation of first param of `f`\"\n",
    "    hints = type_hints(f)\n",
    "    ann = [o for n,o in hints.items() if n!='return']\n",
    "    return ann[0] if ann else object"
   ]
  },
  {
   "cell_type": "code",
   "execution_count": null,
   "metadata": {},
   "outputs": [],
   "source": [
    "def _f(a, b): pass\n",
    "test_eq(_p1_anno(_f), object)\n",
    "def _f(a, b)->str: pass\n",
    "test_eq(_p1_anno(_f), object)\n",
    "def _f(a, b:str)->float: pass\n",
    "test_eq(_p1_anno(_f), str)\n",
    "def _f(a:int, b:int)->float: pass\n",
    "test_eq(_p1_anno(_f), int)\n",
    "def _f(a:int, b:str)->float: pass\n",
    "test_eq(_p1_anno(_f), int)\n",
    "test_eq(_p1_anno(attrgetter('foo')), object)"
   ]
  },
  {
   "cell_type": "markdown",
   "metadata": {},
   "source": [
    "## Types"
   ]
  },
  {
   "cell_type": "markdown",
   "metadata": {},
   "source": [
    "`TensorImage`, `TensorImageBW` and `TensorMask` are subclasses of `torch.Tensor` that know how to show themselves."
   ]
  },
  {
   "cell_type": "code",
   "execution_count": null,
   "metadata": {},
   "outputs": [],
   "source": [
    "#export\n",
    "@delegates(plt.subplots, keep=True)\n",
    "def subplots(nrows=1, ncols=1, **kwargs):\n",
    "    fig,ax = plt.subplots(nrows,ncols,**kwargs)\n",
    "    if nrows*ncols==1: ax = array([ax])\n",
    "    return fig,ax"
   ]
  },
  {
   "cell_type": "code",
   "execution_count": null,
   "metadata": {},
   "outputs": [],
   "source": [
    "#export\n",
    "class TensorImageBase(TensorBase):\n",
    "    _show_args = {'cmap':'viridis'}\n",
    "    def show(self, ctx=None, **kwargs):\n",
    "        return show_image(self, ctx=ctx, **{**self._show_args, **kwargs})\n",
    "\n",
    "    def get_ctxs(self, max_n=10, rows=None, cols=None, figsize=None, **kwargs):\n",
    "        n_samples = min(self.shape[0], max_n)\n",
    "        rows = rows or int(np.ceil(math.sqrt(n_samples)))\n",
    "        cols = cols or int(np.ceil(math.sqrt(n_samples)))\n",
    "        figsize = (cols*3, rows*3) if figsize is None else figsize\n",
    "        _,axs = subplots(rows, cols, figsize=figsize)\n",
    "        return axs.flatten()"
   ]
  },
  {
   "cell_type": "code",
   "execution_count": null,
   "metadata": {},
   "outputs": [],
   "source": [
    "#export\n",
    "class TensorImage(TensorImageBase): pass"
   ]
  },
  {
   "cell_type": "code",
   "execution_count": null,
   "metadata": {},
   "outputs": [],
   "source": [
    "#export\n",
    "class TensorImageBW(TensorImage): _show_args = {'cmap':'Greys'}"
   ]
  },
  {
   "cell_type": "code",
   "execution_count": null,
   "metadata": {},
   "outputs": [],
   "source": [
    "#export\n",
    "class TensorMask(TensorImageBase): _show_args = {'alpha':0.5, 'cmap':'tab20'}"
   ]
  },
  {
   "cell_type": "code",
   "execution_count": null,
   "metadata": {},
   "outputs": [],
   "source": [
    "im = Image.open(TEST_IMAGE)"
   ]
  },
  {
   "cell_type": "code",
   "execution_count": null,
   "metadata": {},
   "outputs": [],
   "source": [
    "im_t = TensorImage(array(im))\n",
    "test_eq(type(im_t), TensorImage)"
   ]
  },
  {
   "cell_type": "code",
   "execution_count": null,
   "metadata": {},
   "outputs": [],
   "source": [
    "im_t2 = TensorMask(tensor(1))\n",
    "test_eq(type(im_t2), TensorMask)\n",
    "test_eq(im_t2, tensor(1))"
   ]
  },
  {
   "cell_type": "code",
   "execution_count": null,
   "metadata": {},
   "outputs": [
    {
     "data": {
      "image/png": "[encoded data removed]",
      "text/plain": [
       "<Figure size 144x144 with 1 Axes>"
      ]
     },
     "metadata": {
      "needs_background": "light"
     },
     "output_type": "display_data"
    }
   ],
   "source": [
    "ax = im_t.show(figsize=(2,2))"
   ]
  },
  {
   "cell_type": "code",
   "execution_count": null,
   "metadata": {},
   "outputs": [],
   "source": [
    "test_fig_exists(ax)"
   ]
  },
  {
   "cell_type": "code",
   "execution_count": null,
   "metadata": {},
   "outputs": [],
   "source": [
    "#hide\n",
    "axes = im_t.get_ctxs(1)\n",
    "test_eq(axes.shape,[1])\n",
    "plt.close()\n",
    "axes = im_t.get_ctxs(4)\n",
    "test_eq(axes.shape,[4])\n",
    "plt.close()"
   ]
  },
  {
   "cell_type": "markdown",
   "metadata": {},
   "source": [
    "## TypeDispatch -"
   ]
  },
  {
   "cell_type": "markdown",
   "metadata": {},
   "source": [
    "The following class is the basis that allows us to do type dipatch with type annotations. It contains a dictionary type -> functions and ensures that the proper function is called when passed an object (depending on its type)."
   ]
  },
  {
   "cell_type": "code",
   "execution_count": null,
   "metadata": {},
   "outputs": [],
   "source": [
    "#export\n",
    "class TypeDispatch:\n",
    "    \"Dictionary-like object; `__getitem__` matches keys of types using `issubclass`\"\n",
    "    def __init__(self, *funcs):\n",
    "        self.funcs,self.cache = {},{}\n",
    "        for f in funcs: self.add(f)\n",
    "        self.inst = None\n",
    "\n",
    "    def _reset(self):\n",
    "        self.funcs = {k:self.funcs[k] for k in sorted(self.funcs, key=cmp_instance, reverse=True)}\n",
    "        self.cache = {**self.funcs}\n",
    "\n",
    "    def add(self, f):\n",
    "        \"Add type `t` and function `f`\"\n",
    "        self.funcs[_p1_anno(f) or object] = f\n",
    "        self._reset()\n",
    "\n",
    "    def returns(self, x): return anno_ret(self[type(x)])\n",
    "    def returns_none(self, x):\n",
    "        r = anno_ret(self[type(x)])\n",
    "        return r if r == NoneType else None\n",
    "\n",
    "    def __repr__(self): return str({getattr(k,'__name__',str(k)):v.__name__ for k,v in self.funcs.items()})\n",
    "\n",
    "    def __call__(self, x, *args, **kwargs):\n",
    "        f = self[type(x)]\n",
    "        if not f: return x\n",
    "        if self.inst is not None: f = types.MethodType(f, self.inst)\n",
    "        return f(x, *args, **kwargs)\n",
    "\n",
    "    def __get__(self, inst, owner):\n",
    "        self.inst = inst\n",
    "        return self\n",
    "\n",
    "    def __getitem__(self, k):\n",
    "        \"Find first matching type that is a super-class of `k`\"\n",
    "        if k in self.cache: return self.cache[k]\n",
    "        types = [f for f in self.funcs if issubclass(k,f)]\n",
    "        res = self.funcs[types[0]] if types else None\n",
    "        self.cache[k] = res\n",
    "        return res"
   ]
  },
  {
   "cell_type": "code",
   "execution_count": null,
   "metadata": {},
   "outputs": [
    {
     "data": {
      "text/plain": [
       "{'TensorMask': 'f_bti', 'TensorImage': 'f_fti', 'typing.Collection': 'f_col', 'bool': 'f_bll', 'Integral': 'f_nin', 'Number': 'f_num'}"
      ]
     },
     "execution_count": null,
     "metadata": {},
     "output_type": "execute_result"
    }
   ],
   "source": [
    "def f_col(x:typing.Collection): return x\n",
    "def f_nin(x:numbers.Integral)->int:  return x+1\n",
    "def f_bti(x:TensorMask): return x\n",
    "def f_fti(x:TensorImage): return x\n",
    "def f_bll(x:bool): return x\n",
    "def f_num(x:numbers.Number): return x\n",
    "t = TypeDispatch(f_nin,f_fti,f_num,f_bti,f_bll)\n",
    "\n",
    "test_eq(t[int], f_nin)\n",
    "test_eq(t[str], None)\n",
    "test_eq(t[TensorImage], f_fti)\n",
    "test_eq(t[float], f_num)\n",
    "t.add(f_col)\n",
    "test_eq(t[str], f_col)\n",
    "test_eq(t[int], f_nin)\n",
    "test_eq(t(1), 2)\n",
    "test_eq(t.returns(1), int)\n",
    "t"
   ]
  },
  {
   "cell_type": "code",
   "execution_count": null,
   "metadata": {},
   "outputs": [],
   "source": [
    "def m_nin(self, x:numbers.Integral): return x+1\n",
    "def m_bll(self, x:bool): self.foo='a'\n",
    "def m_num(self, x:numbers.Number): return x\n",
    "\n",
    "t = TypeDispatch(m_nin,m_num,m_bll)\n",
    "class A: f = t\n",
    "a = A()\n",
    "test_eq(a.f(1), 2)\n",
    "test_eq(a.f(1.), 1.)\n",
    "a.f(False)\n",
    "test_eq(a.foo, 'a')"
   ]
  },
  {
   "cell_type": "markdown",
   "metadata": {},
   "source": [
    "## Transform -"
   ]
  },
  {
   "cell_type": "code",
   "execution_count": null,
   "metadata": {},
   "outputs": [],
   "source": [
    "#export\n",
    "_tfm_methods = 'encodes','decodes','setups'\n",
    "\n",
    "class _TfmDict(dict):\n",
    "    def __setitem__(self,k,v):\n",
    "        if k not in _tfm_methods or not isinstance(v,Callable): return super().__setitem__(k,v)\n",
    "        if k not in self: super().__setitem__(k,TypeDispatch())\n",
    "        res = self[k]\n",
    "        res.add(v)"
   ]
  },
  {
   "cell_type": "code",
   "execution_count": null,
   "metadata": {},
   "outputs": [],
   "source": [
    "#export\n",
    "class _TfmMeta(type):\n",
    "    def __new__(cls, name, bases, dict):\n",
    "        res = super().__new__(cls, name, bases, dict)\n",
    "        res.__signature__ = inspect.signature(res.__init__)\n",
    "        return res\n",
    "\n",
    "    def __call__(cls, *args, **kwargs):\n",
    "        f = args[0] if args else None\n",
    "        n = getattr(f,'__name__',None)\n",
    "        for nm in _tfm_methods:\n",
    "            if not hasattr(cls,nm): setattr(cls, nm, TypeDispatch())\n",
    "        if isinstance(f,Callable) and n in _tfm_methods:\n",
    "            getattr(cls,n).add(f)\n",
    "            return f\n",
    "        return super().__call__(*args, **kwargs)\n",
    "\n",
    "    @classmethod\n",
    "    def __prepare__(cls, name, bases): return _TfmDict()"
   ]
  },
  {
   "cell_type": "code",
   "execution_count": null,
   "metadata": {},
   "outputs": [],
   "source": [
    "#export\n",
    "class Transform(metaclass=_TfmMeta):\n",
    "    \"Delegates (`__call__`,`decode`,`setup`) to (`encodes`,`decodes`,`setups`) if `filt` matches\"\n",
    "    filt,init_enc,as_item_force,as_item,order = None,False,None,True,0\n",
    "    def __init__(self, enc=None, dec=None, filt=None, as_item=False):\n",
    "        self.filt,self.as_item = ifnone(filt, self.filt),as_item\n",
    "        self.init_enc = enc or dec\n",
    "        if not self.init_enc: return\n",
    "\n",
    "        # Passing enc/dec, so need to remove (base) class level enc/dec\n",
    "        del(self.__class__.encodes,self.__class__.decodes,self.__class__.setups)\n",
    "        self.encodes,self.decodes,self.setups = TypeDispatch(),TypeDispatch(),TypeDispatch()\n",
    "        if enc:\n",
    "            self.encodes.add(enc)\n",
    "            self.order = getattr(self.encodes,'order',self.order)\n",
    "        if dec: self.decodes.add(dec)\n",
    "\n",
    "    @property\n",
    "    def use_as_item(self): return ifnone(self.as_item_force, self.as_item)\n",
    "    def __call__(self, x, **kwargs): return self._call('encodes', x, **kwargs)\n",
    "    def decode  (self, x, **kwargs): return self._call('decodes', x, **kwargs)\n",
    "    def setup(self, items=None): return self.setups(items)\n",
    "    def __repr__(self): return f'{self.__class__.__name__}: {self.use_as_item} {self.encodes} {self.decodes}'\n",
    "\n",
    "    def _call(self, fn, x, filt=None, **kwargs):\n",
    "        if filt!=self.filt and self.filt is not None: return x\n",
    "        f = getattr(self, fn)\n",
    "        if self.use_as_item or not is_listy(x): return self._do_call(f, x, **kwargs)\n",
    "        res = tuple(self._do_call(f, x_, **kwargs) for x_ in x)\n",
    "        return retain_type(res, x)\n",
    "\n",
    "    def _do_call(self, f, x, **kwargs):\n",
    "        return x if f is None else retain_type(f(x, **kwargs), x, f.returns_none(x))\n",
    "\n",
    "add_docs(Transform, decode=\"Delegate to `decodes` to undo transform\", setup=\"Delegate to `setups` to set up transform\")"
   ]
  },
  {
   "cell_type": "code",
   "execution_count": null,
   "metadata": {},
   "outputs": [
    {
     "data": {
      "text/markdown": [
       "<h2 id=\"Transform\" class=\"doc_header\"><code>class</code> <code>Transform</code><a href=\"\" class=\"source_link\" style=\"float:right\">[source]</a></h2>\n",
       "\n",
       "> <code>Transform</code>(**`enc`**=*`None`*, **`dec`**=*`None`*, **`filt`**=*`None`*, **`as_item`**=*`False`*)\n",
       "\n",
       "Delegates (`__call__`,`decode`,`setup`) to ([`encodes`](/tabular.rapids.html#encodes),`decodes`,[`setups`](/tabular.rapids.html#setups)) if `filt` matches"
      ],
      "text/plain": [
       "<IPython.core.display.Markdown object>"
      ]
     },
     "metadata": {},
     "output_type": "display_data"
    }
   ],
   "source": [
    "show_doc(Transform)"
   ]
  },
  {
   "cell_type": "markdown",
   "metadata": {},
   "source": [
    "A `Transform` is the main building block of the fastai data pipelines. In the most general terms a transform can be any function you want to apply to your data, however the `Transform` class provides several mechanisms that make the process of building them easy and flexible.\n",
    "\n",
    "### The main `Transform` features:\n",
    "\n",
    "- **Type dispatch** - Type annotations are used to determine if a transform should be applied to the given argument. It also gives an option to provide several implementations and it choses the one to run based on the type. This is useful for example when running both independent and dependent variables through the pipeline where some transforms only make sense for one and not the other. Another usecase is designing a transform that handles different data formats. Note that if a transform takes multiple arguments only the type of the first one is used for dispatch. \n",
    "- **Handling of tuples** - When a tuple (or another collection satisfying `is_listy`) of data is passed to a transform it will get applied to each element separately. Most comonly it will be a *(x,y)* tuple, but it can be anything for example a list of images. You can opt out of this behavior by setting the flag `as_item=True`. For transforms that must always operate on the tuple level you can set `as_item_force=True` which takes precedence over `as_item`, an example of that is `PointScaler`.\n",
    "- **Reversability** - A transform can be made reversible by implementing the `decodes` method. This is mainly used to turn something like a category which is encoded as a number back into a label understandable by humans for showing purposes.\n",
    "- **Type propagation** - Whenever possible a transform tries to return data of the same type it received. Mainly used to maintain semantics of things like `TensorImage` which is a thin wrapper of pytorches `Tensor`. You can opt out of this behavior by adding `->None` return type annotation.\n",
    "- **Preprocessing** - The `setup` method can be used to perform any one-time calculations to be later used by the transform, for example generating a vocabulary to encode categorical data.\n",
    "- **Filtering based on the dataset type** - By setting the `filt` flag you can make the transform be used only in a specific `DataSource` subset like in training, but not validation.\n",
    "- **Ordering** - You can set the `order` attribute which the `Pipeline` uses when it needs to merge two lists of transforms.\n",
    "- **Appending new behavior with decorators** - You can easily extend an existing `Transform` by creating `encodes` or `decodes` methods for new data types. You can put those new methods outside the original transform definition and decorate them with the class you wish them patched into. This can be used by the fastai library users to add their own behavior, or multiple modules contributing to the same transform.\n",
    "\n",
    "### Defining a `Transform`\n",
    "There are a few ways to create a transform with different ratios of simplicity to flexibility.\n",
    "- **Extending the `Transform` class** - Use inheritence to implement the methods you want.\n",
    "- **Passing methods to the constructor** - Instantiate the `Transform` class and pass your functions as `enc` and `dec` arguments.\n",
    "- **@Transform decorator** - Turn any function into a `Transform` by just adding a decorator - very straightforward if all you need is a single `encodes` implementation.\n",
    "- **Passing a function to fastai APIs** - Same as above, but when passing a function to other transform aware classes like `Pipeline` or `TfmdDS` you don't even need a decorator. Your function will get converted to a `Transform` automatically."
   ]
  },
  {
   "cell_type": "code",
   "execution_count": null,
   "metadata": {},
   "outputs": [],
   "source": [
    "class A(Transform): pass\n",
    "@A\n",
    "def encodes(self, x): return x+1\n",
    "f1 = A()\n",
    "test_eq(f1(1), 2)\n",
    "\n",
    "class B(A): pass\n",
    "f2 = B()\n",
    "test_eq(f2(1), 2)\n",
    "\n",
    "class A(Transform): pass\n",
    "f3 = A()\n",
    "test_eq_type(f3(2), 2)\n",
    "test_eq_type(f3.decode(2.0), 2.0)"
   ]
  },
  {
   "cell_type": "markdown",
   "metadata": {},
   "source": [
    "`Transform` can be used as a decorator, to turn a function into a `Transform`."
   ]
  },
  {
   "cell_type": "code",
   "execution_count": null,
   "metadata": {},
   "outputs": [],
   "source": [
    "f = Transform(lambda o:o//2)"
   ]
  },
  {
   "cell_type": "code",
   "execution_count": null,
   "metadata": {},
   "outputs": [],
   "source": [
    "test_eq_type(f(2), 1)\n",
    "test_eq_type(f.decode(2.0), 2.0)"
   ]
  },
  {
   "cell_type": "code",
   "execution_count": null,
   "metadata": {},
   "outputs": [],
   "source": [
    "@Transform\n",
    "def f(x): return x//2\n",
    "test_eq_type(f(2), 1)\n",
    "test_eq_type(f.decode(2.0), 2.0)"
   ]
  },
  {
   "cell_type": "markdown",
   "metadata": {},
   "source": [
    "You can derive from `Transform` and use `encodes` for your encoding function."
   ]
  },
  {
   "cell_type": "code",
   "execution_count": null,
   "metadata": {},
   "outputs": [
    {
     "data": {
      "text/plain": [
       "A: False {'TensorImage': 'encodes'} {'TensorImage': 'decodes'}"
      ]
     },
     "execution_count": null,
     "metadata": {},
     "output_type": "execute_result"
    }
   ],
   "source": [
    "class A(Transform):\n",
    "    def encodes(self, x:TensorImage): return -x\n",
    "    def decodes(self, x:TensorImage): return x+1\n",
    "    def setups (self, x:TensorImage): x.foo = 'a'\n",
    "f = A()\n",
    "t = f(im_t)\n",
    "test_eq(t, -im_t)\n",
    "test_eq(f(1), 1)\n",
    "test_eq(type(t), TensorImage)\n",
    "test_eq(f.decode(t), -im_t+1)\n",
    "test_eq(f.decode(1), 1)\n",
    "f.setup(im_t)\n",
    "test_eq(im_t.foo, 'a')\n",
    "t2 = tensor(1)\n",
    "f.setup(t2)\n",
    "assert not hasattr(f2,'foo')\n",
    "f"
   ]
  },
  {
   "cell_type": "markdown",
   "metadata": {},
   "source": [
    "Without return annotation we get an `Int` back since that's what was passed."
   ]
  },
  {
   "cell_type": "code",
   "execution_count": null,
   "metadata": {},
   "outputs": [],
   "source": [
    "class A(Transform): pass\n",
    "@A\n",
    "def encodes(self, x:Int): return x//2\n",
    "@A\n",
    "def encodes(self, x:float): return x+1\n",
    "\n",
    "f = A()\n",
    "test_eq_type(f(Int(2)), Int(1))\n",
    "test_eq_type(f(2), 2)\n",
    "test_eq_type(f(2.), 3.)"
   ]
  },
  {
   "cell_type": "markdown",
   "metadata": {},
   "source": [
    "Without return annotation we don't cast if we're not a subclass of the input type."
   ]
  },
  {
   "cell_type": "code",
   "execution_count": null,
   "metadata": {},
   "outputs": [],
   "source": [
    "class A(Transform):\n",
    "    def encodes(self, x:Int): return x/2\n",
    "    def encodes(self, x:float): return x+1\n",
    "\n",
    "f = A()\n",
    "test_eq_type(f(Int(2)), 1.)\n",
    "test_eq_type(f(2), 2)\n",
    "test_eq_type(f(Float(2.)), Float(3.))"
   ]
  },
  {
   "cell_type": "markdown",
   "metadata": {},
   "source": [
    "With return annotation `None` we get back whatever Python creates usually."
   ]
  },
  {
   "cell_type": "code",
   "execution_count": null,
   "metadata": {},
   "outputs": [],
   "source": [
    "def func(x)->None: return x/2\n",
    "f = Transform(func)\n",
    "test_eq_type(f(2), 1.)\n",
    "test_eq_type(f(2.), 1.)"
   ]
  },
  {
   "cell_type": "markdown",
   "metadata": {},
   "source": [
    "Since `decodes` has no return annotation, but `encodes` created an `Int` and we pass that result here to `decode`, we end up with an `Int`."
   ]
  },
  {
   "cell_type": "code",
   "execution_count": null,
   "metadata": {},
   "outputs": [],
   "source": [
    "def func(x): return Int(x+1)\n",
    "def dec (x): return x-1\n",
    "f = Transform(func,dec)\n",
    "t = f(1)\n",
    "test_eq_type(t, Int(2))\n",
    "test_eq_type(f.decode(t), Int(1))"
   ]
  },
  {
   "cell_type": "markdown",
   "metadata": {},
   "source": [
    "If the transform has `filt` then it's only applied if `filt` param matches."
   ]
  },
  {
   "cell_type": "code",
   "execution_count": null,
   "metadata": {},
   "outputs": [],
   "source": [
    "f.filt = 1\n",
    "test_eq(f(1, filt=1),2)\n",
    "test_eq_type(f(1, filt=0), 1)"
   ]
  },
  {
   "cell_type": "markdown",
   "metadata": {},
   "source": [
    "If `as_item=True` the transform takes tuples as a whole and is applied to them."
   ]
  },
  {
   "cell_type": "code",
   "execution_count": null,
   "metadata": {},
   "outputs": [],
   "source": [
    "class A(Transform): \n",
    "    def encodes(self, xy): x,y=xy; return (x+y,y)\n",
    "    def decodes(self, xy): x,y=xy; return (x-y,y)\n",
    "\n",
    "f = A(as_item=True)\n",
    "t = f((1,2))\n",
    "test_eq(t, (3,2))\n",
    "test_eq(f.decode(t), (1,2))\n",
    "f.filt = 1\n",
    "test_eq(f((1,2), filt=1), (3,2))\n",
    "test_eq(f((1,2), filt=0), (1,2))"
   ]
  },
  {
   "cell_type": "code",
   "execution_count": null,
   "metadata": {},
   "outputs": [],
   "source": [
    "class AL(Transform): pass\n",
    "@AL\n",
    "def encodes(self, x): return L(x_+1 for x_ in x)\n",
    "@AL\n",
    "def decodes(self, x): return L(x_-1 for x_ in x)\n",
    "\n",
    "f = AL(as_item=True)\n",
    "t = f([1,2])\n",
    "test_eq(t, [2,3])\n",
    "test_eq(f.decode(t), [1,2])"
   ]
  },
  {
   "cell_type": "markdown",
   "metadata": {},
   "source": [
    "If `as_item=False` the transform is applied to each element of a listy input."
   ]
  },
  {
   "cell_type": "code",
   "execution_count": null,
   "metadata": {},
   "outputs": [],
   "source": [
    "def neg_int(x:numbers.Integral): return -x\n",
    "\n",
    "f = Transform(neg_int, as_item=False)\n",
    "test_eq(f([1]), (-1,))\n",
    "test_eq(f([1.]), (1.,))\n",
    "test_eq(f([1.,2,3.]), (1.,-2,3.))\n",
    "test_eq(f.decode([1,2]), (1,2))"
   ]
  },
  {
   "cell_type": "code",
   "execution_count": null,
   "metadata": {},
   "outputs": [],
   "source": [
    "#export\n",
    "class InplaceTransform(Transform):\n",
    "    \"A `Transform` that modifies in-place and just returns whatever it's passed\"\n",
    "    def _call(self, fn, x, filt=None, **kwargs):\n",
    "        super()._call(fn,x,filt,**kwargs)\n",
    "        return x"
   ]
  },
  {
   "cell_type": "markdown",
   "metadata": {},
   "source": [
    "## TupleTransform"
   ]
  },
  {
   "cell_type": "code",
   "execution_count": null,
   "metadata": {},
   "outputs": [],
   "source": [
    "#export\n",
    "class TupleTransform(Transform):\n",
    "    \"`Transform` that always treats `as_item` as `False`\"\n",
    "    as_item_force=False"
   ]
  },
  {
   "cell_type": "code",
   "execution_count": null,
   "metadata": {},
   "outputs": [],
   "source": [
    "#export\n",
    "class ItemTransform (Transform):\n",
    "    \"`Transform` that always treats `as_item` as `True`\"\n",
    "    as_item_force=True"
   ]
  },
  {
   "cell_type": "code",
   "execution_count": null,
   "metadata": {},
   "outputs": [],
   "source": [
    "def float_to_int(x:(float,int)): return Int(x)\n",
    "\n",
    "f = TupleTransform(float_to_int)\n",
    "test_eq_type(f([1.]), (Int(1),))\n",
    "test_eq_type(f([1]), (Int(1),))\n",
    "test_eq_type(f(['1']), ('1',))\n",
    "test_eq_type(f([1,'1']), (Int(1),'1'))\n",
    "test_eq(f.decode([1]), [1])\n",
    "\n",
    "test_eq_type(f(TupleBase(1.)), TupleBase(Int(1)))"
   ]
  },
  {
   "cell_type": "code",
   "execution_count": null,
   "metadata": {},
   "outputs": [],
   "source": [
    "class B(TupleTransform): pass\n",
    "class C(TupleTransform): pass\n",
    "f = B()\n",
    "test_eq(f([1]), [1])"
   ]
  },
  {
   "cell_type": "code",
   "execution_count": null,
   "metadata": {},
   "outputs": [],
   "source": [
    "@B\n",
    "def encodes(self, x:int): return x+1\n",
    "@B\n",
    "def encodes(self, x:str): return x+'1'\n",
    "@B\n",
    "def encodes(self, x)->None: return str(x)+'!'\n",
    "\n",
    "b,c = B(),C()\n",
    "test_eq(b([1]), [2])\n",
    "test_eq(b(['1']), ('11',))\n",
    "test_eq(b([1.0]), ('1.0!',))\n",
    "test_eq(c([1]), [1])\n",
    "test_eq(b([1,2]), (2,3))\n",
    "test_eq(b.decode([2]), [2])\n",
    "assert pickle.loads(pickle.dumps(b))"
   ]
  },
  {
   "cell_type": "code",
   "execution_count": null,
   "metadata": {},
   "outputs": [],
   "source": [
    "@B\n",
    "def decodes(self, x:int): return x-1\n",
    "test_eq(b.decode([2]), [1])\n",
    "test_eq(b.decode(('2',)), ('2',))"
   ]
  },
  {
   "cell_type": "markdown",
   "metadata": {},
   "source": [
    "Non-type-constrained functions are applied to all elements of a tuple."
   ]
  },
  {
   "cell_type": "code",
   "execution_count": null,
   "metadata": {},
   "outputs": [],
   "source": [
    "class A(TupleTransform): pass\n",
    "@A\n",
    "def encodes(self, x): return x+1\n",
    "@A\n",
    "def decodes(self, x): return x-1\n",
    "\n",
    "f = A()\n",
    "t = f((1,2.0))\n",
    "test_eq_type(t, (2,3.0))\n",
    "test_eq_type(f.decode(t), (1,2.0))"
   ]
  },
  {
   "cell_type": "markdown",
   "metadata": {},
   "source": [
    "Type-constrained functions are applied to only matching elements of a tuple, and return annotations are only applied where matching."
   ]
  },
  {
   "cell_type": "code",
   "execution_count": null,
   "metadata": {},
   "outputs": [],
   "source": [
    "class B(TupleTransform):\n",
    "    def encodes(self, x:int): return Int(x+1)\n",
    "    def encodes(self, x:str): return x+'1'\n",
    "    def decodes(self, x:Int): return x//2\n",
    "\n",
    "f = B()\n",
    "start = (1.,2,'3')\n",
    "t = f(start)\n",
    "test_eq_type(t, (1.,Int(3),'31'))\n",
    "test_eq(f.decode(t), (1.,Int(1),'31'))"
   ]
  },
  {
   "cell_type": "markdown",
   "metadata": {},
   "source": [
    "The same behavior also works with `typing` module type classes."
   ]
  },
  {
   "cell_type": "code",
   "execution_count": null,
   "metadata": {},
   "outputs": [],
   "source": [
    "class A(Transform): pass\n",
    "@A\n",
    "def encodes(self, x:numbers.Integral): return x+1\n",
    "@A\n",
    "def encodes(self, x:float): return x*3\n",
    "@A\n",
    "def decodes(self, x:int): return x-1\n",
    "\n",
    "f = A()\n",
    "start = 1.0\n",
    "t = f(start)\n",
    "test_eq(t, 3.)\n",
    "test_eq(f.decode(t), 3)\n",
    "\n",
    "f = A(as_item=False)\n",
    "start = (1.,2,3.)\n",
    "t = f(start)\n",
    "test_eq(t, (3.,3,9.))\n",
    "test_eq(f.decode(t), (3.,2,9.))"
   ]
  },
  {
   "cell_type": "markdown",
   "metadata": {},
   "source": [
    "Transform accepts lists"
   ]
  },
  {
   "cell_type": "code",
   "execution_count": null,
   "metadata": {},
   "outputs": [],
   "source": [
    "def a(x): return L(x_+1 for x_ in x)\n",
    "def b(x): return L(x_-1 for x_ in x)\n",
    "f = TupleTransform(a,b)\n",
    "\n",
    "t = f((L(1,2),))\n",
    "test_eq(t, (L(2,3),))\n",
    "test_eq(f.decode(t), (L(1,2),))"
   ]
  },
  {
   "cell_type": "markdown",
   "metadata": {},
   "source": [
    "## Export -"
   ]
  },
  {
   "cell_type": "code",
   "execution_count": null,
   "metadata": {},
   "outputs": [
    {
     "name": "stdout",
     "output_type": "stream",
     "text": [
      "Converted 00_test.ipynb.\n",
      "Converted 01_core.ipynb.\n",
      "Converted 01a_torch_core.ipynb.\n",
      "Converted 01b_script.ipynb.\n",
      "Converted 01c_dataloader.ipynb.\n",
      "Converted 02_data_transforms.ipynb.\n",
      "Converted 03_data_pipeline.ipynb.\n",
      "Converted 05_data_core.ipynb.\n",
      "Converted 06_data_source.ipynb.\n",
      "Converted 07_vision_core.ipynb.\n",
      "Converted 08_pets_tutorial.ipynb.\n",
      "Converted 09_vision_augment.ipynb.\n",
      "Converted 11_layers.ipynb.\n",
      "Converted 11a_vision_models_xresnet.ipynb.\n",
      "Converted 12_optimizer.ipynb.\n",
      "Converted 13_learner.ipynb.\n",
      "Converted 14_callback_schedule.ipynb.\n",
      "Converted 15_callback_hook.ipynb.\n",
      "Converted 16_callback_progress.ipynb.\n",
      "Converted 17_callback_tracker.ipynb.\n",
      "Converted 18_callback_fp16.ipynb.\n",
      "Converted 19_callback_mixup.ipynb.\n",
      "Converted 20_metrics.ipynb.\n",
      "Converted 21_tutorial_imagenette.ipynb.\n",
      "Converted 22_vision_learner.ipynb.\n",
      "Converted 23_tutorial_transfer_learning.ipynb.\n",
      "Converted 30_text_core.ipynb.\n",
      "Converted 31_text_data.ipynb.\n",
      "Converted 32_text_models_awdlstm.ipynb.\n",
      "Converted 33_text_models_core.ipynb.\n",
      "Converted 34_callback_rnn.ipynb.\n",
      "Converted 35_tutorial_wikitext.ipynb.\n",
      "Converted 36_text_models_qrnn.ipynb.\n",
      "Converted 40_tabular_core.ipynb.\n",
      "Converted 41_tabular_model.ipynb.\n",
      "Converted 42_tabular_rapids.ipynb.\n",
      "Converted 50_data_block.ipynb.\n",
      "Converted 90_notebook_core.ipynb.\n",
      "Converted 91_notebook_export.ipynb.\n",
      "Converted 92_notebook_showdoc.ipynb.\n",
      "Converted 93_notebook_export2html.ipynb.\n",
      "Converted 94_index.ipynb.\n",
      "Converted 95_utils_test.ipynb.\n",
      "Converted 96_data_external.ipynb.\n",
      "Converted Untitled.ipynb.\n",
      "Converted notebook2jekyll.ipynb.\n"
     ]
    }
   ],
   "source": [
    "#hide\n",
    "from local.notebook.export import notebook2script\n",
    "notebook2script(all_fs=True)"
   ]
  },
  {
   "cell_type": "code",
   "execution_count": null,
   "metadata": {},
   "outputs": [],
   "source": []
  }
 ],
 "metadata": {
  "kernelspec": {
   "display_name": "Python 3",
   "language": "python",
   "name": "python3"
  }
 },
 "nbformat": 4,
 "nbformat_minor": 2
}
