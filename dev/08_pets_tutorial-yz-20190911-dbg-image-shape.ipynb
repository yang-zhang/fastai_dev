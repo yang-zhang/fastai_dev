{
 "cells": [
  {
   "cell_type": "markdown",
   "metadata": {},
   "source": [
    "https://github.com/fastai/fastai_dev/blob/master/dev/08_pets_tutorial.ipynb"
   ]
  },
  {
   "cell_type": "code",
   "execution_count": 1,
   "metadata": {},
   "outputs": [],
   "source": [
    "from local.imports import *\n",
    "from local.test import *\n",
    "from local.core import *\n",
    "from local.data.all import *\n",
    "from local.vision.core import *"
   ]
  },
  {
   "cell_type": "code",
   "execution_count": 2,
   "metadata": {
    "scrolled": false
   },
   "outputs": [
    {
     "data": {
      "text/plain": [
       "'https://s3.amazonaws.com/fast-ai-imageclas/oxford-iiit-pet.tgz'"
      ]
     },
     "execution_count": 2,
     "metadata": {},
     "output_type": "execute_result"
    }
   ],
   "source": [
    "URLs.PETS"
   ]
  },
  {
   "cell_type": "markdown",
   "metadata": {},
   "source": [
    "get image files and count dimension"
   ]
  },
  {
   "cell_type": "code",
   "execution_count": 3,
   "metadata": {},
   "outputs": [
    {
     "data": {
      "text/plain": [
       "Counter({2: 9, 3: 7381})"
      ]
     },
     "execution_count": 3,
     "metadata": {},
     "output_type": "execute_result"
    }
   ],
   "source": [
    "source = untar_data(URLs.PETS)/\"images\"\n",
    "items = get_image_files(source)\n",
    "item2ndim = {o:array(Image.open(o)).ndim for o in items}\n",
    "\n",
    "Counter(item2ndim.values())"
   ]
  },
  {
   "cell_type": "code",
   "execution_count": 4,
   "metadata": {},
   "outputs": [
    {
     "data": {
      "text/plain": [
       "(9, 7381)"
      ]
     },
     "execution_count": 4,
     "metadata": {},
     "output_type": "execute_result"
    }
   ],
   "source": [
    "items_2d = [k for k,v in item2ndim.items() if v==2]\n",
    "items_3d = list(set(item2ndim.keys())-set(items_2d))\n",
    "len(items_2d), len(items_3d)"
   ]
  },
  {
   "cell_type": "code",
   "execution_count": 5,
   "metadata": {
    "scrolled": true
   },
   "outputs": [
    {
     "data": {
      "text/plain": [
       "array([[ 62,  44,  62, ..., 105, 105, 105],\n",
       "       [ 62,  62,  44, ...,  60,  60,  60],\n",
       "       [ 44,  62,  44, ...,  60, 196, 105],\n",
       "       ...,\n",
       "       [183, 223, 206, ...,  76, 181,  76],\n",
       "       [ 84, 209, 224, ..., 136,  76, 181],\n",
       "       [223, 183, 223, ...,  76,  76, 136]], dtype=uint8)"
      ]
     },
     "execution_count": 5,
     "metadata": {},
     "output_type": "execute_result"
    }
   ],
   "source": [
    "array(Image.open(items_2d[0]))"
   ]
  },
  {
   "cell_type": "code",
   "execution_count": 6,
   "metadata": {},
   "outputs": [
    {
     "data": {
      "text/plain": [
       "array([[[ 67,  68,  63],\n",
       "        [ 63,  71,  58],\n",
       "        [ 63,  71,  56],\n",
       "        ...,\n",
       "        [ 21,  23,  12],\n",
       "        [ 22,  22,  20],\n",
       "        [ 21,  22,  17]],\n",
       "\n",
       "       [[ 68,  71,  60],\n",
       "        [ 67,  71,  57],\n",
       "        [ 67,  71,  56],\n",
       "        ...,\n",
       "        [ 19,  18,  23],\n",
       "        [ 18,  19,  14],\n",
       "        [ 16,  14,  27]],\n",
       "\n",
       "       [[ 68,  73,  69],\n",
       "        [ 71,  70,  65],\n",
       "        [ 70,  70,  62],\n",
       "        ...,\n",
       "        [ 18,  19,  11],\n",
       "        [ 18,  18,  20],\n",
       "        [ 17,  19,   8]],\n",
       "\n",
       "       ...,\n",
       "\n",
       "       [[229, 234, 228],\n",
       "        [228, 233, 227],\n",
       "        [229, 234, 228],\n",
       "        ...,\n",
       "        [220, 227, 219],\n",
       "        [221, 228, 220],\n",
       "        [220, 227, 219]],\n",
       "\n",
       "       [[226, 231, 225],\n",
       "        [227, 232, 226],\n",
       "        [229, 234, 228],\n",
       "        ...,\n",
       "        [221, 228, 220],\n",
       "        [220, 227, 219],\n",
       "        [218, 225, 217]],\n",
       "\n",
       "       [[224, 229, 223],\n",
       "        [226, 231, 225],\n",
       "        [228, 233, 227],\n",
       "        ...,\n",
       "        [223, 230, 222],\n",
       "        [220, 227, 219],\n",
       "        [216, 223, 215]]], dtype=uint8)"
      ]
     },
     "execution_count": 6,
     "metadata": {},
     "output_type": "execute_result"
    }
   ],
   "source": [
    "array(Image.open(items_3d[0]))"
   ]
  },
  {
   "cell_type": "code",
   "execution_count": 7,
   "metadata": {},
   "outputs": [],
   "source": [
    "def resized_image(fn, sz=128):\n",
    "    x = Image.open(fn).resize((sz,sz))\n",
    "    # Convert image to tensor for modeling\n",
    "    return tensor(array(x)).permute(2,0,1).float()/255."
   ]
  },
  {
   "cell_type": "markdown",
   "metadata": {},
   "source": [
    "works fine for 3d arrays"
   ]
  },
  {
   "cell_type": "code",
   "execution_count": 8,
   "metadata": {},
   "outputs": [],
   "source": [
    "_ = [resized_image(o) for o in items_3d]"
   ]
  },
  {
   "cell_type": "code",
   "execution_count": 9,
   "metadata": {},
   "outputs": [
    {
     "ename": "SyntaxError",
     "evalue": "invalid syntax (<ipython-input-9-9a67eeaceabe>, line 1)",
     "output_type": "error",
     "traceback": [
      "\u001b[0;36m  File \u001b[0;32m\"<ipython-input-9-9a67eeaceabe>\"\u001b[0;36m, line \u001b[0;32m1\u001b[0m\n\u001b[0;31m    error on 2d arrays\u001b[0m\n\u001b[0m           ^\u001b[0m\n\u001b[0;31mSyntaxError\u001b[0m\u001b[0;31m:\u001b[0m invalid syntax\n"
     ]
    }
   ],
   "source": [
    "error on 2d arrays"
   ]
  },
  {
   "cell_type": "code",
   "execution_count": null,
   "metadata": {},
   "outputs": [],
   "source": [
    "resized_image(items_2d[0]) "
   ]
  },
  {
   "cell_type": "markdown",
   "metadata": {},
   "source": [
    "2d images"
   ]
  },
  {
   "cell_type": "code",
   "execution_count": null,
   "metadata": {
    "scrolled": true
   },
   "outputs": [],
   "source": [
    "[o.stem for o in items_2d]"
   ]
  },
  {
   "cell_type": "code",
   "execution_count": null,
   "metadata": {},
   "outputs": [],
   "source": []
  },
  {
   "cell_type": "code",
   "execution_count": null,
   "metadata": {},
   "outputs": [],
   "source": []
  },
  {
   "cell_type": "code",
   "execution_count": null,
   "metadata": {},
   "outputs": [],
   "source": []
  },
  {
   "cell_type": "code",
   "execution_count": null,
   "metadata": {},
   "outputs": [],
   "source": []
  },
  {
   "cell_type": "code",
   "execution_count": null,
   "metadata": {},
   "outputs": [],
   "source": []
  }
 ],
 "metadata": {
  "kernelspec": {
   "display_name": "fastai_dev",
   "language": "python",
   "name": "fastai_dev"
  },
  "language_info": {
   "codemirror_mode": {
    "name": "ipython",
    "version": 3
   },
   "file_extension": ".py",
   "mimetype": "text/x-python",
   "name": "python",
   "nbconvert_exporter": "python",
   "pygments_lexer": "ipython3",
   "version": "3.7.4"
  },
  "toc": {
   "base_numbering": 1,
   "nav_menu": {},
   "number_sections": true,
   "sideBar": true,
   "skip_h1_title": false,
   "title_cell": "Table of Contents",
   "title_sidebar": "Contents",
   "toc_cell": false,
   "toc_position": {},
   "toc_section_display": true,
   "toc_window_display": true
  }
 },
 "nbformat": 4,
 "nbformat_minor": 2
}
