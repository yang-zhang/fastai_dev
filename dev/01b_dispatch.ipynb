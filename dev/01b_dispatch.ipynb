{
 "cells": [
  {
   "cell_type": "code",
   "execution_count": null,
   "metadata": {},
   "outputs": [],
   "source": [
    "#default_exp core.dispatch"
   ]
  },
  {
   "cell_type": "code",
   "execution_count": null,
   "metadata": {},
   "outputs": [],
   "source": [
    "#export\n",
    "from local.core.imports import *\n",
    "from local.core.foundation import *\n",
    "from local.core.utils import *\n",
    "from local.test import *"
   ]
  },
  {
   "cell_type": "code",
   "execution_count": null,
   "metadata": {},
   "outputs": [],
   "source": [
    "from local.notebook.showdoc import *"
   ]
  },
  {
   "cell_type": "markdown",
   "metadata": {},
   "source": [
    "# Type dispatch\n",
    "\n",
    "> Basic single and dual parameter dispatch"
   ]
  },
  {
   "cell_type": "markdown",
   "metadata": {},
   "source": [
    "## Helpers"
   ]
  },
  {
   "cell_type": "code",
   "execution_count": null,
   "metadata": {},
   "outputs": [],
   "source": [
    "#exports\n",
    "def type_hints(f):\n",
    "    \"Same as `typing.get_type_hints` but returns `{}` if not allowed type\"\n",
    "    return typing.get_type_hints(f) if isinstance(f, typing._allowed_types) else {}"
   ]
  },
  {
   "cell_type": "code",
   "execution_count": null,
   "metadata": {},
   "outputs": [],
   "source": [
    "#export\n",
    "def anno_ret(func):\n",
    "    \"Get the return annotation of `func`\"\n",
    "    if not func: return None\n",
    "    ann = type_hints(func)\n",
    "    if not ann: return None\n",
    "    return ann.get('return')"
   ]
  },
  {
   "cell_type": "code",
   "execution_count": null,
   "metadata": {},
   "outputs": [],
   "source": [
    "#hide\n",
    "def f(x) -> float: return x\n",
    "test_eq(anno_ret(f), float)\n",
    "def f(x) -> typing.Tuple[float,float]: return x\n",
    "test_eq(anno_ret(f), typing.Tuple[float,float])\n",
    "def f(x) -> None: return x\n",
    "test_eq(anno_ret(f), NoneType)\n",
    "def f(x): return x\n",
    "test_eq(anno_ret(f), None)\n",
    "test_eq(anno_ret(None), None)"
   ]
  },
  {
   "cell_type": "code",
   "execution_count": null,
   "metadata": {},
   "outputs": [],
   "source": [
    "#export\n",
    "cmp_instance = functools.cmp_to_key(lambda a,b: 0 if a==b else 1 if issubclass(a,b) else -1)"
   ]
  },
  {
   "cell_type": "code",
   "execution_count": null,
   "metadata": {},
   "outputs": [],
   "source": [
    "td = {int:1, numbers.Number:2, numbers.Integral:3}\n",
    "test_eq(sorted(td, key=cmp_instance), [numbers.Number, numbers.Integral, int])"
   ]
  },
  {
   "cell_type": "code",
   "execution_count": null,
   "metadata": {},
   "outputs": [],
   "source": [
    "#export\n",
    "def _p2_anno(f):\n",
    "    \"Get the 1st 2 annotations of `f`, defaulting to `object`\"\n",
    "    hints = type_hints(f)\n",
    "    ann = [o for n,o in hints.items() if n!='return']\n",
    "    while len(ann)<2: ann.append(object)\n",
    "    return ann[:2]"
   ]
  },
  {
   "cell_type": "code",
   "execution_count": null,
   "metadata": {},
   "outputs": [],
   "source": [
    "def _f(a): pass\n",
    "test_eq(_p2_anno(_f), (object,object))\n",
    "def _f(a, b): pass\n",
    "test_eq(_p2_anno(_f), (object,object))\n",
    "def _f(a:None, b)->str: pass\n",
    "test_eq(_p2_anno(_f), (NoneType,object))\n",
    "def _f(a:str, b)->float: pass\n",
    "test_eq(_p2_anno(_f), (str,object))\n",
    "def _f(a:None, b:str)->float: pass\n",
    "test_eq(_p2_anno(_f), (NoneType,str))\n",
    "def _f(a:int, b:int)->float: pass\n",
    "test_eq(_p2_anno(_f), (int,int))\n",
    "def _f(self, a:int, b:int): pass\n",
    "test_eq(_p2_anno(_f), (int,int))\n",
    "def _f(a:int, b:str)->float: pass\n",
    "test_eq(_p2_anno(_f), (int,str))\n",
    "test_eq(_p2_anno(attrgetter('foo')), (object,object))"
   ]
  },
  {
   "cell_type": "markdown",
   "metadata": {},
   "source": [
    "## TypeDispatch -"
   ]
  },
  {
   "cell_type": "markdown",
   "metadata": {},
   "source": [
    "The following class is the basis that allows us to do type dipatch with type annotations. It contains a dictionary type -> functions and ensures that the proper function is called when passed an object (depending on its type)."
   ]
  },
  {
   "cell_type": "code",
   "execution_count": null,
   "metadata": {},
   "outputs": [],
   "source": [
    "#export\n",
    "class _TypeDict:\n",
    "    def __init__(self): self.d,self.cache = {},{}\n",
    "\n",
    "    def _reset(self):\n",
    "        self.d = {k:self.d[k] for k in sorted(self.d, key=cmp_instance, reverse=True)}\n",
    "        self.cache = {}\n",
    "\n",
    "    def add(self, t, f):\n",
    "        \"Add type `t` and function `f`\"\n",
    "        if not isinstance(t,tuple): t=(t,)\n",
    "        for t_ in t: self.d[t_] = f\n",
    "        self._reset()\n",
    "\n",
    "    def all_matches(self, k):\n",
    "        \"Find first matching type that is a super-class of `k`\"\n",
    "        if k not in self.cache:\n",
    "            types = [f for f in self.d if k==f or (isinstance(k,type) and issubclass(k,f))]\n",
    "            self.cache[k] = [self.d[o] for o in types]\n",
    "        return self.cache[k]\n",
    "\n",
    "    def __getitem__(self, k):\n",
    "        \"Find first matching type that is a super-class of `k`\"\n",
    "        res = self.all_matches(k)\n",
    "        return res[0] if len(res) else None\n",
    "\n",
    "    def __repr__(self): return self.d.__repr__()\n",
    "    def first(self): return first(self.d.values())"
   ]
  },
  {
   "cell_type": "code",
   "execution_count": null,
   "metadata": {},
   "outputs": [],
   "source": [
    "#export\n",
    "class TypeDispatch:\n",
    "    \"Dictionary-like object; `__getitem__` matches keys of types using `issubclass`\"\n",
    "    def __init__(self, *funcs):\n",
    "        self.funcs = _TypeDict()\n",
    "        for o in funcs: self.add(o)\n",
    "        self.inst = None\n",
    "\n",
    "    def add(self, f):\n",
    "        \"Add type `t` and function `f`\"\n",
    "        a0,a1 = _p2_anno(f)\n",
    "        t = self.funcs.d.get(a0)\n",
    "        if t is None:\n",
    "            t = _TypeDict()\n",
    "            self.funcs.add(a0, t)\n",
    "        t.add(a1, f)\n",
    "\n",
    "    def first(self): return self.funcs.first().first()\n",
    "    def returns(self, x): return anno_ret(self[type(x)])\n",
    "    def returns_none(self, x):\n",
    "        r = anno_ret(self[type(x)])\n",
    "        return r if r == NoneType else None\n",
    "\n",
    "    def _attname(self,k): return getattr(k,'__name__',str(k))\n",
    "    def __repr__(self):\n",
    "        r = [f'({self._attname(k)},{self._attname(l)}) -> {v.__name__}'\n",
    "             for k in self.funcs.d for l,v in self.funcs[k].d.items()]\n",
    "        return '\\n'.join(r)\n",
    "\n",
    "    def __call__(self, *args, **kwargs):\n",
    "        ts = L(args).map(type)[:2]\n",
    "        f = self[tuple(ts)]\n",
    "        if not f: return args[0]\n",
    "        if self.inst is not None: f = types.MethodType(f, self.inst)\n",
    "        return f(*args, **kwargs)\n",
    "\n",
    "    def __get__(self, inst, owner):\n",
    "        self.inst = inst\n",
    "        return self\n",
    "\n",
    "    def __getitem__(self, k):\n",
    "        \"Find first matching type that is a super-class of `k`\"\n",
    "        k = L(k if isinstance(k, tuple) else (k,))\n",
    "        while len(k)<2: k.append(object)\n",
    "        r = self.funcs.all_matches(k[0])\n",
    "        if len(r)==0: return None\n",
    "        for t in r:\n",
    "            o = t[k[1]]\n",
    "            if o is not None: return o\n",
    "        return None"
   ]
  },
  {
   "cell_type": "code",
   "execution_count": null,
   "metadata": {},
   "outputs": [
    {
     "data": {
      "text/plain": [
       "(typing.Collection,object) -> f_col\n",
       "(bool,object) -> f_bll\n",
       "(int,object) -> f_ni2\n",
       "(Integral,object) -> f_nin\n",
       "(Number,object) -> f_num\n",
       "(list,object) -> f_col"
      ]
     },
     "execution_count": null,
     "metadata": {},
     "output_type": "execute_result"
    }
   ],
   "source": [
    "def f_col(x:typing.Collection): return x\n",
    "def f_nin(x:numbers.Integral)->int:  return x+1\n",
    "def f_ni2(x:int): return x\n",
    "def f_bll(x:(bool,list)): return x\n",
    "def f_num(x:numbers.Number): return x\n",
    "t = TypeDispatch(f_nin,f_ni2,f_num,f_bll)\n",
    "\n",
    "t.add(f_ni2) #Should work even if we add the same function twice.\n",
    "test_eq(t[int], f_ni2)\n",
    "test_eq(t[np.int32], f_nin)\n",
    "test_eq(t[str], None)\n",
    "test_eq(t[float], f_num)\n",
    "test_eq(t[bool], f_bll)\n",
    "test_eq(t[list], f_bll)\n",
    "t.add(f_col)\n",
    "test_eq(t[str], f_col)\n",
    "test_eq(t[np.int32], f_nin)\n",
    "o = np.int32(1)\n",
    "test_eq(t(o), 2)\n",
    "test_eq(t.returns(o), int)\n",
    "assert t.first() is not None\n",
    "t"
   ]
  },
  {
   "cell_type": "code",
   "execution_count": null,
   "metadata": {},
   "outputs": [],
   "source": [
    "def m_nin(self, x:(str,numbers.Integral)): return str(x)+'1'\n",
    "def m_bll(self, x:bool): self.foo='a'\n",
    "def m_num(self, x:numbers.Number): return x\n",
    "\n",
    "t = TypeDispatch(m_nin,m_num,m_bll)\n",
    "class A: f = t\n",
    "a = A()\n",
    "test_eq(a.f(1), '11')\n",
    "test_eq(a.f(1.), 1.)\n",
    "test_is(a.f.inst, a)\n",
    "a.f(False)\n",
    "test_eq(a.foo, 'a')"
   ]
  },
  {
   "cell_type": "code",
   "execution_count": null,
   "metadata": {},
   "outputs": [
    {
     "data": {
      "text/plain": [
       "(int,float) -> f2\n",
       "(Integral,object) -> f1"
      ]
     },
     "execution_count": null,
     "metadata": {},
     "output_type": "execute_result"
    }
   ],
   "source": [
    "def f1(x:numbers.Integral, y): return x+1\n",
    "def f2(x:int, y:float): return x+y\n",
    "t = TypeDispatch(f1,f2)\n",
    "\n",
    "test_eq(t[int], f1)\n",
    "test_eq(t[int,int], f1)\n",
    "test_eq(t[int,float], f2)\n",
    "test_eq(t[float,float], None)\n",
    "test_eq(t[np.int32,float], f1)\n",
    "test_eq(t(3,2.0), 5)\n",
    "test_eq(t(3,2), 4)\n",
    "test_eq(t('a'), 'a')\n",
    "t"
   ]
  },
  {
   "cell_type": "markdown",
   "metadata": {},
   "source": [
    "## typedispatch Decorator"
   ]
  },
  {
   "cell_type": "code",
   "execution_count": null,
   "metadata": {},
   "outputs": [],
   "source": [
    "#export\n",
    "class DispatchReg:\n",
    "    \"A global registry for `TypeDispatch` objects keyed by function name\"\n",
    "    def __init__(self): self.d = defaultdict(TypeDispatch)\n",
    "    def __call__(self, f):\n",
    "        nm = f'{f.__qualname__}'\n",
    "        self.d[nm].add(f)\n",
    "        return self.d[nm]\n",
    "\n",
    "typedispatch = DispatchReg()"
   ]
  },
  {
   "cell_type": "code",
   "execution_count": null,
   "metadata": {},
   "outputs": [],
   "source": [
    "@typedispatch\n",
    "def f_td_test(x, y): return f'{x}{y}'\n",
    "@typedispatch\n",
    "def f_td_test(x:numbers.Integral, y): return x+1\n",
    "@typedispatch\n",
    "def f_td_test(x:int, y:float): return x+y\n",
    "\n",
    "test_eq(f_td_test(3,2.0), 5)\n",
    "test_eq(f_td_test(3,2), 4)\n",
    "test_eq(f_td_test('a','b'), 'ab')"
   ]
  },
  {
   "cell_type": "markdown",
   "metadata": {},
   "source": [
    "## Export -"
   ]
  },
  {
   "cell_type": "code",
   "execution_count": null,
   "metadata": {},
   "outputs": [
    {
     "name": "stdout",
     "output_type": "stream",
     "text": [
      "Converted 00_test.ipynb.\n",
      "Converted 01_core.ipynb.\n",
      "Converted 01a_utils.ipynb.\n",
      "Converted 01b_dispatch.ipynb.\n",
      "Converted 01c_torch_core.ipynb.\n",
      "Converted 02_script.ipynb.\n",
      "Converted 03_dataloader.ipynb.\n",
      "Converted 04_transform.ipynb.\n",
      "Converted 05_data_core.ipynb.\n",
      "Converted 06_data_transforms.ipynb.\n",
      "Converted 07_vision_core.ipynb.\n",
      "Converted 08_pets_tutorial.ipynb.\n",
      "Converted 09_vision_augment.ipynb.\n",
      "Converted 10_data_block.ipynb.\n",
      "Converted 11_layers.ipynb.\n",
      "Converted 11a_vision_models_xresnet.ipynb.\n",
      "Converted 12_optimizer.ipynb.\n",
      "Converted 13_learner.ipynb.\n",
      "Converted 14_callback_schedule.ipynb.\n",
      "Converted 14a_callback_data.ipynb.\n",
      "Converted 15_callback_hook.ipynb.\n",
      "Converted 16_callback_progress.ipynb.\n",
      "Converted 17_callback_tracker.ipynb.\n",
      "Converted 18_callback_fp16.ipynb.\n",
      "Converted 19_callback_mixup.ipynb.\n",
      "Converted 20_metrics.ipynb.\n",
      "Converted 21_tutorial_imagenette.ipynb.\n",
      "Converted 22_vision_learner.ipynb.\n",
      "Converted 23_tutorial_transfer_learning.ipynb.\n",
      "Converted 30_text_core.ipynb.\n",
      "Converted 31_text_data.ipynb.\n",
      "Converted 32_text_models_awdlstm.ipynb.\n",
      "Converted 33_text_models_core.ipynb.\n",
      "Converted 34_callback_rnn.ipynb.\n",
      "Converted 35_tutorial_wikitext.ipynb.\n",
      "Converted 36_text_models_qrnn.ipynb.\n",
      "Converted 37_text_learner.ipynb.\n",
      "Converted 38_tutorial_ulmfit.ipynb.\n",
      "Converted 40_tabular_core.ipynb.\n",
      "Converted 41_tabular_model.ipynb.\n",
      "Converted 42_tabular_rapids.ipynb.\n",
      "This cell doesn't have an export destination and was ignored:\n",
      "e\n",
      "Converted 50_data_block_examples.ipynb.\n",
      "Converted 90_notebook_core.ipynb.\n",
      "Converted 91_notebook_export.ipynb.\n",
      "Converted 92_notebook_showdoc.ipynb.\n",
      "Converted 93_notebook_export2html.ipynb.\n",
      "Converted 94_notebook_test.ipynb.\n",
      "Converted 95_index.ipynb.\n",
      "Converted 96_data_external.ipynb.\n",
      "Converted 97_utils_test.ipynb.\n",
      "Converted notebook2jekyll.ipynb.\n"
     ]
    }
   ],
   "source": [
    "#hide\n",
    "from local.notebook.export import notebook2script\n",
    "notebook2script(all_fs=True)"
   ]
  },
  {
   "cell_type": "code",
   "execution_count": null,
   "metadata": {},
   "outputs": [],
   "source": []
  }
 ],
 "metadata": {
  "kernelspec": {
   "display_name": "Python 3",
   "language": "python",
   "name": "python3"
  }
 },
 "nbformat": 4,
 "nbformat_minor": 2
}
