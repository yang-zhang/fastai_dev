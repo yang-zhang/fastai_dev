{
 "cells": [
  {
   "cell_type": "code",
   "execution_count": null,
   "metadata": {},
   "outputs": [],
   "source": [
    "# export\n",
    "from local.core.imports import *\n",
    "from local.notebook.core import *\n",
    "from local.notebook.export import *\n",
    "import nbformat,inspect\n",
    "from nbformat.sign import NotebookNotary\n",
    "from nbconvert.preprocessors import ExecutePreprocessor\n",
    "from local.test import *\n",
    "from local.core.foundation import *"
   ]
  },
  {
   "cell_type": "code",
   "execution_count": null,
   "metadata": {},
   "outputs": [],
   "source": [
    "# default_exp notebook.test"
   ]
  },
  {
   "cell_type": "markdown",
   "metadata": {},
   "source": [
    "# Extracting tests from notebooks\n",
    "\n",
    "> The functions that grab the cells containing tests (filtering with potential flags) and execute them"
   ]
  },
  {
   "cell_type": "code",
   "execution_count": null,
   "metadata": {},
   "outputs": [],
   "source": [
    "# export\n",
    "_re_all_flag = re.compile(\"\"\"\n",
    "# Matches any line with #all_something and catches that something in a group:\n",
    "^         # beginning of line (since re.MULTILINE is passed)\n",
    "\\s*       # any number of whitespace\n",
    "\\#\\s*     # # then any number of whitespace\n",
    "all_(\\S+) # all_ followed by a group with any non-whitespace chars\n",
    "\\s*       # any number of whitespace\n",
    "$         # end of line (since re.MULTILINE is passed)\n",
    "\"\"\", re.IGNORECASE | re.MULTILINE | re.VERBOSE)"
   ]
  },
  {
   "cell_type": "code",
   "execution_count": null,
   "metadata": {},
   "outputs": [],
   "source": [
    "# export\n",
    "def check_all_flag(cells):\n",
    "    for cell in cells:\n",
    "        if check_re(cell, _re_all_flag): return check_re(cell, _re_all_flag).groups()[0]"
   ]
  },
  {
   "cell_type": "code",
   "execution_count": null,
   "metadata": {},
   "outputs": [],
   "source": [
    "nb = read_nb(\"35_tutorial_wikitext.ipynb\")\n",
    "test_eq(check_all_flag(nb['cells']), 'slow')\n",
    "nb = read_nb(\"91_notebook_export.ipynb\")\n",
    "assert check_all_flag(nb['cells']) is None"
   ]
  },
  {
   "cell_type": "code",
   "execution_count": null,
   "metadata": {},
   "outputs": [],
   "source": [
    "# export\n",
    "_re_flags = re.compile(\"\"\"\n",
    "# Matches any line with a test flad and catches it in a group:\n",
    "^               # beginning of line (since re.MULTILINE is passed)\n",
    "\\s*             # any number of whitespace\n",
    "\\#\\s*           # # then any number of whitespace\n",
    "(slow|cuda|cpp) # all test flags\n",
    "\\s*             # any number of whitespace\n",
    "$               # end of line (since re.MULTILINE is passed)\n",
    "\"\"\", re.IGNORECASE | re.MULTILINE | re.VERBOSE)"
   ]
  },
  {
   "cell_type": "code",
   "execution_count": null,
   "metadata": {},
   "outputs": [],
   "source": [
    "# export\n",
    "def get_cell_flags(cell):\n",
    "    if cell['cell_type'] != 'code': return []\n",
    "    return _re_flags.findall(cell['source'])"
   ]
  },
  {
   "cell_type": "code",
   "execution_count": null,
   "metadata": {},
   "outputs": [],
   "source": [
    "test_eq(get_cell_flags({'cell_type': 'code', 'source': \"#hide\\n# slow\\n\"}), ['slow'])\n",
    "test_eq(get_cell_flags({'cell_type': 'code', 'source': \"#hide\\n# slow\\n # cuda\"}), ['slow', 'cuda'])\n",
    "test_eq(get_cell_flags({'cell_type': 'markdown', 'source': \"#hide\\n# slow\\n # cuda\"}), [])\n",
    "test_eq(get_cell_flags({'cell_type': 'code', 'source': \"#hide\\n\"}), [])"
   ]
  },
  {
   "cell_type": "code",
   "execution_count": null,
   "metadata": {},
   "outputs": [],
   "source": [
    "# export\n",
    "def _add_import_cell(mod):\n",
    "    \"Return an import cell for `mod`\"\n",
    "    return {'cell_type': 'code',\n",
    "            'execution_count': None,\n",
    "            'metadata': {'hide_input': True},\n",
    "            'outputs': [],\n",
    "            'source': f\"\\nfrom local.{mod} import *\"}"
   ]
  },
  {
   "cell_type": "code",
   "execution_count": null,
   "metadata": {},
   "outputs": [],
   "source": [
    "# export\n",
    "_re_is_export = re.compile(r\"\"\"\n",
    "# Matches any text with #export or #exports flag:\n",
    "^         # beginning of line (since re.MULTILINE is passed)\n",
    "\\s*       # any number of whitespace\n",
    "\\#\\s*     # # then any number of whitespace\n",
    "exports?  # export or exports\n",
    "\\s*       # any number of whitespace\n",
    "\"\"\", re.IGNORECASE | re.MULTILINE | re.VERBOSE)"
   ]
  },
  {
   "cell_type": "code",
   "execution_count": null,
   "metadata": {},
   "outputs": [],
   "source": [
    "# export\n",
    "_re_has_import = re.compile(r\"\"\"\n",
    "# Matches any text with import statement:\n",
    "^         # beginning of line (since re.MULTILINE is passed)\n",
    "\\s*       # any number of whitespace\n",
    "import    # # then any number of whitespace\n",
    "\\s+\n",
    "|\n",
    "\\s*\n",
    "from\n",
    "\\s+\\S+\\s+\n",
    "import\n",
    "\\s+\n",
    "\"\"\", re.IGNORECASE | re.MULTILINE | re.VERBOSE)"
   ]
  },
  {
   "cell_type": "code",
   "execution_count": null,
   "metadata": {},
   "outputs": [],
   "source": [
    "# export\n",
    "class NoExportPreprocessor(ExecutePreprocessor):\n",
    "    \"An `ExecutePreprocessor` that executes not exported cells\"\n",
    "    @delegates(ExecutePreprocessor.__init__)\n",
    "    def __init__(self, flags, **kwargs):\n",
    "        self.flags = flags\n",
    "        super().__init__(**kwargs)\n",
    "\n",
    "    def preprocess_cell(self, cell, resources, index):\n",
    "        if 'source' not in cell or cell['cell_type'] != \"code\": return cell, resources\n",
    "        #if _re_is_export.search(cell['source']) and not _re_has_import.search(cell['source']):\n",
    "        #    return cell, resources\n",
    "        for f in get_cell_flags(cell):\n",
    "            if f not in self.flags:  return cell, resources\n",
    "        res = super().preprocess_cell(cell, resources, index)\n",
    "        return res"
   ]
  },
  {
   "cell_type": "code",
   "execution_count": null,
   "metadata": {},
   "outputs": [],
   "source": [
    "# export\n",
    "def test_nb(fn, flags=None):\n",
    "    \"Execute `nb` (or only the `show_doc` cells) with `metadata`\"\n",
    "    os.environ[\"IN_TEST\"] = '1'\n",
    "    try:\n",
    "        nb = read_nb(fn)\n",
    "        all_flag = check_all_flag(nb['cells'])\n",
    "        if all_flag is not None and all_flag not in L(flags): return\n",
    "        mod = find_default_export(nb['cells'])\n",
    "        #if mod is not None: nb['cells'].insert(0, _add_import_cell(mod))\n",
    "        ep = NoExportPreprocessor(L(flags), timeout=600, kernel_name='python3')\n",
    "        pnb = nbformat.from_dict(nb)\n",
    "        ep.preprocess(pnb)\n",
    "    except Exception as e:\n",
    "        print(f\"Error in {fn}\")\n",
    "        raise e\n",
    "    finally: os.environ.pop(\"IN_TEST\")"
   ]
  },
  {
   "cell_type": "code",
   "execution_count": null,
   "metadata": {},
   "outputs": [],
   "source": [
    "test_nb(\"07_vision_core.ipynb\")"
   ]
  },
  {
   "cell_type": "markdown",
   "metadata": {},
   "source": [
    "## Export-"
   ]
  },
  {
   "cell_type": "code",
   "execution_count": null,
   "metadata": {},
   "outputs": [],
   "source": [
    "#hide\n",
    "from local.notebook.export import notebook2script\n",
    "notebook2script(all_fs=True)"
   ]
  },
  {
   "cell_type": "code",
   "execution_count": null,
   "metadata": {},
   "outputs": [],
   "source": []
  }
 ],
 "metadata": {
  "kernelspec": {
   "display_name": "Python 3",
   "language": "python",
   "name": "python3"
  }
 },
 "nbformat": 4,
 "nbformat_minor": 2
}
